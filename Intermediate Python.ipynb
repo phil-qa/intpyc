{
 "cells": [
  {
   "cell_type": "markdown",
   "id": "32e442fd-adff-4e67-b33c-a5b8eb5764ca",
   "metadata": {},
   "source": [
    "# Inermediate Python\r\n",
    "## introduction \r\n",
    "These course notes map to the delivery from Mark   \r\n",
    "- Functions \r\n",
    "- Jupyter Notebook to Standalone Script\r\n",
    "- Advanced Collections\r\n",
    "- Functional Programming for Data Analysis\r\n",
    "- Modules and Packages\r\n",
    "- Error Handling and Exceptions\r\n",
    "- Lightweight Testing\r\n",
    "- Web-based API and JSON\r\n",
    "\r\n",
    "## Course purpose \r\n",
    "To elevate students from a range of python capabilities from rusty to experienced to a common understanding of the language.\r\n",
    "\r\n",
    "- Create well organized and efficient code using functions and modules\r\n",
    "- Create well organized and efficient code from Jupyter Lab notebooks\r\n",
    "- Use advanced collections to support data processing in a more Pythonic manner.\r\n",
    "- Use functional programming to phrase data transformations clearly\r\n",
    "- Create well organised and efficient code using functions and modules\r\n",
    "- Build robust applications with error trapping and reporting\r\n",
    "- Identify opportunities to apply lightweight testing in reusable Python modules\r\n",
    "- Recognize different data structure and serialization formats\r\n",
    "- Use Python to create well—formed HTTP(S) requests to web-based APIs and successfully decode their responses\r\n"
   ]
  },
  {
   "cell_type": "markdown",
   "id": "60b9b638-fb1d-4972-b4a7-7682ae9b06c8",
   "metadata": {},
   "source": [
    "## Part 1 - setting expectations\n"
   ]
  },
  {
   "cell_type": "markdown",
   "id": "1c0cd14f-9f5f-47b5-aa9a-92e31d822ea8",
   "metadata": {},
   "source": [
    "## Part 2 Functions"
   ]
  },
  {
   "cell_type": "code",
   "execution_count": 11,
   "id": "ecc69c3d-2ee4-40fb-9ede-1b14f5ae429f",
   "metadata": {},
   "outputs": [],
   "source": [
    "#examples \n",
    "def make_stars():\n",
    "    print('*' * 8)\n",
    "    "
   ]
  },
  {
   "cell_type": "code",
   "execution_count": 13,
   "id": "9537cf35-5ea1-4f83-9daa-2843e56b8116",
   "metadata": {},
   "outputs": [
    {
     "data": {
      "text/plain": [
       "<function __main__.make_stars()>"
      ]
     },
     "execution_count": 13,
     "metadata": {},
     "output_type": "execute_result"
    }
   ],
   "source": [
    "make_stars"
   ]
  },
  {
   "cell_type": "code",
   "execution_count": 15,
   "id": "ecd201f6-a562-47b4-a835-22e72fe6ae91",
   "metadata": {},
   "outputs": [
    {
     "data": {
      "text/plain": [
       "function"
      ]
     },
     "execution_count": 15,
     "metadata": {},
     "output_type": "execute_result"
    }
   ],
   "source": [
    "type(make_stars)"
   ]
  },
  {
   "cell_type": "code",
   "execution_count": 17,
   "id": "8f9a68d6-62b8-4703-84aa-8ae952178841",
   "metadata": {},
   "outputs": [
    {
     "name": "stdout",
     "output_type": "stream",
     "text": [
      "********\n"
     ]
    },
    {
     "data": {
      "text/plain": [
       "NoneType"
      ]
     },
     "execution_count": 17,
     "metadata": {},
     "output_type": "execute_result"
    }
   ],
   "source": [
    "type(make_stars())"
   ]
  },
  {
   "cell_type": "code",
   "execution_count": 75,
   "id": "b3cff112-470c-4a9f-ab13-0e084d756769",
   "metadata": {},
   "outputs": [
    {
     "name": "stdout",
     "output_type": "stream",
     "text": [
      "['__annotations__', '__builtins__', '__call__', '__class__', '__closure__', '__code__', '__defaults__', '__delattr__', '__dict__', '__dir__', '__doc__', '__eq__', '__format__', '__ge__', '__get__', '__getattribute__', '__getstate__', '__globals__', '__gt__', '__hash__', '__init__', '__init_subclass__', '__kwdefaults__', '__le__', '__lt__', '__module__', '__name__', '__ne__', '__new__', '__qualname__', '__reduce__', '__reduce_ex__', '__repr__', '__setattr__', '__sizeof__', '__str__', '__subclasshook__', '__type_params__']\n"
     ]
    }
   ],
   "source": [
    "print(dir(make_stars))"
   ]
  },
  {
   "cell_type": "markdown",
   "id": "4d8844b2-44cb-4cb3-a643-58172f36402e",
   "metadata": {},
   "source": [
    "The point is made tat even though some of the dunders are listed, it may not be the case that they are fully implemented"
   ]
  },
  {
   "cell_type": "code",
   "execution_count": 24,
   "id": "fbb4137b-8acf-405b-89ae-461bf431c99b",
   "metadata": {},
   "outputs": [],
   "source": [
    "def c_to_f(cel):\n",
    "    fah = cel * 9/5 + 32\n",
    "    return fah\n",
    "    "
   ]
  },
  {
   "cell_type": "code",
   "execution_count": 30,
   "id": "65a14383-2d47-4056-ac05-73e71513dd1c",
   "metadata": {},
   "outputs": [
    {
     "name": "stdout",
     "output_type": "stream",
     "text": [
      "212.0\n",
      "188.6\n"
     ]
    }
   ],
   "source": [
    "print(c_to_f(100))\n",
    "print(c_to_f(0x57))\n"
   ]
  },
  {
   "cell_type": "markdown",
   "id": "60bc3403-6fe9-4ac3-9857-50fa01a4b782",
   "metadata": {},
   "source": [
    "***note*** there is nothing that stops passing invalid values into the function. that is to say there is nothing programatically in there to do that, this needs to be considerd as Python is dynamically typed  To assit us in Python, we can add hints typehints, this is optionsl, and is considered to be documentation: "
   ]
  },
  {
   "cell_type": "code",
   "execution_count": 35,
   "id": "32c07812-de8e-4c6f-b5c9-a200c1c6d98d",
   "metadata": {},
   "outputs": [],
   "source": [
    "def c_to_f(cel : float) -> float:\n",
    "    fah = cel * 9/5 + 32\n",
    "    return fah"
   ]
  },
  {
   "cell_type": "markdown",
   "id": "125064b2-cbf8-4884-b63b-ff08733a1414",
   "metadata": {},
   "source": [
    "This can also be supported by thetyping module in later Python versions. However this is good practice. Note that help wil;l respond to this by showing the type signature. doing dir on this will show annotations in the dunder list "
   ]
  },
  {
   "cell_type": "code",
   "execution_count": 38,
   "id": "da617f4c-0fc7-4060-b908-bde422bf2153",
   "metadata": {},
   "outputs": [
    {
     "name": "stdout",
     "output_type": "stream",
     "text": [
      "Help on function c_to_f in module __main__:\n",
      "\n",
      "c_to_f(cel: float) -> float\n",
      "\n",
      "None\n",
      "['__annotations__', '__builtins__', '__call__', '__class__', '__closure__', '__code__', '__defaults__', '__delattr__', '__dict__', '__dir__', '__doc__', '__eq__', '__format__', '__ge__', '__get__', '__getattribute__', '__getstate__', '__globals__', '__gt__', '__hash__', '__init__', '__init_subclass__', '__kwdefaults__', '__le__', '__lt__', '__module__', '__name__', '__ne__', '__new__', '__qualname__', '__reduce__', '__reduce_ex__', '__repr__', '__setattr__', '__sizeof__', '__str__', '__subclasshook__', '__type_params__']\n",
      "{'cel': <class 'float'>, 'return': <class 'float'>}\n"
     ]
    }
   ],
   "source": [
    "print (help(c_to_f))\n",
    "\n",
    "print(dir(c_to_f))\n",
    "\n",
    "print(c_to_f.__annotations__)\n"
   ]
  },
  {
   "cell_type": "markdown",
   "id": "1d7505e1-1107-4d44-ada4-fe5155540293",
   "metadata": {},
   "source": [
    "***Note*** This does not stop us passing incorrect or malformed data int the function, but it does help a collaborative environment with telling people what is expected.   \n",
    "***Note*** The data in `__annotations__' is in a dictionary format so we could address each key if needed.   \n",
    "\n",
    "### docstring \n",
    "we can also use docstring to give more detailed information that can be of assistance to other developers. \n"
   ]
  },
  {
   "cell_type": "code",
   "execution_count": 43,
   "id": "e5e3fd65-7608-4d58-88ec-00e07e479e56",
   "metadata": {},
   "outputs": [],
   "source": [
    "def c_to_f(cel : float) -> float:\n",
    "    \"\"\" \n",
    "    Function to convert Celcius to Farenheight\n",
    "    >>>c_to_f(100)\n",
    "    212.0\n",
    "    \"\"\"\n",
    "    fah = cel * 9/5 + 32\n",
    "    return fah"
   ]
  },
  {
   "cell_type": "markdown",
   "id": "620a2355-549c-4714-8333-e88395c8f34d",
   "metadata": {},
   "source": [
    "***Note*** in the example we also include a string for inline testing. \n",
    "Worth looking at the dir on this now "
   ]
  },
  {
   "cell_type": "code",
   "execution_count": 46,
   "id": "88495074-a57d-4698-88f0-4041f6704f48",
   "metadata": {},
   "outputs": [
    {
     "name": "stdout",
     "output_type": "stream",
     "text": [
      "['__annotations__', '__builtins__', '__call__', '__class__', '__closure__', '__code__', '__defaults__', '__delattr__', '__dict__', '__dir__', '__doc__', '__eq__', '__format__', '__ge__', '__get__', '__getattribute__', '__getstate__', '__globals__', '__gt__', '__hash__', '__init__', '__init_subclass__', '__kwdefaults__', '__le__', '__lt__', '__module__', '__name__', '__ne__', '__new__', '__qualname__', '__reduce__', '__reduce_ex__', '__repr__', '__setattr__', '__sizeof__', '__str__', '__subclasshook__', '__type_params__']\n"
     ]
    }
   ],
   "source": [
    "print(dir(c_to_f))\n"
   ]
  },
  {
   "cell_type": "code",
   "execution_count": 48,
   "id": "0b9331f2-4159-4a16-a36d-c20dfa2d4346",
   "metadata": {},
   "outputs": [
    {
     "data": {
      "text/plain": [
       "' \\n    Function to convert Celcius to Farenheight\\n    >>>c_to_f(100)\\n    212.0\\n    '"
      ]
     },
     "execution_count": 48,
     "metadata": {},
     "output_type": "execute_result"
    }
   ],
   "source": [
    "c_to_f.__doc__"
   ]
  },
  {
   "cell_type": "code",
   "execution_count": 50,
   "id": "4b32236b-c2f8-4096-9c42-ee91c6602fd6",
   "metadata": {},
   "outputs": [
    {
     "name": "stdout",
     "output_type": "stream",
     "text": [
      "Help on function c_to_f in module __main__:\n",
      "\n",
      "c_to_f(cel: float) -> float\n",
      "    Function to convert Celcius to Farenheight\n",
      "    >>>c_to_f(100)\n",
      "    212.0\n",
      "\n"
     ]
    }
   ],
   "source": [
    "help(c_to_f) # this gets its values from __doc__"
   ]
  },
  {
   "cell_type": "markdown",
   "id": "4ef24ad9-b6ce-4a7d-add1-be744f5cf693",
   "metadata": {},
   "source": [
    "An example when things are not right \n"
   ]
  },
  {
   "cell_type": "code",
   "execution_count": 61,
   "id": "4817e764-88a0-4fe7-aaaf-2de993bfb15f",
   "metadata": {},
   "outputs": [],
   "source": [
    "def calc_sale_price(price, disc):\n",
    "    discount = price * disc/100\n",
    "    saleprice = price - discount\n",
    "    return saleprice\n",
    "    "
   ]
  },
  {
   "cell_type": "markdown",
   "id": "626c732c-a3ce-44a2-9af1-1df06d254bc7",
   "metadata": {},
   "source": [
    "Without documentation there is a posibility that these are in the wrong order we don't know because there is no positional data here. the example is if we get them the wrong way roud then the item reduction is a very different thing.    \n",
    "this can be done in documentation but it is better to do named arguments. \n",
    "\n"
   ]
  },
  {
   "cell_type": "code",
   "execution_count": 66,
   "id": "5ca6db09-b5eb-44e7-b32d-6fe7fc462a65",
   "metadata": {},
   "outputs": [
    {
     "name": "stdout",
     "output_type": "stream",
     "text": [
      "good call 90.0\n",
      "bad call 0.0\n",
      "with good call 90.0\n"
     ]
    }
   ],
   "source": [
    "print ('good call ' + str(calc_sale_price(100, 10)))\n",
    "print ('bad call ' + str(calc_sale_price(10,100)))\n",
    "\n",
    "print ('with good call ' + str(calc_sale_price(price=100, disc=10)))\n",
    "\n"
   ]
  },
  {
   "cell_type": "code",
   "execution_count": 68,
   "id": "4086c03a-afe2-4cc2-a583-d399b895746b",
   "metadata": {},
   "outputs": [],
   "source": [
    "#tightening the operation by using enforced name parameter \n",
    "def calc_sale_price(*, price, disc):\n",
    "    discount = price * disc/100\n",
    "    saleprice = price - discount\n",
    "    return saleprice"
   ]
  },
  {
   "cell_type": "code",
   "execution_count": 70,
   "id": "184b1e07-4663-424c-8b1f-2b1d2a7c7e93",
   "metadata": {},
   "outputs": [
    {
     "ename": "TypeError",
     "evalue": "calc_sale_price() takes 0 positional arguments but 2 were given",
     "output_type": "error",
     "traceback": [
      "\u001b[1;31m---------------------------------------------------------------------------\u001b[0m",
      "\u001b[1;31mTypeError\u001b[0m                                 Traceback (most recent call last)",
      "Cell \u001b[1;32mIn[70], line 1\u001b[0m\n\u001b[1;32m----> 1\u001b[0m calc_sale_price(\u001b[38;5;241m100\u001b[39m,\u001b[38;5;241m10\u001b[39m)\n",
      "\u001b[1;31mTypeError\u001b[0m: calc_sale_price() takes 0 positional arguments but 2 were given"
     ]
    }
   ],
   "source": [
    "calc_sale_price(100,10)"
   ]
  },
  {
   "cell_type": "code",
   "execution_count": 72,
   "id": "d114f5c7-14ad-4656-83fe-9d2b938af8b6",
   "metadata": {},
   "outputs": [
    {
     "data": {
      "text/plain": [
       "90.0"
      ]
     },
     "execution_count": 72,
     "metadata": {},
     "output_type": "execute_result"
    }
   ],
   "source": [
    "calc_sale_price(price=100, disc=10)"
   ]
  },
  {
   "cell_type": "markdown",
   "id": "f5f00e6c-9cad-4a4b-b861-5de1e5d37a46",
   "metadata": {},
   "source": [
    "***Note*** we can also use the / to enforce positional \n",
    "\n",
    "An example of both is sorted"
   ]
  },
  {
   "cell_type": "code",
   "execution_count": 78,
   "id": "80c8a145-f059-4586-88fe-f015edc43112",
   "metadata": {},
   "outputs": [
    {
     "name": "stdout",
     "output_type": "stream",
     "text": [
      "Help on built-in function sorted in module builtins:\n",
      "\n",
      "sorted(iterable, /, *, key=None, reverse=False)\n",
      "    Return a new list containing all items from the iterable in ascending order.\n",
      "\n",
      "    A custom key function can be supplied to customize the sort order, and the\n",
      "    reverse flag can be set to request the result in descending order.\n",
      "\n"
     ]
    }
   ],
   "source": [
    "help(sorted)"
   ]
  },
  {
   "cell_type": "code",
   "execution_count": 80,
   "id": "bde18c7e-9fee-4ce9-bacd-e79b4fb39fe2",
   "metadata": {},
   "outputs": [
    {
     "name": "stdout",
     "output_type": "stream",
     "text": [
      "[66, 44, 22, 10, 3]\n"
     ]
    }
   ],
   "source": [
    "data = [10,22,3,44,66]\n",
    "print (sorted(data, reverse=True))\n"
   ]
  },
  {
   "cell_type": "code",
   "execution_count": 82,
   "id": "9981de90-63d7-47d8-b9d7-91e2d1b054ed",
   "metadata": {},
   "outputs": [
    {
     "data": {
      "text/plain": [
       "['10', '12', '100']"
      ]
     },
     "execution_count": 82,
     "metadata": {},
     "output_type": "execute_result"
    }
   ],
   "source": [
    "data = [\"10\", \"100\", \"12\"]\n",
    "sorted (data, key=int, reverse=False)"
   ]
  },
  {
   "cell_type": "markdown",
   "id": "8b1798bf-5ad1-4923-afba-3ad9f66475ab",
   "metadata": {},
   "source": [
    "***Note*** the key of course can be anything but in this case we are simply passing a builtin, that in this case is the builtin int tha twill operate on each of the elements before sorted executes the sorting function."
   ]
  },
  {
   "cell_type": "markdown",
   "id": "5cfe8095-a807-42de-8dc2-2eff79ac2e50",
   "metadata": {},
   "source": [
    "### Identifying iterable   \n",
    "We can see the iteration by looking at the object for `__iter__`"
   ]
  },
  {
   "cell_type": "markdown",
   "id": "ae6ee19d-48f4-49d4-b849-c4334e89f9e2",
   "metadata": {},
   "source": [
    "## Variadic functions\n",
    "\n",
    "When we declare a variadic funtion then the variable parameters are put to a tuple \n"
   ]
  },
  {
   "cell_type": "code",
   "execution_count": 87,
   "id": "b101173a-d1ea-47e5-9fe0-e26f8b2e72b5",
   "metadata": {},
   "outputs": [],
   "source": [
    "def a_variable_function(thing, *many_things): \n",
    "    print(thing)\n",
    "    for a_thing in many_things: \n",
    "        print(a_thing)\n",
    "    "
   ]
  },
  {
   "cell_type": "code",
   "execution_count": 89,
   "id": "c1a8adb1-1ced-4328-a5df-9803fcba7293",
   "metadata": {},
   "outputs": [
    {
     "name": "stdout",
     "output_type": "stream",
     "text": [
      "first\n",
      "[1, '10', 'phil']\n"
     ]
    }
   ],
   "source": [
    "some_stuff = [1,\"10\", \"phil\"]\n",
    "a_variable_function('first', some_stuff)\n"
   ]
  },
  {
   "cell_type": "markdown",
   "id": "ae490457-997d-4ae4-80d6-6ed36559f6af",
   "metadata": {},
   "source": [
    "### Keyword arguments\n",
    "\n"
   ]
  },
  {
   "cell_type": "markdown",
   "id": "aa576084-a95d-4c02-abff-14bf3595cac2",
   "metadata": {},
   "source": [
    "## Returning objects from a function \n",
    "Discusses the understanding that an object is an object so we can pass objects into a fuction and get objects out of a function, in the earlier example we passed a function, which is an object into the `sorted()` function.   \n",
    "Similarly we can get a function out as a return value."
   ]
  },
  {
   "cell_type": "markdown",
   "id": "4b13667d-8868-4b05-bb1a-a2da6a308077",
   "metadata": {},
   "source": [
    "### Function annotations \n",
    "It may be the case that we see the annotations could be expressed as string values, this is hte old and loose way of doing things.   \n",
    "\n",
    "However this is not the best because other tooling can use the methods we looked at earlier where we did not add the annotations as qstrings, but as the types they are.   \n",
    "\n",
    "Tools that use this are static analysis tools like mypy  \n",
    "\n",
    "These things can only work with the new way of doing things. \n"
   ]
  },
  {
   "cell_type": "markdown",
   "id": "f2a0c80d-29c6-4603-8387-f0857a1a83c0",
   "metadata": {},
   "source": [
    "### Scope \n",
    "A discussion on scope and accessibility, where something can be seen and used. Functions geenerally keeps things wthin itself, although there is the case explained earler for the default parameter trap.   \n",
    "\n",
    "One example shows this "
   ]
  },
  {
   "cell_type": "code",
   "execution_count": 115,
   "id": "6cb7a027-d8be-4551-91a6-99274ee9eb73",
   "metadata": {},
   "outputs": [
    {
     "name": "stdout",
     "output_type": "stream",
     "text": [
      "before the function num is 10\n",
      "Internal num is 20\n",
      "after the function num is 10\n"
     ]
    }
   ],
   "source": [
    "num = 10\n",
    "\n",
    "def a_function():\n",
    "    num = 20\n",
    "    print(f\"Internal num is {num}\")\n",
    "\n",
    "\n",
    "print (f\"before the function num is {num}\")\n",
    "a_function()\n",
    "\n",
    "print(f\"after the function num is {num}\") \n"
   ]
  },
  {
   "cell_type": "code",
   "execution_count": 117,
   "id": "67ff4e55-fd17-44d2-8fd1-bf37602d61ff",
   "metadata": {},
   "outputs": [
    {
     "name": "stdout",
     "output_type": "stream",
     "text": [
      "before the function num is 10\n",
      "Internal num is 10\n",
      "after the function num is 10\n"
     ]
    }
   ],
   "source": [
    "# the following shows that we can acces the variable as read only \n",
    "num = 10\n",
    "\n",
    "def a_function():\n",
    "    print(f\"Internal num is {num}\")\n",
    "\n",
    "\n",
    "print (f\"before the function num is {num}\")\n",
    "a_function()\n",
    "\n",
    "print(f\"after the function num is {num}\") "
   ]
  },
  {
   "cell_type": "code",
   "execution_count": 113,
   "id": "ea7854ff-fdbe-4e98-b8fe-db8678605baf",
   "metadata": {},
   "outputs": [
    {
     "name": "stdout",
     "output_type": "stream",
     "text": [
      "before the function num is 10\n",
      "Internal num is 20\n",
      "after the function num is 20\n"
     ]
    }
   ],
   "source": [
    "#using global\n",
    "num = 10\n",
    "\n",
    "def a_function():\n",
    "    global num\n",
    "    num = 20\n",
    "    print(f\"Internal num is {num}\")\n",
    "\n",
    "\n",
    "print (f\"before the function num is {num}\")\n",
    "a_function()\n",
    "\n",
    "print(f\"after the function num is {num}\") "
   ]
  },
  {
   "cell_type": "markdown",
   "id": "ca4da481-be15-4cc7-b416-051c5c38940d",
   "metadata": {},
   "source": [
    "### Lambda and map\n",
    "covers the process of lambda and map  \n",
    "#### lambda\n",
    "Temperary function used where a function needs antother to work properly \n",
    "\n"
   ]
  },
  {
   "cell_type": "code",
   "execution_count": 122,
   "id": "6f074ddb-71ca-4545-85f0-b2a62b19ba2b",
   "metadata": {},
   "outputs": [
    {
     "name": "stdout",
     "output_type": "stream",
     "text": [
      "<map object at 0x0000019989461A20>\n",
      "['__class__', '__delattr__', '__dir__', '__doc__', '__eq__', '__format__', '__ge__', '__getattribute__', '__getstate__', '__gt__', '__hash__', '__init__', '__init_subclass__', '__iter__', '__le__', '__lt__', '__ne__', '__new__', '__next__', '__reduce__', '__reduce_ex__', '__repr__', '__setattr__', '__sizeof__', '__str__', '__subclasshook__']\n"
     ]
    }
   ],
   "source": [
    "data = [1,2,3,4,5]\n",
    "\n",
    "squared = map(lambda x: x**2, data)\n",
    "print(squared)\n",
    "print(dir(squared))"
   ]
  },
  {
   "cell_type": "code",
   "execution_count": 124,
   "id": "7713289e-f3b7-4cde-b36e-df348e0efb88",
   "metadata": {},
   "outputs": [
    {
     "data": {
      "text/plain": [
       "[1, 4, 9, 16, 25]"
      ]
     },
     "execution_count": 124,
     "metadata": {},
     "output_type": "execute_result"
    }
   ],
   "source": [
    "list(squared)\n"
   ]
  },
  {
   "cell_type": "markdown",
   "id": "33758c7d-72da-447d-8d5b-8a726dcdffb7",
   "metadata": {},
   "source": [
    "### Filter\n",
    "appling filter to a data structure, note that the difference for map and filter is tjat map will return a result on all operands provided, filter will return filter true conditions"
   ]
  },
  {
   "cell_type": "code",
   "execution_count": 132,
   "id": "31d8758c-ab7e-42f1-bd7f-6165f2910ce7",
   "metadata": {},
   "outputs": [
    {
     "data": {
      "text/plain": [
       "[3, 19, 8]"
      ]
     },
     "execution_count": 132,
     "metadata": {},
     "output_type": "execute_result"
    }
   ],
   "source": [
    "data = [-1,3,-9,19,8,-3]\n",
    "cleaned = list (filter(lambda x: x>0, data))\n",
    "cleaned"
   ]
  },
  {
   "cell_type": "markdown",
   "id": "b83ad8d5-3b55-4203-b9ff-f34e02546b73",
   "metadata": {},
   "source": [
    "Example of using next in an iterable \n"
   ]
  },
  {
   "cell_type": "code",
   "execution_count": 135,
   "id": "aa36eb7f-1bb8-417c-9965-bab0585bb130",
   "metadata": {},
   "outputs": [
    {
     "name": "stdout",
     "output_type": "stream",
     "text": [
      "1\n",
      "4\n"
     ]
    }
   ],
   "source": [
    "data = [1,2,3,4,5]\n",
    "\n",
    "squared = map(lambda x: x**2, data)\n",
    "print(next(squared))\n",
    "print(next(squared))"
   ]
  },
  {
   "cell_type": "markdown",
   "id": "857e74f6-4689-42ce-a914-bfc391f2ca2a",
   "metadata": {
    "jp-MarkdownHeadingCollapsed": true
   },
   "source": [
    "## EG01\n",
    "\n",
    "1.\tCreate a function which takes two arguments: a value and a list. The list should have a default of an empty list, for example:   \r\n",
    "`\r\n",
    "def my_func(value, alist=[]`   \n",
    "\n",
    "\n",
    "):\r\n"
   ]
  },
  {
   "cell_type": "markdown",
   "id": "0fd70c0f-f231-49c8-87fb-b4d260ad5def",
   "metadata": {},
   "source": [
    "## EG01 \n",
    "\n",
    "1.\tCreate a function which takes two arguments: a value and a list. The list should have a default of an empty list, for example:   \r\n",
    "`\r\n",
    "def my_func(value, alist=[] `   ):\r\n",
    "\r\n",
    "\r\n",
    "The function should append the value to the list, then print the contents of the supplied list.  \r\n",
    "Call this function several times with various values, defaulting the list each time. Can you explain the output?\r\n",
    "Can you suggest a solution to the problem?   "
   ]
  },
  {
   "cell_type": "code",
   "execution_count": 139,
   "id": "c6e004a3-d3f5-40fb-b3d7-333f57a2236a",
   "metadata": {},
   "outputs": [
    {
     "data": {
      "text/plain": [
       "[10, 10, 10, 9, 10]"
      ]
     },
     "execution_count": 139,
     "metadata": {},
     "output_type": "execute_result"
    }
   ],
   "source": [
    "def my_func(value, alist=[]):\n",
    "    alist.append(value)\n",
    "    return alist\n",
    "\n",
    "my_func(10,[10,10,10,9])"
   ]
  },
  {
   "cell_type": "code",
   "execution_count": 141,
   "id": "90e738bd-b9f7-427a-9945-e383e801cd86",
   "metadata": {},
   "outputs": [
    {
     "data": {
      "text/plain": [
       "[3]"
      ]
     },
     "execution_count": 141,
     "metadata": {},
     "output_type": "execute_result"
    }
   ],
   "source": [
    "my_func(3)"
   ]
  },
  {
   "cell_type": "code",
   "execution_count": 147,
   "id": "7deb8a7e-3f3d-455a-9569-762d246ea579",
   "metadata": {},
   "outputs": [
    {
     "data": {
      "text/plain": [
       "[3, 'hi', 'there', 3]"
      ]
     },
     "execution_count": 147,
     "metadata": {},
     "output_type": "execute_result"
    }
   ],
   "source": [
    "my_func(3,[3,\"hi\",\"there\"])"
   ]
  },
  {
   "cell_type": "markdown",
   "id": "4ce315be-9ce3-4a5f-8a17-7ee8a83e8775",
   "metadata": {},
   "source": [
    "### EG01.2\n",
    "2.\tA function is required called is_palindrome().   \r\n",
    "Its single responsibility is to examine a string which is passed to it and determine whether (or not) the string is a palindrome, i.e. reads the same forwards and backwards.  The function must (as the name suggests with its “is_” prefix) return a Boolean   .  \r\n",
    "\r\n",
    "Three different levels of complexity are envisag   ed:\r\n",
    "Easy: A simple one-word string, 100% alphabetic in the same case, e.g. RAC   ECAR\r\n",
    "Medium: A string in sentence case which will not have punctuation but may have mixed case and embedded spaces, e.g. A nut for a jar of    tuna\r\n",
    "Hard: A string which may contain any characters, e.g. A man, a plan, a canal, P   anama!"
   ]
  },
  {
   "cell_type": "code",
   "execution_count": 267,
   "id": "ec7d5e2b-1c3e-4d9e-aa31-7d56113adbc0",
   "metadata": {},
   "outputs": [],
   "source": [
    "import math\n",
    "import string\n",
    "\n",
    "def palindromer(content):\n",
    "    #preformat\n",
    "    content = content.lower()\n",
    "    content = content.replace(' ','')\n",
    "    content = ''.join([x for x in content if x not in string.punctuation])\n",
    "    split_content = []\n",
    "    if (len(content)/2)%2 == 0:\n",
    "        split_content = [content[0:len(content/2)], content[len(content/2):]]\n",
    "    else: \n",
    "        split_content = [content[0:math.ceil(len(content)/2)], content[math.floor(len(content)/2):]]\n",
    "    print(split_content[0], ' ', split_content[1])\n",
    "    return split_content[0] == split_content[1][::-1]\n",
    "\n"
   ]
  },
  {
   "cell_type": "code",
   "execution_count": 269,
   "id": "e9886020-f9e5-4fc2-a90b-cda7612666a4",
   "metadata": {},
   "outputs": [
    {
     "name": "stdout",
     "output_type": "stream",
     "text": [
      "race   ecar\n",
      "True\n",
      "kib   ble\n",
      "True\n",
      "anutforaj   jaroftuna\n",
      "True\n",
      "amanaplanac   canalpanama\n",
      "True\n"
     ]
    }
   ],
   "source": [
    "print(palindromer('racecar') == True)\n",
    "print(palindromer('kibble') == False)\n",
    "print(palindromer('A nut for a jar of tuna') == True)\n",
    "print(palindromer('A man, a plan, a canal, Panama!') == True)"
   ]
  },
  {
   "cell_type": "markdown",
   "id": "aaa1201e-251c-4e51-83b2-6e6bb144d9cc",
   "metadata": {},
   "source": [
    "3.\tA lambda function is needed which can be used as a comparator to order the following list of web accesses chronologically:\r\n",
    "data = [[\"192.168.1.123\",\"www.site.com\", \"10/09/20 09:00\"],\r\n",
    "[\"192.168.1.88\",\"www.site2.com\", \"12/08/20 10:03\"],\r\n",
    "[\"192.168.1.88\",\"www.site2.com\", \"12/08/20 10:02\"],\r\n",
    "[\"192.168.1.87\",\"www.site3.com\", \"10/09/20 09:01\"]]"
   ]
  },
  {
   "cell_type": "markdown",
   "id": "41c6c1d4-4341-4d92-8719-29cc05776c36",
   "metadata": {},
   "source": [
    "## Closures\n",
    "The returning of a reference to a function. In Python we can have a nested function and the nested function can be called. In essence hiding the function within the function.   \n",
    "One of tricks we can do with this is a decorator, a more modern way is py syntax.    \n",
    "the following example returns the function raise it, \n"
   ]
  },
  {
   "cell_type": "code",
   "execution_count": 275,
   "id": "6fe41464-5112-4a82-93bb-62c32892a4ac",
   "metadata": {},
   "outputs": [
    {
     "name": "stdout",
     "output_type": "stream",
     "text": [
      "125\n",
      "25\n"
     ]
    }
   ],
   "source": [
    "def raise_power_by(power):\n",
    "    def raise_it(number):\n",
    "        return number ** power\n",
    "    return raise_it\n",
    "\n",
    "#cubing function\n",
    "cube_it = raise_power_by(3)\n",
    "\n",
    "#squaring function\n",
    "square_it = raise_power_by(2)\n",
    "\n",
    "print(cube_it(5))\n",
    "\n",
    "print(square_it(5))\n"
   ]
  },
  {
   "cell_type": "markdown",
   "id": "937d2c16-82c9-4c1d-9464-896876d2e346",
   "metadata": {},
   "source": []
  },
  {
   "cell_type": "markdown",
   "id": "c761a41c-8632-4a60-9693-07fc7891d675",
   "metadata": {},
   "source": [
    "In the example where cube_it is asked for then the returned function will be called when it is used, 3 is bound in to the operation. \n",
    "\n",
    "when we call cube_it then the value that is being passed will go to the inner function and gets an answer back.  \n",
    "\n",
    "In this way we can create a partial version of a function and then call it with the rest. \n",
    "\n",
    "Example calculate discount, looking at that and we see that we could create a generic function, with a hard coded value into the process, eg christmas_promo, summer_promo\n"
   ]
  },
  {
   "cell_type": "markdown",
   "id": "040d307d-efeb-4f0a-be65-d8c4234a07c8",
   "metadata": {},
   "source": [
    "### Decorators\n",
    "In the following example, we can see a decorator being used. Notice that there is a calc_cubes() function that on it's own will calculate cubes in a supplied range. However there is a decorator above it and that will do something. \n",
    "in the my_timer which takes a function (in this case the cube_it). It will execute the function but as can be seen, because it is decorated then the execution of that function its inside the timer_wrapper_function   \n",
    "\n"
   ]
  },
  {
   "cell_type": "code",
   "execution_count": 280,
   "id": "9492d072-c487-4664-91be-8b2594c9f0a7",
   "metadata": {},
   "outputs": [
    {
     "name": "stdout",
     "output_type": "stream",
     "text": [
      "calc_cubes execution time 0.00012 s\n",
      "250500250000\n"
     ]
    }
   ],
   "source": [
    "import time\n",
    "\n",
    "def my_timer(fn):\n",
    "    \"\"\"Display execution time of decorated function\"\"\"\n",
    "    def timer_wrapper_func(*args, **kwargs):\n",
    "        #start the timer\n",
    "        start_t = time.perf_counter()\n",
    "        #call the function\n",
    "        result = fn(*args, **kwargs)\n",
    "        #end timer and work out elapsed time\n",
    "        end_t = time.perf_counter()        \n",
    "        duration = end_t - start_t  \n",
    "        print(f\"{fn.__name__} execution time {duration:.5f} s\")\n",
    "        return result\n",
    "    return timer_wrapper_func\n",
    "\n",
    "@my_timer\n",
    "def calc_cubes(qty):\n",
    "    \"\"\"Return sum of cubes from 1 to n inclusive\"\"\"\n",
    "    value = sum([num**3 for num in range(1,qty+1)])\n",
    "    return value    \n",
    "\n",
    "#calling with decoration is transparent\n",
    "print(calc_cubes(1000))\n"
   ]
  },
  {
   "cell_type": "markdown",
   "id": "8b15e037-5821-4fe1-9391-62d5bbd279cb",
   "metadata": {},
   "source": [
    "***Note*** I did not have to alter the function that was being tested. I can simple remove the decoration and the stand-alone function will operate as successfully in isolation. \n",
    "\n",
    "An example, if I have 20 functions and I need logging around them, am I going to fit that to each function, no I am simply going to decorate it. this is particularly useful in data science. "
   ]
  },
  {
   "cell_type": "markdown",
   "id": "3aebf0cc-c3b9-47a7-adb9-072f1ff8cb7e",
   "metadata": {},
   "source": [
    "# Jupyter notebook\n",
    "(late pm) \n",
    "\n",
    "Jupyter notebooks are indeed a great way of developing experimentally, but there comes a time that we would want to turn it into production and there are a couple of ways in which this couls be done. \n",
    "\n",
    "Create well organized and efficient code from Jupyter Lab notebooks\r\n",
    "`jupyter nbconvert --to python yourfile.ipynb`   \n",
    "\n",
    "***Note*** that nbconvert can be used in automation or as part of a script \n"
   ]
  },
  {
   "cell_type": "code",
   "execution_count": 284,
   "id": "f6d8f5fe-4c3c-440f-9169-093b3027afe7",
   "metadata": {},
   "outputs": [
    {
     "ename": "FileNotFoundError",
     "evalue": "[Errno 2] No such file or directory: 'flight_heatmap.ipynb'",
     "output_type": "error",
     "traceback": [
      "\u001b[1;31m---------------------------------------------------------------------------\u001b[0m",
      "\u001b[1;31mFileNotFoundError\u001b[0m                         Traceback (most recent call last)",
      "Cell \u001b[1;32mIn[284], line 6\u001b[0m\n\u001b[0;32m      3\u001b[0m \u001b[38;5;28;01mfrom\u001b[39;00m \u001b[38;5;21;01mnbconvert\u001b[39;00m \u001b[38;5;28;01mimport\u001b[39;00m HTMLExporter\n\u001b[0;32m      5\u001b[0m \u001b[38;5;66;03m# Load the required notebook file\u001b[39;00m\n\u001b[1;32m----> 6\u001b[0m \u001b[38;5;28;01mwith\u001b[39;00m \u001b[38;5;28mopen\u001b[39m(\u001b[38;5;124m'\u001b[39m\u001b[38;5;124mflight_heatmap.ipynb\u001b[39m\u001b[38;5;124m'\u001b[39m) \u001b[38;5;28;01mas\u001b[39;00m f:\n\u001b[0;32m      7\u001b[0m     notebook_content \u001b[38;5;241m=\u001b[39m nbformat\u001b[38;5;241m.\u001b[39mread(f, as_version\u001b[38;5;241m=\u001b[39m\u001b[38;5;241m4\u001b[39m)\n\u001b[0;32m      9\u001b[0m \u001b[38;5;66;03m# Initialize the HTMLExporter class\u001b[39;00m\n",
      "File \u001b[1;32m~\\anaconda3\\Lib\\site-packages\\IPython\\core\\interactiveshell.py:324\u001b[0m, in \u001b[0;36m_modified_open\u001b[1;34m(file, *args, **kwargs)\u001b[0m\n\u001b[0;32m    317\u001b[0m \u001b[38;5;28;01mif\u001b[39;00m file \u001b[38;5;129;01min\u001b[39;00m {\u001b[38;5;241m0\u001b[39m, \u001b[38;5;241m1\u001b[39m, \u001b[38;5;241m2\u001b[39m}:\n\u001b[0;32m    318\u001b[0m     \u001b[38;5;28;01mraise\u001b[39;00m \u001b[38;5;167;01mValueError\u001b[39;00m(\n\u001b[0;32m    319\u001b[0m         \u001b[38;5;124mf\u001b[39m\u001b[38;5;124m\"\u001b[39m\u001b[38;5;124mIPython won\u001b[39m\u001b[38;5;124m'\u001b[39m\u001b[38;5;124mt let you open fd=\u001b[39m\u001b[38;5;132;01m{\u001b[39;00mfile\u001b[38;5;132;01m}\u001b[39;00m\u001b[38;5;124m by default \u001b[39m\u001b[38;5;124m\"\u001b[39m\n\u001b[0;32m    320\u001b[0m         \u001b[38;5;124m\"\u001b[39m\u001b[38;5;124mas it is likely to crash IPython. If you know what you are doing, \u001b[39m\u001b[38;5;124m\"\u001b[39m\n\u001b[0;32m    321\u001b[0m         \u001b[38;5;124m\"\u001b[39m\u001b[38;5;124myou can use builtins\u001b[39m\u001b[38;5;124m'\u001b[39m\u001b[38;5;124m open.\u001b[39m\u001b[38;5;124m\"\u001b[39m\n\u001b[0;32m    322\u001b[0m     )\n\u001b[1;32m--> 324\u001b[0m \u001b[38;5;28;01mreturn\u001b[39;00m io_open(file, \u001b[38;5;241m*\u001b[39margs, \u001b[38;5;241m*\u001b[39m\u001b[38;5;241m*\u001b[39mkwargs)\n",
      "\u001b[1;31mFileNotFoundError\u001b[0m: [Errno 2] No such file or directory: 'flight_heatmap.ipynb'"
     ]
    }
   ],
   "source": [
    "# Perform necessary imports\n",
    "import nbformat\n",
    "from nbconvert import HTMLExporter\n",
    "\n",
    "# Load the required notebook file\n",
    "with open('flight_heatmap.ipynb') as f:\n",
    "    notebook_content = nbformat.read(f, as_version=4)\n",
    "\n",
    "# Initialize the HTMLExporter class\n",
    "html_exporter = HTMLExporter()\n",
    "\n",
    "# Convert the notebook to HTML\n",
    "body, resources = html_exporter.from_notebook_node(notebook_content)\n",
    "\n",
    "# Write the HTML output to the same folder\n",
    "with open('flight_heatmap.html', 'w') as f:\n",
    "    f.write(body)\n"
   ]
  },
  {
   "cell_type": "markdown",
   "id": "bc3bd0ae-272d-41d7-8097-2fd1813bd313",
   "metadata": {},
   "source": [
    "### EG02 \n",
    "You have been asked to:    \r\n",
    "\r\n",
    "1.\tUse a suitable technique to export this code to a standalone Python scrip   t.\r\n",
    "\r\n",
    "2.\tRefactor this so that it is written using a sequence of functions.  Hint: there may also be redundancies in the code you don’t n   eed.\r\n",
    "\r\n",
    "3.\tExecute and test the script, confirming its external behaviour is unaffected by the refactoring you have perf   ormed.\r\n",
    "\r\n",
    "Once completed, please discuss your refactored solution with your    trainer."
   ]
  },
  {
   "attachments": {},
   "cell_type": "markdown",
   "id": "a072880c-8d82-4e5d-8cc1-c8515008c3c7",
   "metadata": {},
   "source": [
    "### Once the file is exported the following checklist needs to be done \r\n",
    "- Remove any unnecessary comments converted from original markdown\r\n",
    "- Delete any Jupyter cell markers, e.g. # In[1]\r\n",
    "- These are automatically added when the notebook is converted   \r\n",
    "- Refactor monolithic and reusable code into functions using SRP\r\n",
    "- Add an if __name__ == \"__main__\": guard block\r\n",
    "- This ensures your code is only executed when directly executed, not imported.\r\n",
    "- Remove any interactive visualisation aspects, e.g. display(), show() etc.\r\n",
    "- Export them as permanent images instead (less transient and interactive), e.g. using save() etc.\r\n",
    "- Add docstrings to functions and classes\r\n",
    "- Include example doctests to illustrate usage, prep for testing etc.\r\n",
    "- Add comments to explain real-world logic, processes etc.\r\n",
    "- Handle dependencies with requirements.txt\r\n",
    "- This can assist later distribution\r\n",
    "- Follow PEP8 guidelines re: layout and naming conventions\r\n",
    "- Add error handling using try…except…else…finally blocks\r\n",
    "- Add logging to capture run-time errors and information\r\n",
    "- Critical for debugging and monitoring\r\n",
    "- Test thoroughly (functional doctests are a minimum requirement)\r\n",
    "- Commit and push to repository using version control, e.g. Git"
   ]
  },
  {
   "cell_type": "markdown",
   "id": "20492b3b-6a68-4a9c-aed8-a4615ec6245c",
   "metadata": {},
   "source": [
    "# Collections Module \n",
    "Collections is highly optimised and part of the distro so there is no need to pip install it. Just import it. \n"
   ]
  },
  {
   "cell_type": "code",
   "execution_count": 296,
   "id": "9c95e170-0906-4cd6-a89d-f8b23828e7b9",
   "metadata": {},
   "outputs": [
    {
     "name": "stdout",
     "output_type": "stream",
     "text": [
      "['ChainMap', 'Counter', 'OrderedDict', 'UserDict', 'UserList', 'UserString', '_Link', '_OrderedDictItemsView', '_OrderedDictKeysView', '_OrderedDictValuesView', '__all__', '__builtins__', '__cached__', '__doc__', '__file__', '__loader__', '__name__', '__package__', '__path__', '__spec__', '_chain', '_collections_abc', '_count_elements', '_deque_iterator', '_eq', '_iskeyword', '_itemgetter', '_proxy', '_recursive_repr', '_repeat', '_starmap', '_sys', '_tuplegetter', 'abc', 'defaultdict', 'deque', 'namedtuple']\n"
     ]
    }
   ],
   "source": [
    "import collections\n",
    "print(dir(collections))"
   ]
  },
  {
   "cell_type": "markdown",
   "id": "c90d7be6-e8a3-4be1-9b50-4165e1899553",
   "metadata": {},
   "source": [
    "Note that some of the naming conventions here are different than PEP008 standard. this helps differentiate the collections versions. One of the examples is Counter"
   ]
  },
  {
   "cell_type": "code",
   "execution_count": 299,
   "id": "70b45e23-0980-4dd6-bb2c-f56d81b4e158",
   "metadata": {},
   "outputs": [],
   "source": [
    "content = \"this is a string of a sentance that has things like whatever in it. Muy name is Phil, the others are Pete Rob\"\n",
    "from collections import Counter\n"
   ]
  },
  {
   "cell_type": "code",
   "execution_count": 301,
   "id": "cb60e4d8-720a-438a-b057-4e5f4b0d9d15",
   "metadata": {},
   "outputs": [
    {
     "name": "stdout",
     "output_type": "stream",
     "text": [
      "Help on class Counter in module collections:\n",
      "\n",
      "class Counter(builtins.dict)\n",
      " |  Counter(iterable=None, /, **kwds)\n",
      " |\n",
      " |  Dict subclass for counting hashable items.  Sometimes called a bag\n",
      " |  or multiset.  Elements are stored as dictionary keys and their counts\n",
      " |  are stored as dictionary values.\n",
      " |\n",
      " |  >>> c = Counter('abcdeabcdabcaba')  # count elements from a string\n",
      " |\n",
      " |  >>> c.most_common(3)                # three most common elements\n",
      " |  [('a', 5), ('b', 4), ('c', 3)]\n",
      " |  >>> sorted(c)                       # list all unique elements\n",
      " |  ['a', 'b', 'c', 'd', 'e']\n",
      " |  >>> ''.join(sorted(c.elements()))   # list elements with repetitions\n",
      " |  'aaaaabbbbcccdde'\n",
      " |  >>> sum(c.values())                 # total of all counts\n",
      " |  15\n",
      " |\n",
      " |  >>> c['a']                          # count of letter 'a'\n",
      " |  5\n",
      " |  >>> for elem in 'shazam':           # update counts from an iterable\n",
      " |  ...     c[elem] += 1                # by adding 1 to each element's count\n",
      " |  >>> c['a']                          # now there are seven 'a'\n",
      " |  7\n",
      " |  >>> del c['b']                      # remove all 'b'\n",
      " |  >>> c['b']                          # now there are zero 'b'\n",
      " |  0\n",
      " |\n",
      " |  >>> d = Counter('simsalabim')       # make another counter\n",
      " |  >>> c.update(d)                     # add in the second counter\n",
      " |  >>> c['a']                          # now there are nine 'a'\n",
      " |  9\n",
      " |\n",
      " |  >>> c.clear()                       # empty the counter\n",
      " |  >>> c\n",
      " |  Counter()\n",
      " |\n",
      " |  Note:  If a count is set to zero or reduced to zero, it will remain\n",
      " |  in the counter until the entry is deleted or the counter is cleared:\n",
      " |\n",
      " |  >>> c = Counter('aaabbc')\n",
      " |  >>> c['b'] -= 2                     # reduce the count of 'b' by two\n",
      " |  >>> c.most_common()                 # 'b' is still in, but its count is zero\n",
      " |  [('a', 3), ('c', 1), ('b', 0)]\n",
      " |\n",
      " |  Method resolution order:\n",
      " |      Counter\n",
      " |      builtins.dict\n",
      " |      builtins.object\n",
      " |\n",
      " |  Methods defined here:\n",
      " |\n",
      " |  __add__(self, other)\n",
      " |      Add counts from two counters.\n",
      " |\n",
      " |      >>> Counter('abbb') + Counter('bcc')\n",
      " |      Counter({'b': 4, 'c': 2, 'a': 1})\n",
      " |\n",
      " |  __and__(self, other)\n",
      " |      Intersection is the minimum of corresponding counts.\n",
      " |\n",
      " |      >>> Counter('abbb') & Counter('bcc')\n",
      " |      Counter({'b': 1})\n",
      " |\n",
      " |  __delitem__(self, elem)\n",
      " |      Like dict.__delitem__() but does not raise KeyError for missing values.\n",
      " |\n",
      " |  __eq__(self, other)\n",
      " |      True if all counts agree. Missing counts are treated as zero.\n",
      " |\n",
      " |  __ge__(self, other)\n",
      " |      True if all counts in self are a superset of those in other.\n",
      " |\n",
      " |  __gt__(self, other)\n",
      " |      True if all counts in self are a proper superset of those in other.\n",
      " |\n",
      " |  __iadd__(self, other)\n",
      " |      Inplace add from another counter, keeping only positive counts.\n",
      " |\n",
      " |      >>> c = Counter('abbb')\n",
      " |      >>> c += Counter('bcc')\n",
      " |      >>> c\n",
      " |      Counter({'b': 4, 'c': 2, 'a': 1})\n",
      " |\n",
      " |  __iand__(self, other)\n",
      " |      Inplace intersection is the minimum of corresponding counts.\n",
      " |\n",
      " |      >>> c = Counter('abbb')\n",
      " |      >>> c &= Counter('bcc')\n",
      " |      >>> c\n",
      " |      Counter({'b': 1})\n",
      " |\n",
      " |  __init__(self, iterable=None, /, **kwds)\n",
      " |      Create a new, empty Counter object.  And if given, count elements\n",
      " |      from an input iterable.  Or, initialize the count from another mapping\n",
      " |      of elements to their counts.\n",
      " |\n",
      " |      >>> c = Counter()                           # a new, empty counter\n",
      " |      >>> c = Counter('gallahad')                 # a new counter from an iterable\n",
      " |      >>> c = Counter({'a': 4, 'b': 2})           # a new counter from a mapping\n",
      " |      >>> c = Counter(a=4, b=2)                   # a new counter from keyword args\n",
      " |\n",
      " |  __ior__(self, other)\n",
      " |      Inplace union is the maximum of value from either counter.\n",
      " |\n",
      " |      >>> c = Counter('abbb')\n",
      " |      >>> c |= Counter('bcc')\n",
      " |      >>> c\n",
      " |      Counter({'b': 3, 'c': 2, 'a': 1})\n",
      " |\n",
      " |  __isub__(self, other)\n",
      " |      Inplace subtract counter, but keep only results with positive counts.\n",
      " |\n",
      " |      >>> c = Counter('abbbc')\n",
      " |      >>> c -= Counter('bccd')\n",
      " |      >>> c\n",
      " |      Counter({'b': 2, 'a': 1})\n",
      " |\n",
      " |  __le__(self, other)\n",
      " |      True if all counts in self are a subset of those in other.\n",
      " |\n",
      " |  __lt__(self, other)\n",
      " |      True if all counts in self are a proper subset of those in other.\n",
      " |\n",
      " |  __missing__(self, key)\n",
      " |      The count of elements not in the Counter is zero.\n",
      " |\n",
      " |  __ne__(self, other)\n",
      " |      True if any counts disagree. Missing counts are treated as zero.\n",
      " |\n",
      " |  __neg__(self)\n",
      " |      Subtracts from an empty counter.  Strips positive and zero counts,\n",
      " |      and flips the sign on negative counts.\n",
      " |\n",
      " |  __or__(self, other)\n",
      " |      Union is the maximum of value in either of the input counters.\n",
      " |\n",
      " |      >>> Counter('abbb') | Counter('bcc')\n",
      " |      Counter({'b': 3, 'c': 2, 'a': 1})\n",
      " |\n",
      " |  __pos__(self)\n",
      " |      Adds an empty counter, effectively stripping negative and zero counts\n",
      " |\n",
      " |  __reduce__(self)\n",
      " |      Helper for pickle.\n",
      " |\n",
      " |  __repr__(self)\n",
      " |      Return repr(self).\n",
      " |\n",
      " |  __sub__(self, other)\n",
      " |      Subtract count, but keep only results with positive counts.\n",
      " |\n",
      " |      >>> Counter('abbbc') - Counter('bccd')\n",
      " |      Counter({'b': 2, 'a': 1})\n",
      " |\n",
      " |  copy(self)\n",
      " |      Return a shallow copy.\n",
      " |\n",
      " |  elements(self)\n",
      " |      Iterator over elements repeating each as many times as its count.\n",
      " |\n",
      " |      >>> c = Counter('ABCABC')\n",
      " |      >>> sorted(c.elements())\n",
      " |      ['A', 'A', 'B', 'B', 'C', 'C']\n",
      " |\n",
      " |      Knuth's example for prime factors of 1836:  2**2 * 3**3 * 17**1\n",
      " |\n",
      " |      >>> import math\n",
      " |      >>> prime_factors = Counter({2: 2, 3: 3, 17: 1})\n",
      " |      >>> math.prod(prime_factors.elements())\n",
      " |      1836\n",
      " |\n",
      " |      Note, if an element's count has been set to zero or is a negative\n",
      " |      number, elements() will ignore it.\n",
      " |\n",
      " |  most_common(self, n=None)\n",
      " |      List the n most common elements and their counts from the most\n",
      " |      common to the least.  If n is None, then list all element counts.\n",
      " |\n",
      " |      >>> Counter('abracadabra').most_common(3)\n",
      " |      [('a', 5), ('b', 2), ('r', 2)]\n",
      " |\n",
      " |  subtract(self, iterable=None, /, **kwds)\n",
      " |      Like dict.update() but subtracts counts instead of replacing them.\n",
      " |      Counts can be reduced below zero.  Both the inputs and outputs are\n",
      " |      allowed to contain zero and negative counts.\n",
      " |\n",
      " |      Source can be an iterable, a dictionary, or another Counter instance.\n",
      " |\n",
      " |      >>> c = Counter('which')\n",
      " |      >>> c.subtract('witch')             # subtract elements from another iterable\n",
      " |      >>> c.subtract(Counter('watch'))    # subtract elements from another counter\n",
      " |      >>> c['h']                          # 2 in which, minus 1 in witch, minus 1 in watch\n",
      " |      0\n",
      " |      >>> c['w']                          # 1 in which, minus 1 in witch, minus 1 in watch\n",
      " |      -1\n",
      " |\n",
      " |  total(self)\n",
      " |      Sum of the counts\n",
      " |\n",
      " |  update(self, iterable=None, /, **kwds)\n",
      " |      Like dict.update() but add counts instead of replacing them.\n",
      " |\n",
      " |      Source can be an iterable, a dictionary, or another Counter instance.\n",
      " |\n",
      " |      >>> c = Counter('which')\n",
      " |      >>> c.update('witch')           # add elements from another iterable\n",
      " |      >>> d = Counter('watch')\n",
      " |      >>> c.update(d)                 # add elements from another counter\n",
      " |      >>> c['h']                      # four 'h' in which, witch, and watch\n",
      " |      4\n",
      " |\n",
      " |  ----------------------------------------------------------------------\n",
      " |  Class methods defined here:\n",
      " |\n",
      " |  fromkeys(iterable, v=None)\n",
      " |      Create a new dictionary with keys from iterable and values set to value.\n",
      " |\n",
      " |  ----------------------------------------------------------------------\n",
      " |  Data descriptors defined here:\n",
      " |\n",
      " |  __dict__\n",
      " |      dictionary for instance variables\n",
      " |\n",
      " |  __weakref__\n",
      " |      list of weak references to the object\n",
      " |\n",
      " |  ----------------------------------------------------------------------\n",
      " |  Data and other attributes defined here:\n",
      " |\n",
      " |  __hash__ = None\n",
      " |\n",
      " |  ----------------------------------------------------------------------\n",
      " |  Methods inherited from builtins.dict:\n",
      " |\n",
      " |  __contains__(self, key, /)\n",
      " |      True if the dictionary has the specified key, else False.\n",
      " |\n",
      " |  __getattribute__(self, name, /)\n",
      " |      Return getattr(self, name).\n",
      " |\n",
      " |  __getitem__(self, key, /)\n",
      " |      Return self[key].\n",
      " |\n",
      " |  __iter__(self, /)\n",
      " |      Implement iter(self).\n",
      " |\n",
      " |  __len__(self, /)\n",
      " |      Return len(self).\n",
      " |\n",
      " |  __reversed__(self, /)\n",
      " |      Return a reverse iterator over the dict keys.\n",
      " |\n",
      " |  __ror__(self, value, /)\n",
      " |      Return value|self.\n",
      " |\n",
      " |  __setitem__(self, key, value, /)\n",
      " |      Set self[key] to value.\n",
      " |\n",
      " |  __sizeof__(...)\n",
      " |      D.__sizeof__() -> size of D in memory, in bytes\n",
      " |\n",
      " |  clear(...)\n",
      " |      D.clear() -> None.  Remove all items from D.\n",
      " |\n",
      " |  get(self, key, default=None, /)\n",
      " |      Return the value for key if key is in the dictionary, else default.\n",
      " |\n",
      " |  items(...)\n",
      " |      D.items() -> a set-like object providing a view on D's items\n",
      " |\n",
      " |  keys(...)\n",
      " |      D.keys() -> a set-like object providing a view on D's keys\n",
      " |\n",
      " |  pop(...)\n",
      " |      D.pop(k[,d]) -> v, remove specified key and return the corresponding value.\n",
      " |\n",
      " |      If the key is not found, return the default if given; otherwise,\n",
      " |      raise a KeyError.\n",
      " |\n",
      " |  popitem(self, /)\n",
      " |      Remove and return a (key, value) pair as a 2-tuple.\n",
      " |\n",
      " |      Pairs are returned in LIFO (last-in, first-out) order.\n",
      " |      Raises KeyError if the dict is empty.\n",
      " |\n",
      " |  setdefault(self, key, default=None, /)\n",
      " |      Insert key with a value of default if key is not in the dictionary.\n",
      " |\n",
      " |      Return the value for key if key is in the dictionary, else default.\n",
      " |\n",
      " |  values(...)\n",
      " |      D.values() -> an object providing a view on D's values\n",
      " |\n",
      " |  ----------------------------------------------------------------------\n",
      " |  Class methods inherited from builtins.dict:\n",
      " |\n",
      " |  __class_getitem__(...)\n",
      " |      See PEP 585\n",
      " |\n",
      " |  ----------------------------------------------------------------------\n",
      " |  Static methods inherited from builtins.dict:\n",
      " |\n",
      " |  __new__(*args, **kwargs) class method of builtins.dict\n",
      " |      Create and return a new object.  See help(type) for accurate signature.\n",
      "\n"
     ]
    }
   ],
   "source": [
    "help(Counter)"
   ]
  },
  {
   "cell_type": "code",
   "execution_count": 305,
   "id": "da625e76-3adb-4f71-93a5-3b795d98238b",
   "metadata": {},
   "outputs": [
    {
     "name": "stdout",
     "output_type": "stream",
     "text": [
      "Counter({' ': 22, 't': 11, 'e': 11, 'i': 9, 'h': 8, 's': 8, 'a': 8, 'n': 6, 'r': 4, 'o': 3, 'g': 2, 'l': 2, 'P': 2, 'f': 1, 'c': 1, 'k': 1, 'w': 1, 'v': 1, '.': 1, 'M': 1, 'u': 1, 'y': 1, 'm': 1, ',': 1, 'R': 1, 'b': 1})\n"
     ]
    }
   ],
   "source": [
    "print(Counter(content))"
   ]
  },
  {
   "cell_type": "markdown",
   "id": "606fc86d-4565-411f-8177-26b3d82ac109",
   "metadata": {},
   "source": [
    "Anything that is iterable can be counted by Counter, and we get a dictionary of counts on what the iteration is. This includes any iterators we creatte.  \n",
    "Counter has a nuber of useful arguments tha tmake it more useful. this is available in the official documentation, this shows us stuff like\n",
    "- most_common()"
   ]
  },
  {
   "cell_type": "code",
   "execution_count": 307,
   "id": "dab70872-87e4-4526-9fb8-5f690cc82b65",
   "metadata": {},
   "outputs": [
    {
     "data": {
      "text/plain": [
       "[(' ', 22), ('t', 11), ('e', 11)]"
      ]
     },
     "execution_count": 307,
     "metadata": {},
     "output_type": "execute_result"
    }
   ],
   "source": [
    "Counter(content).most_common(3)"
   ]
  },
  {
   "cell_type": "code",
   "execution_count": 313,
   "id": "055157e6-284d-414d-bd3e-400a83d08111",
   "metadata": {},
   "outputs": [
    {
     "name": "stdout",
     "output_type": "stream",
     "text": [
      "['__add__', '__and__', '__class__', '__class_getitem__', '__contains__', '__delattr__', '__delitem__', '__dict__', '__dir__', '__doc__', '__eq__', '__format__', '__ge__', '__getattribute__', '__getitem__', '__getstate__', '__gt__', '__hash__', '__iadd__', '__iand__', '__init__', '__init_subclass__', '__ior__', '__isub__', '__iter__', '__le__', '__len__', '__lt__', '__missing__', '__module__', '__ne__', '__neg__', '__new__', '__or__', '__pos__', '__reduce__', '__reduce_ex__', '__repr__', '__reversed__', '__ror__', '__setattr__', '__setitem__', '__sizeof__', '__str__', '__sub__', '__subclasshook__', '__weakref__', '_keep_positive', 'clear', 'copy', 'elements', 'fromkeys', 'get', 'items', 'keys', 'most_common', 'pop', 'popitem', 'setdefault', 'subtract', 'total', 'update', 'values']\n"
     ]
    }
   ],
   "source": [
    "print(dir(Counter))\n"
   ]
  },
  {
   "cell_type": "markdown",
   "id": "3ad85788-8cbf-4653-a1bd-06bc4ab89820",
   "metadata": {},
   "source": [
    "### OrderedDict \n",
    "In older days we may have used them, we originally could not guarantee the storage order was maintained, the keys and values of course were paired. they originally made the underlying C ,more effective by retaining the insertion order and OrderedDict in of itself then becomes redundant."
   ]
  },
  {
   "cell_type": "markdown",
   "id": "ac253482-695b-40bb-96c0-ee7fb4f6f367",
   "metadata": {},
   "source": [
    "## tuple and named tuple \n",
    "A standard  declaration is: \n",
    "`data = 16,30,20`\n",
    "referenced in the standard way    \n",
    "`data[1]`   \n",
    "\n",
    "A better way if the tuple is large, is to use a namedTuple\n",
    "\n",
    "A point is made, why use this over dictionary, and the statement is made that this is about mutability, if there is a degree of protection, if we don't want to offer a threat to content because it is mutable (dictionary) then namedtuple offers the security.\n",
    "\n",
    "This is a secure coding principle."
   ]
  },
  {
   "cell_type": "code",
   "execution_count": 323,
   "id": "0b180156-11d6-4910-a7ad-efcded6385ca",
   "metadata": {},
   "outputs": [
    {
     "data": {
      "text/plain": [
       "True"
      ]
     },
     "execution_count": 323,
     "metadata": {},
     "output_type": "execute_result"
    }
   ],
   "source": [
    "from collections import namedtuple \n",
    "#define the fields in the tuple\n",
    "#default\n",
    "person = 'frank',10, True\n",
    "\n",
    "#declare fields\n",
    "fields = [\"name\", \"age\", \"is_chipped\"]\n",
    "\n",
    "#create a named tuple from the fields \n",
    "\n",
    "Cat = namedtuple(\"Cat\", fields)\n",
    "Cat1 = Cat(\"Frank\",20,True)\n",
    "\n",
    "# now referencing something \n",
    "Cat1.is_chipped\n"
   ]
  },
  {
   "cell_type": "markdown",
   "id": "5484c0e2-ba8e-4014-898b-cdca9aefb742",
   "metadata": {},
   "source": [
    "## Chainmap\n",
    "The basic concept is chainig dictionaries together, this is not merging. On a search the first found left or right as an option. A good use case is looking for an entity from several locations, a user database, a key word arguments, and then a default. \n",
    "\n",
    "Another reasonable pont to make is that chainmap can be considered as a wrapper. This is a logical link.\n",
    "\n",
    "***Note*** it is possible to chainmap chainmaps. \n",
    "\n"
   ]
  },
  {
   "cell_type": "code",
   "execution_count": 317,
   "id": "819297bd-a584-45af-bbb1-9d3477bd4df9",
   "metadata": {},
   "outputs": [
    {
     "name": "stdout",
     "output_type": "stream",
     "text": [
      "<class 'collections.ChainMap'>\n",
      "80\n",
      "40\n",
      "150\n",
      "300\n"
     ]
    }
   ],
   "source": [
    "from collections import ChainMap\n",
    "\n",
    "pc_components = {'motherboard': 150, 'ram': 120, 'cpu': 250, 'psu':55, 'case':70}\n",
    "pc_options = {'hd': 80, 'ssd': 200, 'basic_gpu':150, 'gaming-gpu':400}\n",
    "pc_accessories = {'keyboard': 30, 'mouse': 40, 'ram':40}\n",
    "pc_pricing = ChainMap(pc_accessories, pc_options, pc_components)\n",
    "\n",
    "#confirm the type\n",
    "print(type(pc_pricing))\n",
    "\n",
    "#lookup (simple)\n",
    "print(pc_pricing['hd'])\n",
    "\n",
    "#lookup (more complex - order of chaining is key; searches left->right)\n",
    "print(pc_pricing['ram'])\n",
    "\n",
    "#make another\n",
    "pc_nice_to_haves = {'vr': 300}\n",
    "\n",
    "#combine new dictionary and existing map\n",
    "pc_extra_pricing = ChainMap(pc_nice_to_haves, pc_pricing)\n",
    "\n",
    "print(pc_extra_pricing['basic_gpu'])\n",
    "print(pc_extra_pricing['vr'])\n"
   ]
  },
  {
   "cell_type": "markdown",
   "id": "155ec5d1-28de-4eab-9616-cbc7722cc15b",
   "metadata": {},
   "source": [
    "## Default Dictionary \n",
    "A default dictionary extends the facility to act accordingly, for example, give something a default value if something is asked for that is not there. \n",
    "If that thing thta is not there then it's possible to use a function to define what may go there. This could be done with a standard dictionary but this is built for this role.   \n",
    "This does extend an argument, which is best, and the answer would be that the right process for the right thing, it may be the case that the functionality for standard dictionary does contain default but the preference is callback in defaultdict.\n"
   ]
  },
  {
   "cell_type": "code",
   "execution_count": 334,
   "id": "deeac0ed-406e-4e46-a66a-54019aabcc19",
   "metadata": {},
   "outputs": [
    {
     "ename": "KeyError",
     "evalue": "'B'",
     "output_type": "error",
     "traceback": [
      "\u001b[1;31m---------------------------------------------------------------------------\u001b[0m",
      "\u001b[1;31mKeyError\u001b[0m                                  Traceback (most recent call last)",
      "Cell \u001b[1;32mIn[334], line 4\u001b[0m\n\u001b[0;32m      2\u001b[0m my_data \u001b[38;5;241m=\u001b[39m{\u001b[38;5;124m\"\u001b[39m\u001b[38;5;124mA\u001b[39m\u001b[38;5;124m\"\u001b[39m:\u001b[38;5;241m10\u001b[39m}\n\u001b[0;32m      3\u001b[0m \u001b[38;5;66;03m# accessing something that is not there by reference or positions \u001b[39;00m\n\u001b[1;32m----> 4\u001b[0m \u001b[38;5;28mprint\u001b[39m(my_data[\u001b[38;5;124m'\u001b[39m\u001b[38;5;124mB\u001b[39m\u001b[38;5;124m'\u001b[39m])\n",
      "\u001b[1;31mKeyError\u001b[0m: 'B'"
     ]
    }
   ],
   "source": [
    "# I know I want this dictionary to change \n",
    "my_data ={\"A\":10}\n",
    "# accessing something that is not there by reference or positions \n",
    "print(my_data['B'])\n",
    "\n"
   ]
  },
  {
   "cell_type": "code",
   "execution_count": 336,
   "id": "5dcc4b5e-d5c0-44a3-ba64-a125305528a6",
   "metadata": {},
   "outputs": [
    {
     "name": "stdout",
     "output_type": "stream",
     "text": [
      "dest_ip: 0.0.0.0\n"
     ]
    }
   ],
   "source": [
    "from collections import defaultdict\n",
    "\n",
    "def default_ip(): \n",
    "    return '0.0.0.0'\n",
    "    \n",
    "dd1 = defaultdict(default_ip,{'source_ip':'192.168.1.2', 'port':1066})\n",
    "\n",
    "print(\"dest_ip:\", dd1['dest_ip'])\n"
   ]
  },
  {
   "cell_type": "markdown",
   "id": "bccf5a56-4df7-4cb0-b6ba-3e5a5209c312",
   "metadata": {},
   "source": [
    "## deque\n",
    "under a normal list adding things at the end can be done with append or extend and insert(0,) for whatever we need, deque allows us to add things because there is functionality provided specifically for it. That is to say there is popleft appendleft extendleft"
   ]
  },
  {
   "cell_type": "code",
   "execution_count": 341,
   "id": "1d007ba7-5208-47b0-a8b0-9791cdc3b6c6",
   "metadata": {},
   "outputs": [
    {
     "name": "stdout",
     "output_type": "stream",
     "text": [
      "item: Finance dq: deque(['R&D', 'Sales', 'Manufacturing', 'HR'])\n"
     ]
    }
   ],
   "source": [
    "from collections import deque\n",
    "dq = deque(['R&D', 'Sales', 'Manufacturing', 'HR', 'Finance'])\n",
    "item = dq.pop()\n",
    "\n",
    "print('item:', item, 'dq:', dq)\n",
    "\n",
    "print('adding',\n"
   ]
  },
  {
   "cell_type": "markdown",
   "id": "37c66833-64ad-4535-bc50-980052090543",
   "metadata": {},
   "source": [
    "## Comprehensions\n",
    "Create a list using a list comprehension where we are only having cats with names longer than three characters\n",
    "Create a dictionary with the cat name as a key and its length as the value but for only the cats that have names longer than 3 chars"
   ]
  },
  {
   "cell_type": "code",
   "execution_count": 347,
   "id": "62aab912-0a30-44b4-b487-bbea2aa9cf2a",
   "metadata": {},
   "outputs": [],
   "source": [
    "cats = [\"Frank\", \"Phil\", \"Jess\",\"Ron\"]\n",
    "\n",
    "list_comp = [c for c in cats if len(c)>3]\n",
    "dic_comp = {c : len(c) for c in list_comp}\n"
   ]
  },
  {
   "cell_type": "code",
   "execution_count": 349,
   "id": "248905d1-8ea6-44f9-9e90-7d40c0eca2b5",
   "metadata": {},
   "outputs": [
    {
     "data": {
      "text/plain": [
       "['Frank', 'Phil', 'Jess']"
      ]
     },
     "execution_count": 349,
     "metadata": {},
     "output_type": "execute_result"
    }
   ],
   "source": [
    "list_comp"
   ]
  },
  {
   "cell_type": "code",
   "execution_count": 357,
   "id": "ae262712-21a6-4a12-b390-97d472491be6",
   "metadata": {},
   "outputs": [
    {
     "data": {
      "text/plain": [
       "{'Frank': 5, 'Phil': 4, 'Jess': 4}"
      ]
     },
     "execution_count": 357,
     "metadata": {},
     "output_type": "execute_result"
    }
   ],
   "source": [
    "dic_comp"
   ]
  },
  {
   "cell_type": "code",
   "execution_count": 359,
   "id": "1c7d086a-1cc2-457d-87c9-7693de7736b9",
   "metadata": {},
   "outputs": [],
   "source": [
    "longcats2 = {cat:len(cat) for cat in cats if len(cat)>3}"
   ]
  },
  {
   "cell_type": "code",
   "execution_count": 355,
   "id": "653c6b60-3e67-46ea-ad98-35c733644263",
   "metadata": {},
   "outputs": [
    {
     "data": {
      "text/plain": [
       "{'Frank': 5, 'Phil': 4, 'Jess': 4}"
      ]
     },
     "execution_count": 355,
     "metadata": {},
     "output_type": "execute_result"
    }
   ],
   "source": [
    "#doing the same with a walrus operator, used for heavy processing\n",
    "longcats = {cat:clen for cat in cats if (clen:=len(cat))>3}\n",
    "longcats"
   ]
  },
  {
   "cell_type": "code",
   "execution_count": 361,
   "id": "d7fe4e65-0e40-41a6-b16e-684bef8dcb2a",
   "metadata": {},
   "outputs": [
    {
     "data": {
      "text/plain": [
       "{'Frank': 5, 'Phil': 4, 'Jess': 4}"
      ]
     },
     "execution_count": 361,
     "metadata": {},
     "output_type": "execute_result"
    }
   ],
   "source": [
    "longcats2"
   ]
  },
  {
   "cell_type": "markdown",
   "id": "a12c527f-681c-407b-972f-00a8cfbd6aa0",
   "metadata": {},
   "source": [
    "***Note*** In python there is something that is worth noting with the walrus operator, that is that the variable is still available. "
   ]
  },
  {
   "cell_type": "code",
   "execution_count": 364,
   "id": "e549136c-7d80-4714-ad07-3754a0f49f3e",
   "metadata": {},
   "outputs": [
    {
     "data": {
      "text/plain": [
       "3"
      ]
     },
     "execution_count": 364,
     "metadata": {},
     "output_type": "execute_result"
    }
   ],
   "source": [
    "clen"
   ]
  },
  {
   "cell_type": "markdown",
   "id": "e8423b83-d867-4f63-92f8-0cf5ef69df35",
   "metadata": {},
   "source": [
    "## generators\n",
    "the analogy is Pez, only get what you want when you ask for the next one. the reason for this is do we need all this data in memory. If it is too much then probably not."
   ]
  },
  {
   "cell_type": "code",
   "execution_count": 18,
   "id": "c3ec2776-206f-4af1-98db-f908b80067b6",
   "metadata": {},
   "outputs": [],
   "source": [
    "def get_odd_num_v1(minimum, maximum):\n",
    "    my_data = []\n",
    "    for num in range(minimum, maximum+1):\n",
    "        if num%2 == 1:\n",
    "            my_data.append(num)\n",
    "    return my_data"
   ]
  },
  {
   "cell_type": "code",
   "execution_count": 22,
   "id": "77ff5a70-d4c9-4345-bed9-c278ea44d8ff",
   "metadata": {},
   "outputs": [],
   "source": [
    "def get_odd_num_v2(minimum, maximum): \n",
    "    mydata = [ n for n in range(minimum, maximum +1) if n%2==1]\n",
    "    return mydata\n",
    "    "
   ]
  },
  {
   "cell_type": "code",
   "execution_count": 24,
   "id": "33215004-e567-4769-b131-67debc972046",
   "metadata": {},
   "outputs": [],
   "source": [
    "#creating a generator\n",
    "def get_odd_num_v3(minimum, maximum): \n",
    "    for num in range(minimum, maximum+1):\n",
    "        if num%2==1:\n",
    "            yield num"
   ]
  },
  {
   "cell_type": "code",
   "execution_count": 28,
   "id": "52fbb2db-c073-424a-b151-3917893efb5e",
   "metadata": {},
   "outputs": [
    {
     "data": {
      "text/plain": [
       "[1, 3, 5, 7, 9]"
      ]
     },
     "execution_count": 28,
     "metadata": {},
     "output_type": "execute_result"
    }
   ],
   "source": [
    "get_odd_num(1,10)"
   ]
  },
  {
   "cell_type": "code",
   "execution_count": 32,
   "id": "e1f8e80e-187b-461f-93b2-862aa04a4e92",
   "metadata": {},
   "outputs": [
    {
     "name": "stdout",
     "output_type": "stream",
     "text": [
      "['__annotations__', '__builtins__', '__call__', '__class__', '__closure__', '__code__', '__defaults__', '__delattr__', '__dict__', '__dir__', '__doc__', '__eq__', '__format__', '__ge__', '__get__', '__getattribute__', '__getstate__', '__globals__', '__gt__', '__hash__', '__init__', '__init_subclass__', '__kwdefaults__', '__le__', '__lt__', '__module__', '__name__', '__ne__', '__new__', '__qualname__', '__reduce__', '__reduce_ex__', '__repr__', '__setattr__', '__sizeof__', '__str__', '__subclasshook__', '__type_params__']\n"
     ]
    }
   ],
   "source": [
    "print(dir(get_odd_num_v2))"
   ]
  },
  {
   "cell_type": "code",
   "execution_count": null,
   "id": "2bd8f9ae-9555-428e-9f8d-3d110ee93f0e",
   "metadata": {},
   "outputs": [],
   "source": []
  },
  {
   "cell_type": "code",
   "execution_count": 26,
   "id": "5474d356-64ab-4e74-84a9-1d3883a3511a",
   "metadata": {},
   "outputs": [
    {
     "name": "stdout",
     "output_type": "stream",
     "text": [
      "['__class__', '__del__', '__delattr__', '__dir__', '__doc__', '__eq__', '__format__', '__ge__', '__getattribute__', '__getstate__', '__gt__', '__hash__', '__init__', '__init_subclass__', '__iter__', '__le__', '__lt__', '__name__', '__ne__', '__new__', '__next__', '__qualname__', '__reduce__', '__reduce_ex__', '__repr__', '__setattr__', '__sizeof__', '__str__', '__subclasshook__', 'close', 'gi_code', 'gi_frame', 'gi_running', 'gi_suspended', 'gi_yieldfrom', 'send', 'throw']\n"
     ]
    }
   ],
   "source": [
    "results = get_odd_num_v3(1,10)\n",
    "print(dir(results))"
   ]
  },
  {
   "cell_type": "markdown",
   "id": "c48a2aff-9984-4825-848c-de60506d5971",
   "metadata": {},
   "source": [
    "***Note*** Notice that `__iter__` is now in the the last state, we have created a pez dispenser for data. we can supply a state for when the data has run out "
   ]
  },
  {
   "cell_type": "code",
   "execution_count": 35,
   "id": "979eb90a-d9d3-4a8f-a7eb-7276e95ca786",
   "metadata": {},
   "outputs": [
    {
     "name": "stdout",
     "output_type": "stream",
     "text": [
      "1\n",
      "3\n",
      "5\n",
      "7\n",
      "9\n",
      "No More\n",
      "No More\n"
     ]
    }
   ],
   "source": [
    "print(next(results, \"No More\"))\n",
    "print(next(results, \"No More\"))\n",
    "print(next(results, \"No More\"))\n",
    "print(next(results, \"No More\"))\n",
    "print(next(results, \"No More\"))\n",
    "print(next(results, \"No More\"))\n",
    "print(next(results, \"No More\"))"
   ]
  },
  {
   "cell_type": "code",
   "execution_count": 37,
   "id": "c60c55cf-cef6-4311-a9c0-8ce664655930",
   "metadata": {},
   "outputs": [
    {
     "name": "stdout",
     "output_type": "stream",
     "text": [
      "1\n",
      "3\n",
      "5\n",
      "7\n",
      "9\n"
     ]
    }
   ],
   "source": [
    "#iterate to complete \n",
    "for number in get_odd_num_v3(1,10):\n",
    "    print(number)"
   ]
  },
  {
   "cell_type": "code",
   "execution_count": 41,
   "id": "5fe60797-9c12-46e7-a880-ac12b3ee9dec",
   "metadata": {},
   "outputs": [],
   "source": [
    "# using comprehension to return the generator note this is done with using standard parenthases, this is because we cant hav a tuple comprehension so this is safe \n",
    "def get_odd_numbers_v4(minimum, maximum): \n",
    "    return(num for num in range(minimum, maximum+1))"
   ]
  },
  {
   "cell_type": "code",
   "execution_count": 43,
   "id": "2a782d9a-2000-4848-a700-959659c47a67",
   "metadata": {},
   "outputs": [
    {
     "name": "stdout",
     "output_type": "stream",
     "text": [
      "10\n",
      "11\n",
      "12\n",
      "13\n",
      "14\n",
      "15\n",
      "16\n"
     ]
    }
   ],
   "source": [
    "results = get_odd_numbers_v4(10, 30)\n",
    "print(next(results, \"No More\"))\n",
    "print(next(results, \"No More\"))\n",
    "print(next(results, \"No More\"))\n",
    "print(next(results, \"No More\"))\n",
    "print(next(results, \"No More\"))\n",
    "print(next(results, \"No More\"))\n",
    "print(next(results, \"No More\"))"
   ]
  },
  {
   "cell_type": "markdown",
   "id": "6326ab5d-33a2-4e24-9c17-0d64c24f2c08",
   "metadata": {},
   "source": [
    "Using the generator in different ways \n",
    "ANything tha expects an iterable can work with a generator. For example sum(), min() , max(), statistics.  et al\n"
   ]
  },
  {
   "cell_type": "code",
   "execution_count": 50,
   "id": "88bd82e5-06db-442e-a6e2-bdb991059537",
   "metadata": {},
   "outputs": [
    {
     "name": "stdout",
     "output_type": "stream",
     "text": [
      "1\n",
      "1000\n"
     ]
    },
    {
     "ename": "TypeError",
     "evalue": "mean() takes 1 positional argument but 2 were given",
     "output_type": "error",
     "traceback": [
      "\u001b[1;31m---------------------------------------------------------------------------\u001b[0m",
      "\u001b[1;31mTypeError\u001b[0m                                 Traceback (most recent call last)",
      "Cell \u001b[1;32mIn[50], line 5\u001b[0m\n\u001b[0;32m      2\u001b[0m \u001b[38;5;28mprint\u001b[39m(\u001b[38;5;28mmax\u001b[39m(get_odd_numbers_v4(\u001b[38;5;241m1\u001b[39m,\u001b[38;5;241m1000\u001b[39m)))\n\u001b[0;32m      4\u001b[0m \u001b[38;5;28;01mfrom\u001b[39;00m \u001b[38;5;21;01mstatistics\u001b[39;00m \u001b[38;5;28;01mimport\u001b[39;00m mean \n\u001b[1;32m----> 5\u001b[0m \u001b[38;5;28mprint\u001b[39m(mean(get_odd_numbers_v4,(\u001b[38;5;241m1\u001b[39m, \u001b[38;5;241m1000\u001b[39m)))\n",
      "\u001b[1;31mTypeError\u001b[0m: mean() takes 1 positional argument but 2 were given"
     ]
    }
   ],
   "source": [
    "print(min(get_odd_numbers_v4(1,1000)))\n",
    "print(max(get_odd_numbers_v4(1,1000)))\n",
    "\n",
    "from statistics import mean \n",
    "print(mean(get_odd_numbers_v4,(1, 1000)))\n"
   ]
  },
  {
   "cell_type": "code",
   "execution_count": null,
   "id": "58bd044b-ec86-4308-9597-1604eb9485d8",
   "metadata": {},
   "outputs": [],
   "source": []
  }
 ],
 "metadata": {
  "kernelspec": {
   "display_name": "Python 3 (ipykernel)",
   "language": "python",
   "name": "python3"
  },
  "language_info": {
   "codemirror_mode": {
    "name": "ipython",
    "version": 3
   },
   "file_extension": ".py",
   "mimetype": "text/x-python",
   "name": "python",
   "nbconvert_exporter": "python",
   "pygments_lexer": "ipython3",
   "version": "3.12.4"
  }
 },
 "nbformat": 4,
 "nbformat_minor": 5
}
