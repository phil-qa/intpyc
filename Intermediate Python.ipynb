{
 "cells": [
  {
   "cell_type": "markdown",
   "id": "32e442fd-adff-4e67-b33c-a5b8eb5764ca",
   "metadata": {},
   "source": [
    "# Inermediate Python\r\n",
    "## introduction \r\n",
    "These course notes map to the delivery from Mark   \r\n",
    "- Functions \r\n",
    "- Jupyter Notebook to Standalone Script\r\n",
    "- Advanced Collections\r\n",
    "- Functional Programming for Data Analysis\r\n",
    "- Modules and Packages\r\n",
    "- Error Handling and Exceptions\r\n",
    "- Lightweight Testing\r\n",
    "- Web-based API and JSON\r\n",
    "\r\n",
    "## Course purpose \r\n",
    "To elevate students from a range of python capabilities from rusty to experienced to a common understanding of the language.\r\n",
    "\r\n",
    "- Create well organized and efficient code using functions and modules\r\n",
    "- Create well organized and efficient code from Jupyter Lab notebooks\r\n",
    "- Use advanced collections to support data processing in a more Pythonic manner.\r\n",
    "- Use functional programming to phrase data transformations clearly\r\n",
    "- Create well organised and efficient code using functions and modules\r\n",
    "- Build robust applications with error trapping and reporting\r\n",
    "- Identify opportunities to apply lightweight testing in reusable Python modules\r\n",
    "- Recognize different data structure and serialization formats\r\n",
    "- Use Python to create well—formed HTTP(S) requests to web-based APIs and successfully decode their responses\r\n"
   ]
  },
  {
   "cell_type": "markdown",
   "id": "60b9b638-fb1d-4972-b4a7-7682ae9b06c8",
   "metadata": {},
   "source": [
    "## Part 1 - setting expectations\n"
   ]
  },
  {
   "cell_type": "markdown",
   "id": "1c0cd14f-9f5f-47b5-aa9a-92e31d822ea8",
   "metadata": {},
   "source": [
    "## Part 2 Functions"
   ]
  },
  {
   "cell_type": "code",
   "execution_count": 11,
   "id": "ecc69c3d-2ee4-40fb-9ede-1b14f5ae429f",
   "metadata": {},
   "outputs": [],
   "source": [
    "#examples \n",
    "def make_stars():\n",
    "    print('*' * 8)\n",
    "    "
   ]
  },
  {
   "cell_type": "code",
   "execution_count": 13,
   "id": "9537cf35-5ea1-4f83-9daa-2843e56b8116",
   "metadata": {},
   "outputs": [
    {
     "data": {
      "text/plain": [
       "<function __main__.make_stars()>"
      ]
     },
     "execution_count": 13,
     "metadata": {},
     "output_type": "execute_result"
    }
   ],
   "source": [
    "make_stars"
   ]
  },
  {
   "cell_type": "code",
   "execution_count": 15,
   "id": "ecd201f6-a562-47b4-a835-22e72fe6ae91",
   "metadata": {},
   "outputs": [
    {
     "data": {
      "text/plain": [
       "function"
      ]
     },
     "execution_count": 15,
     "metadata": {},
     "output_type": "execute_result"
    }
   ],
   "source": [
    "type(make_stars)"
   ]
  },
  {
   "cell_type": "code",
   "execution_count": 17,
   "id": "8f9a68d6-62b8-4703-84aa-8ae952178841",
   "metadata": {},
   "outputs": [
    {
     "name": "stdout",
     "output_type": "stream",
     "text": [
      "********\n"
     ]
    },
    {
     "data": {
      "text/plain": [
       "NoneType"
      ]
     },
     "execution_count": 17,
     "metadata": {},
     "output_type": "execute_result"
    }
   ],
   "source": [
    "type(make_stars())"
   ]
  },
  {
   "cell_type": "code",
   "execution_count": 75,
   "id": "b3cff112-470c-4a9f-ab13-0e084d756769",
   "metadata": {},
   "outputs": [
    {
     "name": "stdout",
     "output_type": "stream",
     "text": [
      "['__annotations__', '__builtins__', '__call__', '__class__', '__closure__', '__code__', '__defaults__', '__delattr__', '__dict__', '__dir__', '__doc__', '__eq__', '__format__', '__ge__', '__get__', '__getattribute__', '__getstate__', '__globals__', '__gt__', '__hash__', '__init__', '__init_subclass__', '__kwdefaults__', '__le__', '__lt__', '__module__', '__name__', '__ne__', '__new__', '__qualname__', '__reduce__', '__reduce_ex__', '__repr__', '__setattr__', '__sizeof__', '__str__', '__subclasshook__', '__type_params__']\n"
     ]
    }
   ],
   "source": [
    "print(dir(make_stars))"
   ]
  },
  {
   "cell_type": "markdown",
   "id": "4d8844b2-44cb-4cb3-a643-58172f36402e",
   "metadata": {},
   "source": [
    "The point is made tat even though some of the dunders are listed, it may not be the case that they are fully implemented"
   ]
  },
  {
   "cell_type": "code",
   "execution_count": 24,
   "id": "fbb4137b-8acf-405b-89ae-461bf431c99b",
   "metadata": {},
   "outputs": [],
   "source": [
    "def c_to_f(cel):\n",
    "    fah = cel * 9/5 + 32\n",
    "    return fah\n",
    "    "
   ]
  },
  {
   "cell_type": "code",
   "execution_count": 30,
   "id": "65a14383-2d47-4056-ac05-73e71513dd1c",
   "metadata": {},
   "outputs": [
    {
     "name": "stdout",
     "output_type": "stream",
     "text": [
      "212.0\n",
      "188.6\n"
     ]
    }
   ],
   "source": [
    "print(c_to_f(100))\n",
    "print(c_to_f(0x57))\n"
   ]
  },
  {
   "cell_type": "markdown",
   "id": "60bc3403-6fe9-4ac3-9857-50fa01a4b782",
   "metadata": {},
   "source": [
    "***note*** there is nothing that stops passing invalid values into the function. that is to say there is nothing programatically in there to do that, this needs to be considerd as Python is dynamically typed  To assit us in Python, we can add hints typehints, this is optionsl, and is considered to be documentation: "
   ]
  },
  {
   "cell_type": "code",
   "execution_count": 35,
   "id": "32c07812-de8e-4c6f-b5c9-a200c1c6d98d",
   "metadata": {},
   "outputs": [],
   "source": [
    "def c_to_f(cel : float) -> float:\n",
    "    fah = cel * 9/5 + 32\n",
    "    return fah"
   ]
  },
  {
   "cell_type": "markdown",
   "id": "125064b2-cbf8-4884-b63b-ff08733a1414",
   "metadata": {},
   "source": [
    "This can also be supported by thetyping module in later Python versions. However this is good practice. Note that help wil;l respond to this by showing the type signature. doing dir on this will show annotations in the dunder list "
   ]
  },
  {
   "cell_type": "code",
   "execution_count": 38,
   "id": "da617f4c-0fc7-4060-b908-bde422bf2153",
   "metadata": {},
   "outputs": [
    {
     "name": "stdout",
     "output_type": "stream",
     "text": [
      "Help on function c_to_f in module __main__:\n",
      "\n",
      "c_to_f(cel: float) -> float\n",
      "\n",
      "None\n",
      "['__annotations__', '__builtins__', '__call__', '__class__', '__closure__', '__code__', '__defaults__', '__delattr__', '__dict__', '__dir__', '__doc__', '__eq__', '__format__', '__ge__', '__get__', '__getattribute__', '__getstate__', '__globals__', '__gt__', '__hash__', '__init__', '__init_subclass__', '__kwdefaults__', '__le__', '__lt__', '__module__', '__name__', '__ne__', '__new__', '__qualname__', '__reduce__', '__reduce_ex__', '__repr__', '__setattr__', '__sizeof__', '__str__', '__subclasshook__', '__type_params__']\n",
      "{'cel': <class 'float'>, 'return': <class 'float'>}\n"
     ]
    }
   ],
   "source": [
    "print (help(c_to_f))\n",
    "\n",
    "print(dir(c_to_f))\n",
    "\n",
    "print(c_to_f.__annotations__)\n"
   ]
  },
  {
   "cell_type": "markdown",
   "id": "1d7505e1-1107-4d44-ada4-fe5155540293",
   "metadata": {},
   "source": [
    "***Note*** This does not stop us passing incorrect or malformed data int the function, but it does help a collaborative environment with telling people what is expected.   \n",
    "***Note*** The data in `__annotations__' is in a dictionary format so we could address each key if needed.   \n",
    "\n",
    "### docstring \n",
    "we can also use docstring to give more detailed information that can be of assistance to other developers. \n"
   ]
  },
  {
   "cell_type": "code",
   "execution_count": 43,
   "id": "e5e3fd65-7608-4d58-88ec-00e07e479e56",
   "metadata": {},
   "outputs": [],
   "source": [
    "def c_to_f(cel : float) -> float:\n",
    "    \"\"\" \n",
    "    Function to convert Celcius to Farenheight\n",
    "    >>>c_to_f(100)\n",
    "    212.0\n",
    "    \"\"\"\n",
    "    fah = cel * 9/5 + 32\n",
    "    return fah"
   ]
  },
  {
   "cell_type": "markdown",
   "id": "620a2355-549c-4714-8333-e88395c8f34d",
   "metadata": {},
   "source": [
    "***Note*** in the example we also include a string for inline testing. \n",
    "Worth looking at the dir on this now "
   ]
  },
  {
   "cell_type": "code",
   "execution_count": 46,
   "id": "88495074-a57d-4698-88f0-4041f6704f48",
   "metadata": {},
   "outputs": [
    {
     "name": "stdout",
     "output_type": "stream",
     "text": [
      "['__annotations__', '__builtins__', '__call__', '__class__', '__closure__', '__code__', '__defaults__', '__delattr__', '__dict__', '__dir__', '__doc__', '__eq__', '__format__', '__ge__', '__get__', '__getattribute__', '__getstate__', '__globals__', '__gt__', '__hash__', '__init__', '__init_subclass__', '__kwdefaults__', '__le__', '__lt__', '__module__', '__name__', '__ne__', '__new__', '__qualname__', '__reduce__', '__reduce_ex__', '__repr__', '__setattr__', '__sizeof__', '__str__', '__subclasshook__', '__type_params__']\n"
     ]
    }
   ],
   "source": [
    "print(dir(c_to_f))\n"
   ]
  },
  {
   "cell_type": "code",
   "execution_count": 48,
   "id": "0b9331f2-4159-4a16-a36d-c20dfa2d4346",
   "metadata": {},
   "outputs": [
    {
     "data": {
      "text/plain": [
       "' \\n    Function to convert Celcius to Farenheight\\n    >>>c_to_f(100)\\n    212.0\\n    '"
      ]
     },
     "execution_count": 48,
     "metadata": {},
     "output_type": "execute_result"
    }
   ],
   "source": [
    "c_to_f.__doc__"
   ]
  },
  {
   "cell_type": "code",
   "execution_count": 50,
   "id": "4b32236b-c2f8-4096-9c42-ee91c6602fd6",
   "metadata": {},
   "outputs": [
    {
     "name": "stdout",
     "output_type": "stream",
     "text": [
      "Help on function c_to_f in module __main__:\n",
      "\n",
      "c_to_f(cel: float) -> float\n",
      "    Function to convert Celcius to Farenheight\n",
      "    >>>c_to_f(100)\n",
      "    212.0\n",
      "\n"
     ]
    }
   ],
   "source": [
    "help(c_to_f) # this gets its values from __doc__"
   ]
  },
  {
   "cell_type": "markdown",
   "id": "4ef24ad9-b6ce-4a7d-add1-be744f5cf693",
   "metadata": {},
   "source": [
    "An example when things are not right \n"
   ]
  },
  {
   "cell_type": "code",
   "execution_count": 61,
   "id": "4817e764-88a0-4fe7-aaaf-2de993bfb15f",
   "metadata": {},
   "outputs": [],
   "source": [
    "def calc_sale_price(price, disc):\n",
    "    discount = price * disc/100\n",
    "    saleprice = price - discount\n",
    "    return saleprice\n",
    "    "
   ]
  },
  {
   "cell_type": "markdown",
   "id": "626c732c-a3ce-44a2-9af1-1df06d254bc7",
   "metadata": {},
   "source": [
    "Without documentation there is a posibility that these are in the wrong order we don't know because there is no positional data here. the example is if we get them the wrong way roud then the item reduction is a very different thing.    \n",
    "this can be done in documentation but it is better to do named arguments. \n",
    "\n"
   ]
  },
  {
   "cell_type": "code",
   "execution_count": 66,
   "id": "5ca6db09-b5eb-44e7-b32d-6fe7fc462a65",
   "metadata": {},
   "outputs": [
    {
     "name": "stdout",
     "output_type": "stream",
     "text": [
      "good call 90.0\n",
      "bad call 0.0\n",
      "with good call 90.0\n"
     ]
    }
   ],
   "source": [
    "print ('good call ' + str(calc_sale_price(100, 10)))\n",
    "print ('bad call ' + str(calc_sale_price(10,100)))\n",
    "\n",
    "print ('with good call ' + str(calc_sale_price(price=100, disc=10)))\n",
    "\n"
   ]
  },
  {
   "cell_type": "code",
   "execution_count": 68,
   "id": "4086c03a-afe2-4cc2-a583-d399b895746b",
   "metadata": {},
   "outputs": [],
   "source": [
    "#tightening the operation by using enforced name parameter \n",
    "def calc_sale_price(*, price, disc):\n",
    "    discount = price * disc/100\n",
    "    saleprice = price - discount\n",
    "    return saleprice"
   ]
  },
  {
   "cell_type": "code",
   "execution_count": 70,
   "id": "184b1e07-4663-424c-8b1f-2b1d2a7c7e93",
   "metadata": {},
   "outputs": [
    {
     "ename": "TypeError",
     "evalue": "calc_sale_price() takes 0 positional arguments but 2 were given",
     "output_type": "error",
     "traceback": [
      "\u001b[1;31m---------------------------------------------------------------------------\u001b[0m",
      "\u001b[1;31mTypeError\u001b[0m                                 Traceback (most recent call last)",
      "Cell \u001b[1;32mIn[70], line 1\u001b[0m\n\u001b[1;32m----> 1\u001b[0m calc_sale_price(\u001b[38;5;241m100\u001b[39m,\u001b[38;5;241m10\u001b[39m)\n",
      "\u001b[1;31mTypeError\u001b[0m: calc_sale_price() takes 0 positional arguments but 2 were given"
     ]
    }
   ],
   "source": [
    "calc_sale_price(100,10)"
   ]
  },
  {
   "cell_type": "code",
   "execution_count": 72,
   "id": "d114f5c7-14ad-4656-83fe-9d2b938af8b6",
   "metadata": {},
   "outputs": [
    {
     "data": {
      "text/plain": [
       "90.0"
      ]
     },
     "execution_count": 72,
     "metadata": {},
     "output_type": "execute_result"
    }
   ],
   "source": [
    "calc_sale_price(price=100, disc=10)"
   ]
  },
  {
   "cell_type": "markdown",
   "id": "f5f00e6c-9cad-4a4b-b861-5de1e5d37a46",
   "metadata": {},
   "source": [
    "***Note*** we can also use the / to enforce positional \n",
    "\n",
    "An example of both is sorted"
   ]
  },
  {
   "cell_type": "code",
   "execution_count": 78,
   "id": "80c8a145-f059-4586-88fe-f015edc43112",
   "metadata": {},
   "outputs": [
    {
     "name": "stdout",
     "output_type": "stream",
     "text": [
      "Help on built-in function sorted in module builtins:\n",
      "\n",
      "sorted(iterable, /, *, key=None, reverse=False)\n",
      "    Return a new list containing all items from the iterable in ascending order.\n",
      "\n",
      "    A custom key function can be supplied to customize the sort order, and the\n",
      "    reverse flag can be set to request the result in descending order.\n",
      "\n"
     ]
    }
   ],
   "source": [
    "help(sorted)"
   ]
  },
  {
   "cell_type": "code",
   "execution_count": 80,
   "id": "bde18c7e-9fee-4ce9-bacd-e79b4fb39fe2",
   "metadata": {},
   "outputs": [
    {
     "name": "stdout",
     "output_type": "stream",
     "text": [
      "[66, 44, 22, 10, 3]\n"
     ]
    }
   ],
   "source": [
    "data = [10,22,3,44,66]\n",
    "print (sorted(data, reverse=True))\n"
   ]
  },
  {
   "cell_type": "code",
   "execution_count": 82,
   "id": "9981de90-63d7-47d8-b9d7-91e2d1b054ed",
   "metadata": {},
   "outputs": [
    {
     "data": {
      "text/plain": [
       "['10', '12', '100']"
      ]
     },
     "execution_count": 82,
     "metadata": {},
     "output_type": "execute_result"
    }
   ],
   "source": [
    "data = [\"10\", \"100\", \"12\"]\n",
    "sorted (data, key=int, reverse=False)"
   ]
  },
  {
   "cell_type": "markdown",
   "id": "8b1798bf-5ad1-4923-afba-3ad9f66475ab",
   "metadata": {},
   "source": [
    "***Note*** the key of course can be anything but in this case we are simply passing a builtin, that in this case is the builtin int tha twill operate on each of the elements before sorted executes the sorting function."
   ]
  },
  {
   "cell_type": "markdown",
   "id": "5cfe8095-a807-42de-8dc2-2eff79ac2e50",
   "metadata": {},
   "source": [
    "### Identifying iterable   \n",
    "We can see the iteration by looking at the object for `__iter__`"
   ]
  },
  {
   "cell_type": "markdown",
   "id": "ae6ee19d-48f4-49d4-b849-c4334e89f9e2",
   "metadata": {},
   "source": [
    "## Variadic functions\n",
    "\n",
    "When we declare a variadic funtion then the variable parameters are put to a tuple \n"
   ]
  },
  {
   "cell_type": "code",
   "execution_count": 87,
   "id": "b101173a-d1ea-47e5-9fe0-e26f8b2e72b5",
   "metadata": {},
   "outputs": [],
   "source": [
    "def a_variable_function(thing, *many_things): \n",
    "    print(thing)\n",
    "    for a_thing in many_things: \n",
    "        print(a_thing)\n",
    "    "
   ]
  },
  {
   "cell_type": "code",
   "execution_count": 89,
   "id": "c1a8adb1-1ced-4328-a5df-9803fcba7293",
   "metadata": {},
   "outputs": [
    {
     "name": "stdout",
     "output_type": "stream",
     "text": [
      "first\n",
      "[1, '10', 'phil']\n"
     ]
    }
   ],
   "source": [
    "some_stuff = [1,\"10\", \"phil\"]\n",
    "a_variable_function('first', some_stuff)\n"
   ]
  },
  {
   "cell_type": "markdown",
   "id": "ae490457-997d-4ae4-80d6-6ed36559f6af",
   "metadata": {},
   "source": [
    "### Keyword arguments\n",
    "\n"
   ]
  },
  {
   "cell_type": "markdown",
   "id": "aa576084-a95d-4c02-abff-14bf3595cac2",
   "metadata": {},
   "source": [
    "## Returning objects from a function \n",
    "Discusses the understanding that an object is an object so we can pass objects into a fuction and get objects out of a function, in the earlier example we passed a function, which is an object into the `sorted()` function.   \n",
    "Similarly we can get a function out as a return value."
   ]
  },
  {
   "cell_type": "markdown",
   "id": "4b13667d-8868-4b05-bb1a-a2da6a308077",
   "metadata": {},
   "source": [
    "### Function annotations \n",
    "It may be the case that we see the annotations could be expressed as string values, this is hte old and loose way of doing things.   \n",
    "\n",
    "However this is not the best because other tooling can use the methods we looked at earlier where we did not add the annotations as qstrings, but as the types they are.   \n",
    "\n",
    "Tools that use this are static analysis tools like mypy  \n",
    "\n",
    "These things can only work with the new way of doing things. \n"
   ]
  },
  {
   "cell_type": "markdown",
   "id": "f2a0c80d-29c6-4603-8387-f0857a1a83c0",
   "metadata": {},
   "source": [
    "### Scope \n",
    "A discussion on scope and accessibility, where something can be seen and used. Functions geenerally keeps things wthin itself, although there is the case explained earler for the default parameter trap.   \n",
    "\n",
    "One example shows this "
   ]
  },
  {
   "cell_type": "code",
   "execution_count": 115,
   "id": "6cb7a027-d8be-4551-91a6-99274ee9eb73",
   "metadata": {},
   "outputs": [
    {
     "name": "stdout",
     "output_type": "stream",
     "text": [
      "before the function num is 10\n",
      "Internal num is 20\n",
      "after the function num is 10\n"
     ]
    }
   ],
   "source": [
    "num = 10\n",
    "\n",
    "def a_function():\n",
    "    num = 20\n",
    "    print(f\"Internal num is {num}\")\n",
    "\n",
    "\n",
    "print (f\"before the function num is {num}\")\n",
    "a_function()\n",
    "\n",
    "print(f\"after the function num is {num}\") \n"
   ]
  },
  {
   "cell_type": "code",
   "execution_count": 117,
   "id": "67ff4e55-fd17-44d2-8fd1-bf37602d61ff",
   "metadata": {},
   "outputs": [
    {
     "name": "stdout",
     "output_type": "stream",
     "text": [
      "before the function num is 10\n",
      "Internal num is 10\n",
      "after the function num is 10\n"
     ]
    }
   ],
   "source": [
    "# the following shows that we can acces the variable as read only \n",
    "num = 10\n",
    "\n",
    "def a_function():\n",
    "    print(f\"Internal num is {num}\")\n",
    "\n",
    "\n",
    "print (f\"before the function num is {num}\")\n",
    "a_function()\n",
    "\n",
    "print(f\"after the function num is {num}\") "
   ]
  },
  {
   "cell_type": "code",
   "execution_count": 113,
   "id": "ea7854ff-fdbe-4e98-b8fe-db8678605baf",
   "metadata": {},
   "outputs": [
    {
     "name": "stdout",
     "output_type": "stream",
     "text": [
      "before the function num is 10\n",
      "Internal num is 20\n",
      "after the function num is 20\n"
     ]
    }
   ],
   "source": [
    "#using global\n",
    "num = 10\n",
    "\n",
    "def a_function():\n",
    "    global num\n",
    "    num = 20\n",
    "    print(f\"Internal num is {num}\")\n",
    "\n",
    "\n",
    "print (f\"before the function num is {num}\")\n",
    "a_function()\n",
    "\n",
    "print(f\"after the function num is {num}\") "
   ]
  },
  {
   "cell_type": "markdown",
   "id": "ca4da481-be15-4cc7-b416-051c5c38940d",
   "metadata": {},
   "source": [
    "### Lambda and map\n",
    "covers the process of lambda and map  \n",
    "#### lambda\n",
    "Temperary function used where a function needs antother to work properly \n",
    "\n"
   ]
  },
  {
   "cell_type": "code",
   "execution_count": 122,
   "id": "6f074ddb-71ca-4545-85f0-b2a62b19ba2b",
   "metadata": {},
   "outputs": [
    {
     "name": "stdout",
     "output_type": "stream",
     "text": [
      "<map object at 0x0000019989461A20>\n",
      "['__class__', '__delattr__', '__dir__', '__doc__', '__eq__', '__format__', '__ge__', '__getattribute__', '__getstate__', '__gt__', '__hash__', '__init__', '__init_subclass__', '__iter__', '__le__', '__lt__', '__ne__', '__new__', '__next__', '__reduce__', '__reduce_ex__', '__repr__', '__setattr__', '__sizeof__', '__str__', '__subclasshook__']\n"
     ]
    }
   ],
   "source": [
    "data = [1,2,3,4,5]\n",
    "\n",
    "squared = map(lambda x: x**2, data)\n",
    "print(squared)\n",
    "print(dir(squared))"
   ]
  },
  {
   "cell_type": "code",
   "execution_count": 124,
   "id": "7713289e-f3b7-4cde-b36e-df348e0efb88",
   "metadata": {},
   "outputs": [
    {
     "data": {
      "text/plain": [
       "[1, 4, 9, 16, 25]"
      ]
     },
     "execution_count": 124,
     "metadata": {},
     "output_type": "execute_result"
    }
   ],
   "source": [
    "list(squared)\n"
   ]
  },
  {
   "cell_type": "markdown",
   "id": "33758c7d-72da-447d-8d5b-8a726dcdffb7",
   "metadata": {},
   "source": [
    "### Filter\n",
    "appling filter to a data structure, note that the difference for map and filter is tjat map will return a result on all operands provided, filter will return filter true conditions"
   ]
  },
  {
   "cell_type": "code",
   "execution_count": 132,
   "id": "31d8758c-ab7e-42f1-bd7f-6165f2910ce7",
   "metadata": {},
   "outputs": [
    {
     "data": {
      "text/plain": [
       "[3, 19, 8]"
      ]
     },
     "execution_count": 132,
     "metadata": {},
     "output_type": "execute_result"
    }
   ],
   "source": [
    "data = [-1,3,-9,19,8,-3]\n",
    "cleaned = list (filter(lambda x: x>0, data))\n",
    "cleaned"
   ]
  },
  {
   "cell_type": "markdown",
   "id": "b83ad8d5-3b55-4203-b9ff-f34e02546b73",
   "metadata": {},
   "source": [
    "Example of using next in an iterable \n"
   ]
  },
  {
   "cell_type": "code",
   "execution_count": 135,
   "id": "aa36eb7f-1bb8-417c-9965-bab0585bb130",
   "metadata": {},
   "outputs": [
    {
     "name": "stdout",
     "output_type": "stream",
     "text": [
      "1\n",
      "4\n"
     ]
    }
   ],
   "source": [
    "data = [1,2,3,4,5]\n",
    "\n",
    "squared = map(lambda x: x**2, data)\n",
    "print(next(squared))\n",
    "print(next(squared))"
   ]
  },
  {
   "cell_type": "markdown",
   "id": "857e74f6-4689-42ce-a914-bfc391f2ca2a",
   "metadata": {
    "jp-MarkdownHeadingCollapsed": true
   },
   "source": [
    "## EG01\n",
    "\n",
    "1.\tCreate a function which takes two arguments: a value and a list. The list should have a default of an empty list, for example:   \r\n",
    "`\r\n",
    "def my_func(value, alist=[]`   \n",
    "\n",
    "\n",
    "):\r\n"
   ]
  },
  {
   "cell_type": "markdown",
   "id": "0fd70c0f-f231-49c8-87fb-b4d260ad5def",
   "metadata": {},
   "source": [
    "## EG01 \n",
    "\n",
    "1.\tCreate a function which takes two arguments: a value and a list. The list should have a default of an empty list, for example:   \r\n",
    "`\r\n",
    "def my_func(value, alist=[] `   ):\r\n",
    "\r\n",
    "\r\n",
    "The function should append the value to the list, then print the contents of the supplied list.  \r\n",
    "Call this function several times with various values, defaulting the list each time. Can you explain the output?\r\n",
    "Can you suggest a solution to the problem?   "
   ]
  },
  {
   "cell_type": "code",
   "execution_count": 139,
   "id": "c6e004a3-d3f5-40fb-b3d7-333f57a2236a",
   "metadata": {},
   "outputs": [
    {
     "data": {
      "text/plain": [
       "[10, 10, 10, 9, 10]"
      ]
     },
     "execution_count": 139,
     "metadata": {},
     "output_type": "execute_result"
    }
   ],
   "source": [
    "def my_func(value, alist=[]):\n",
    "    alist.append(value)\n",
    "    return alist\n",
    "\n",
    "my_func(10,[10,10,10,9])"
   ]
  },
  {
   "cell_type": "code",
   "execution_count": 141,
   "id": "90e738bd-b9f7-427a-9945-e383e801cd86",
   "metadata": {},
   "outputs": [
    {
     "data": {
      "text/plain": [
       "[3]"
      ]
     },
     "execution_count": 141,
     "metadata": {},
     "output_type": "execute_result"
    }
   ],
   "source": [
    "my_func(3)"
   ]
  },
  {
   "cell_type": "code",
   "execution_count": 147,
   "id": "7deb8a7e-3f3d-455a-9569-762d246ea579",
   "metadata": {},
   "outputs": [
    {
     "data": {
      "text/plain": [
       "[3, 'hi', 'there', 3]"
      ]
     },
     "execution_count": 147,
     "metadata": {},
     "output_type": "execute_result"
    }
   ],
   "source": [
    "my_func(3,[3,\"hi\",\"there\"])"
   ]
  },
  {
   "cell_type": "markdown",
   "id": "4ce315be-9ce3-4a5f-8a17-7ee8a83e8775",
   "metadata": {},
   "source": [
    "### EG01.2\n",
    "2.\tA function is required called is_palindrome().   \r\n",
    "Its single responsibility is to examine a string which is passed to it and determine whether (or not) the string is a palindrome, i.e. reads the same forwards and backwards.  The function must (as the name suggests with its “is_” prefix) return a Boolean   .  \r\n",
    "\r\n",
    "Three different levels of complexity are envisag   ed:\r\n",
    "Easy: A simple one-word string, 100% alphabetic in the same case, e.g. RAC   ECAR\r\n",
    "Medium: A string in sentence case which will not have punctuation but may have mixed case and embedded spaces, e.g. A nut for a jar of    tuna\r\n",
    "Hard: A string which may contain any characters, e.g. A man, a plan, a canal, P   anama!"
   ]
  },
  {
   "cell_type": "code",
   "execution_count": 267,
   "id": "ec7d5e2b-1c3e-4d9e-aa31-7d56113adbc0",
   "metadata": {},
   "outputs": [],
   "source": [
    "import math\n",
    "import string\n",
    "\n",
    "def palindromer(content):\n",
    "    #preformat\n",
    "    content = content.lower()\n",
    "    content = content.replace(' ','')\n",
    "    content = ''.join([x for x in content if x not in string.punctuation])\n",
    "    split_content = []\n",
    "    if (len(content)/2)%2 == 0:\n",
    "        split_content = [content[0:len(content/2)], content[len(content/2):]]\n",
    "    else: \n",
    "        split_content = [content[0:math.ceil(len(content)/2)], content[math.floor(len(content)/2):]]\n",
    "    print(split_content[0], ' ', split_content[1])\n",
    "    return split_content[0] == split_content[1][::-1]\n",
    "\n"
   ]
  },
  {
   "cell_type": "code",
   "execution_count": 269,
   "id": "e9886020-f9e5-4fc2-a90b-cda7612666a4",
   "metadata": {},
   "outputs": [
    {
     "name": "stdout",
     "output_type": "stream",
     "text": [
      "race   ecar\n",
      "True\n",
      "kib   ble\n",
      "True\n",
      "anutforaj   jaroftuna\n",
      "True\n",
      "amanaplanac   canalpanama\n",
      "True\n"
     ]
    }
   ],
   "source": [
    "print(palindromer('racecar') == True)\n",
    "print(palindromer('kibble') == False)\n",
    "print(palindromer('A nut for a jar of tuna') == True)\n",
    "print(palindromer('A man, a plan, a canal, Panama!') == True)"
   ]
  },
  {
   "cell_type": "markdown",
   "id": "aaa1201e-251c-4e51-83b2-6e6bb144d9cc",
   "metadata": {},
   "source": [
    "3.\tA lambda function is needed which can be used as a comparator to order the following list of web accesses chronologically:\r\n",
    "data = [[\"192.168.1.123\",\"www.site.com\", \"10/09/20 09:00\"],\r\n",
    "[\"192.168.1.88\",\"www.site2.com\", \"12/08/20 10:03\"],\r\n",
    "[\"192.168.1.88\",\"www.site2.com\", \"12/08/20 10:02\"],\r\n",
    "[\"192.168.1.87\",\"www.site3.com\", \"10/09/20 09:01\"]]"
   ]
  },
  {
   "cell_type": "markdown",
   "id": "41c6c1d4-4341-4d92-8719-29cc05776c36",
   "metadata": {},
   "source": [
    "## Closures\n",
    "The returning of a reference to a function. In Python we can have a nested function and the nested function can be called. In essence hiding the function within the function.   \n",
    "One of tricks we can do with this is a decorator, a more modern way is py syntax.    \n",
    "the following example returns the function raise it, \n"
   ]
  },
  {
   "cell_type": "code",
   "execution_count": 275,
   "id": "6fe41464-5112-4a82-93bb-62c32892a4ac",
   "metadata": {},
   "outputs": [
    {
     "name": "stdout",
     "output_type": "stream",
     "text": [
      "125\n",
      "25\n"
     ]
    }
   ],
   "source": [
    "def raise_power_by(power):\n",
    "    def raise_it(number):\n",
    "        return number ** power\n",
    "    return raise_it\n",
    "\n",
    "#cubing function\n",
    "cube_it = raise_power_by(3)\n",
    "\n",
    "#squaring function\n",
    "square_it = raise_power_by(2)\n",
    "\n",
    "print(cube_it(5))\n",
    "\n",
    "print(square_it(5))\n"
   ]
  },
  {
   "cell_type": "markdown",
   "id": "937d2c16-82c9-4c1d-9464-896876d2e346",
   "metadata": {},
   "source": []
  },
  {
   "cell_type": "markdown",
   "id": "c761a41c-8632-4a60-9693-07fc7891d675",
   "metadata": {},
   "source": [
    "In the example where cube_it is asked for then the returned function will be called when it is used, 3 is bound in to the operation. \n",
    "\n",
    "when we call cube_it then the value that is being passed will go to the inner function and gets an answer back.  \n",
    "\n",
    "In this way we can create a partial version of a function and then call it with the rest. \n",
    "\n",
    "Example calculate discount, looking at that and we see that we could create a generic function, with a hard coded value into the process, eg christmas_promo, summer_promo\n"
   ]
  },
  {
   "cell_type": "markdown",
   "id": "040d307d-efeb-4f0a-be65-d8c4234a07c8",
   "metadata": {},
   "source": [
    "### Decorators\n",
    "In the following example, we can see a decorator being used. Notice that there is a calc_cubes() function that on it's own will calculate cubes in a supplied range. However there is a decorator above it and that will do something. \n",
    "in the my_timer which takes a function (in this case the cube_it). It will execute the function but as can be seen, because it is decorated then the execution of that function its inside the timer_wrapper_function   \n",
    "\n"
   ]
  },
  {
   "cell_type": "code",
   "execution_count": 280,
   "id": "9492d072-c487-4664-91be-8b2594c9f0a7",
   "metadata": {},
   "outputs": [
    {
     "name": "stdout",
     "output_type": "stream",
     "text": [
      "calc_cubes execution time 0.00012 s\n",
      "250500250000\n"
     ]
    }
   ],
   "source": [
    "import time\n",
    "\n",
    "def my_timer(fn):\n",
    "    \"\"\"Display execution time of decorated function\"\"\"\n",
    "    def timer_wrapper_func(*args, **kwargs):\n",
    "        #start the timer\n",
    "        start_t = time.perf_counter()\n",
    "        #call the function\n",
    "        result = fn(*args, **kwargs)\n",
    "        #end timer and work out elapsed time\n",
    "        end_t = time.perf_counter()        \n",
    "        duration = end_t - start_t  \n",
    "        print(f\"{fn.__name__} execution time {duration:.5f} s\")\n",
    "        return result\n",
    "    return timer_wrapper_func\n",
    "\n",
    "@my_timer\n",
    "def calc_cubes(qty):\n",
    "    \"\"\"Return sum of cubes from 1 to n inclusive\"\"\"\n",
    "    value = sum([num**3 for num in range(1,qty+1)])\n",
    "    return value    \n",
    "\n",
    "#calling with decoration is transparent\n",
    "print(calc_cubes(1000))\n"
   ]
  },
  {
   "cell_type": "markdown",
   "id": "8b15e037-5821-4fe1-9391-62d5bbd279cb",
   "metadata": {},
   "source": [
    "***Note*** I did not have to alter the function that was being tested. I can simple remove the decoration and the stand-alone function will operate as successfully in isolation. \n",
    "\n",
    "An example, if I have 20 functions and I need logging around them, am I going to fit that to each function, no I am simply going to decorate it. this is particularly useful in data science. "
   ]
  },
  {
   "cell_type": "markdown",
   "id": "3aebf0cc-c3b9-47a7-adb9-072f1ff8cb7e",
   "metadata": {},
   "source": [
    "# Jupyter notebook\n",
    "(late pm) \n",
    "\n",
    "Jupyter notebooks are indeed a great way of developing experimentally, but there comes a time that we would want to turn it into production and there are a couple of ways in which this couls be done. \n",
    "\n",
    "Create well organized and efficient code from Jupyter Lab notebooks\r\n",
    "`jupyter nbconvert --to python yourfile.ipynb`   \n",
    "\n",
    "***Note*** that nbconvert can be used in automation or as part of a script \n"
   ]
  },
  {
   "cell_type": "code",
   "execution_count": 284,
   "id": "f6d8f5fe-4c3c-440f-9169-093b3027afe7",
   "metadata": {},
   "outputs": [
    {
     "ename": "FileNotFoundError",
     "evalue": "[Errno 2] No such file or directory: 'flight_heatmap.ipynb'",
     "output_type": "error",
     "traceback": [
      "\u001b[1;31m---------------------------------------------------------------------------\u001b[0m",
      "\u001b[1;31mFileNotFoundError\u001b[0m                         Traceback (most recent call last)",
      "Cell \u001b[1;32mIn[284], line 6\u001b[0m\n\u001b[0;32m      3\u001b[0m \u001b[38;5;28;01mfrom\u001b[39;00m \u001b[38;5;21;01mnbconvert\u001b[39;00m \u001b[38;5;28;01mimport\u001b[39;00m HTMLExporter\n\u001b[0;32m      5\u001b[0m \u001b[38;5;66;03m# Load the required notebook file\u001b[39;00m\n\u001b[1;32m----> 6\u001b[0m \u001b[38;5;28;01mwith\u001b[39;00m \u001b[38;5;28mopen\u001b[39m(\u001b[38;5;124m'\u001b[39m\u001b[38;5;124mflight_heatmap.ipynb\u001b[39m\u001b[38;5;124m'\u001b[39m) \u001b[38;5;28;01mas\u001b[39;00m f:\n\u001b[0;32m      7\u001b[0m     notebook_content \u001b[38;5;241m=\u001b[39m nbformat\u001b[38;5;241m.\u001b[39mread(f, as_version\u001b[38;5;241m=\u001b[39m\u001b[38;5;241m4\u001b[39m)\n\u001b[0;32m      9\u001b[0m \u001b[38;5;66;03m# Initialize the HTMLExporter class\u001b[39;00m\n",
      "File \u001b[1;32m~\\anaconda3\\Lib\\site-packages\\IPython\\core\\interactiveshell.py:324\u001b[0m, in \u001b[0;36m_modified_open\u001b[1;34m(file, *args, **kwargs)\u001b[0m\n\u001b[0;32m    317\u001b[0m \u001b[38;5;28;01mif\u001b[39;00m file \u001b[38;5;129;01min\u001b[39;00m {\u001b[38;5;241m0\u001b[39m, \u001b[38;5;241m1\u001b[39m, \u001b[38;5;241m2\u001b[39m}:\n\u001b[0;32m    318\u001b[0m     \u001b[38;5;28;01mraise\u001b[39;00m \u001b[38;5;167;01mValueError\u001b[39;00m(\n\u001b[0;32m    319\u001b[0m         \u001b[38;5;124mf\u001b[39m\u001b[38;5;124m\"\u001b[39m\u001b[38;5;124mIPython won\u001b[39m\u001b[38;5;124m'\u001b[39m\u001b[38;5;124mt let you open fd=\u001b[39m\u001b[38;5;132;01m{\u001b[39;00mfile\u001b[38;5;132;01m}\u001b[39;00m\u001b[38;5;124m by default \u001b[39m\u001b[38;5;124m\"\u001b[39m\n\u001b[0;32m    320\u001b[0m         \u001b[38;5;124m\"\u001b[39m\u001b[38;5;124mas it is likely to crash IPython. If you know what you are doing, \u001b[39m\u001b[38;5;124m\"\u001b[39m\n\u001b[0;32m    321\u001b[0m         \u001b[38;5;124m\"\u001b[39m\u001b[38;5;124myou can use builtins\u001b[39m\u001b[38;5;124m'\u001b[39m\u001b[38;5;124m open.\u001b[39m\u001b[38;5;124m\"\u001b[39m\n\u001b[0;32m    322\u001b[0m     )\n\u001b[1;32m--> 324\u001b[0m \u001b[38;5;28;01mreturn\u001b[39;00m io_open(file, \u001b[38;5;241m*\u001b[39margs, \u001b[38;5;241m*\u001b[39m\u001b[38;5;241m*\u001b[39mkwargs)\n",
      "\u001b[1;31mFileNotFoundError\u001b[0m: [Errno 2] No such file or directory: 'flight_heatmap.ipynb'"
     ]
    }
   ],
   "source": [
    "# Perform necessary imports\n",
    "import nbformat\n",
    "from nbconvert import HTMLExporter\n",
    "\n",
    "# Load the required notebook file\n",
    "with open('flight_heatmap.ipynb') as f:\n",
    "    notebook_content = nbformat.read(f, as_version=4)\n",
    "\n",
    "# Initialize the HTMLExporter class\n",
    "html_exporter = HTMLExporter()\n",
    "\n",
    "# Convert the notebook to HTML\n",
    "body, resources = html_exporter.from_notebook_node(notebook_content)\n",
    "\n",
    "# Write the HTML output to the same folder\n",
    "with open('flight_heatmap.html', 'w') as f:\n",
    "    f.write(body)\n"
   ]
  },
  {
   "cell_type": "markdown",
   "id": "bc3bd0ae-272d-41d7-8097-2fd1813bd313",
   "metadata": {},
   "source": [
    "### EG02 \n",
    "You have been asked to:    \r\n",
    "\r\n",
    "1.\tUse a suitable technique to export this code to a standalone Python scrip   t.\r\n",
    "\r\n",
    "2.\tRefactor this so that it is written using a sequence of functions.  Hint: there may also be redundancies in the code you don’t n   eed.\r\n",
    "\r\n",
    "3.\tExecute and test the script, confirming its external behaviour is unaffected by the refactoring you have perf   ormed.\r\n",
    "\r\n",
    "Once completed, please discuss your refactored solution with your    trainer."
   ]
  },
  {
   "attachments": {},
   "cell_type": "markdown",
   "id": "a072880c-8d82-4e5d-8cc1-c8515008c3c7",
   "metadata": {},
   "source": [
    "### Once the file is exported the following checklist needs to be done \r\n",
    "- Remove any unnecessary comments converted from original markdown\r\n",
    "- Delete any Jupyter cell markers, e.g. # In[1]\r\n",
    "- These are automatically added when the notebook is converted   \r\n",
    "- Refactor monolithic and reusable code into functions using SRP\r\n",
    "- Add an if __name__ == \"__main__\": guard block\r\n",
    "- This ensures your code is only executed when directly executed, not imported.\r\n",
    "- Remove any interactive visualisation aspects, e.g. display(), show() etc.\r\n",
    "- Export them as permanent images instead (less transient and interactive), e.g. using save() etc.\r\n",
    "- Add docstrings to functions and classes\r\n",
    "- Include example doctests to illustrate usage, prep for testing etc.\r\n",
    "- Add comments to explain real-world logic, processes etc.\r\n",
    "- Handle dependencies with requirements.txt\r\n",
    "- This can assist later distribution\r\n",
    "- Follow PEP8 guidelines re: layout and naming conventions\r\n",
    "- Add error handling using try…except…else…finally blocks\r\n",
    "- Add logging to capture run-time errors and information\r\n",
    "- Critical for debugging and monitoring\r\n",
    "- Test thoroughly (functional doctests are a minimum requirement)\r\n",
    "- Commit and push to repository using version control, e.g. Git"
   ]
  },
  {
   "cell_type": "markdown",
   "id": "20492b3b-6a68-4a9c-aed8-a4615ec6245c",
   "metadata": {},
   "source": [
    "# Collections Module \n",
    "Collections is highly optimised and part of the distro so there is no need to pip install it. Just import it. \n"
   ]
  },
  {
   "cell_type": "code",
   "execution_count": 296,
   "id": "9c95e170-0906-4cd6-a89d-f8b23828e7b9",
   "metadata": {},
   "outputs": [
    {
     "name": "stdout",
     "output_type": "stream",
     "text": [
      "['ChainMap', 'Counter', 'OrderedDict', 'UserDict', 'UserList', 'UserString', '_Link', '_OrderedDictItemsView', '_OrderedDictKeysView', '_OrderedDictValuesView', '__all__', '__builtins__', '__cached__', '__doc__', '__file__', '__loader__', '__name__', '__package__', '__path__', '__spec__', '_chain', '_collections_abc', '_count_elements', '_deque_iterator', '_eq', '_iskeyword', '_itemgetter', '_proxy', '_recursive_repr', '_repeat', '_starmap', '_sys', '_tuplegetter', 'abc', 'defaultdict', 'deque', 'namedtuple']\n"
     ]
    }
   ],
   "source": [
    "import collections\n",
    "print(dir(collections))"
   ]
  },
  {
   "cell_type": "markdown",
   "id": "c90d7be6-e8a3-4be1-9b50-4165e1899553",
   "metadata": {},
   "source": [
    "Note that some of the naming conventions here are different than PEP008 standard. this helps differentiate the collections versions. One of the examples is Counter"
   ]
  },
  {
   "cell_type": "code",
   "execution_count": 299,
   "id": "70b45e23-0980-4dd6-bb2c-f56d81b4e158",
   "metadata": {},
   "outputs": [],
   "source": [
    "content = \"this is a string of a sentance that has things like whatever in it. Muy name is Phil, the others are Pete Rob\"\n",
    "from collections import Counter\n"
   ]
  },
  {
   "cell_type": "code",
   "execution_count": 301,
   "id": "cb60e4d8-720a-438a-b057-4e5f4b0d9d15",
   "metadata": {},
   "outputs": [
    {
     "name": "stdout",
     "output_type": "stream",
     "text": [
      "Help on class Counter in module collections:\n",
      "\n",
      "class Counter(builtins.dict)\n",
      " |  Counter(iterable=None, /, **kwds)\n",
      " |\n",
      " |  Dict subclass for counting hashable items.  Sometimes called a bag\n",
      " |  or multiset.  Elements are stored as dictionary keys and their counts\n",
      " |  are stored as dictionary values.\n",
      " |\n",
      " |  >>> c = Counter('abcdeabcdabcaba')  # count elements from a string\n",
      " |\n",
      " |  >>> c.most_common(3)                # three most common elements\n",
      " |  [('a', 5), ('b', 4), ('c', 3)]\n",
      " |  >>> sorted(c)                       # list all unique elements\n",
      " |  ['a', 'b', 'c', 'd', 'e']\n",
      " |  >>> ''.join(sorted(c.elements()))   # list elements with repetitions\n",
      " |  'aaaaabbbbcccdde'\n",
      " |  >>> sum(c.values())                 # total of all counts\n",
      " |  15\n",
      " |\n",
      " |  >>> c['a']                          # count of letter 'a'\n",
      " |  5\n",
      " |  >>> for elem in 'shazam':           # update counts from an iterable\n",
      " |  ...     c[elem] += 1                # by adding 1 to each element's count\n",
      " |  >>> c['a']                          # now there are seven 'a'\n",
      " |  7\n",
      " |  >>> del c['b']                      # remove all 'b'\n",
      " |  >>> c['b']                          # now there are zero 'b'\n",
      " |  0\n",
      " |\n",
      " |  >>> d = Counter('simsalabim')       # make another counter\n",
      " |  >>> c.update(d)                     # add in the second counter\n",
      " |  >>> c['a']                          # now there are nine 'a'\n",
      " |  9\n",
      " |\n",
      " |  >>> c.clear()                       # empty the counter\n",
      " |  >>> c\n",
      " |  Counter()\n",
      " |\n",
      " |  Note:  If a count is set to zero or reduced to zero, it will remain\n",
      " |  in the counter until the entry is deleted or the counter is cleared:\n",
      " |\n",
      " |  >>> c = Counter('aaabbc')\n",
      " |  >>> c['b'] -= 2                     # reduce the count of 'b' by two\n",
      " |  >>> c.most_common()                 # 'b' is still in, but its count is zero\n",
      " |  [('a', 3), ('c', 1), ('b', 0)]\n",
      " |\n",
      " |  Method resolution order:\n",
      " |      Counter\n",
      " |      builtins.dict\n",
      " |      builtins.object\n",
      " |\n",
      " |  Methods defined here:\n",
      " |\n",
      " |  __add__(self, other)\n",
      " |      Add counts from two counters.\n",
      " |\n",
      " |      >>> Counter('abbb') + Counter('bcc')\n",
      " |      Counter({'b': 4, 'c': 2, 'a': 1})\n",
      " |\n",
      " |  __and__(self, other)\n",
      " |      Intersection is the minimum of corresponding counts.\n",
      " |\n",
      " |      >>> Counter('abbb') & Counter('bcc')\n",
      " |      Counter({'b': 1})\n",
      " |\n",
      " |  __delitem__(self, elem)\n",
      " |      Like dict.__delitem__() but does not raise KeyError for missing values.\n",
      " |\n",
      " |  __eq__(self, other)\n",
      " |      True if all counts agree. Missing counts are treated as zero.\n",
      " |\n",
      " |  __ge__(self, other)\n",
      " |      True if all counts in self are a superset of those in other.\n",
      " |\n",
      " |  __gt__(self, other)\n",
      " |      True if all counts in self are a proper superset of those in other.\n",
      " |\n",
      " |  __iadd__(self, other)\n",
      " |      Inplace add from another counter, keeping only positive counts.\n",
      " |\n",
      " |      >>> c = Counter('abbb')\n",
      " |      >>> c += Counter('bcc')\n",
      " |      >>> c\n",
      " |      Counter({'b': 4, 'c': 2, 'a': 1})\n",
      " |\n",
      " |  __iand__(self, other)\n",
      " |      Inplace intersection is the minimum of corresponding counts.\n",
      " |\n",
      " |      >>> c = Counter('abbb')\n",
      " |      >>> c &= Counter('bcc')\n",
      " |      >>> c\n",
      " |      Counter({'b': 1})\n",
      " |\n",
      " |  __init__(self, iterable=None, /, **kwds)\n",
      " |      Create a new, empty Counter object.  And if given, count elements\n",
      " |      from an input iterable.  Or, initialize the count from another mapping\n",
      " |      of elements to their counts.\n",
      " |\n",
      " |      >>> c = Counter()                           # a new, empty counter\n",
      " |      >>> c = Counter('gallahad')                 # a new counter from an iterable\n",
      " |      >>> c = Counter({'a': 4, 'b': 2})           # a new counter from a mapping\n",
      " |      >>> c = Counter(a=4, b=2)                   # a new counter from keyword args\n",
      " |\n",
      " |  __ior__(self, other)\n",
      " |      Inplace union is the maximum of value from either counter.\n",
      " |\n",
      " |      >>> c = Counter('abbb')\n",
      " |      >>> c |= Counter('bcc')\n",
      " |      >>> c\n",
      " |      Counter({'b': 3, 'c': 2, 'a': 1})\n",
      " |\n",
      " |  __isub__(self, other)\n",
      " |      Inplace subtract counter, but keep only results with positive counts.\n",
      " |\n",
      " |      >>> c = Counter('abbbc')\n",
      " |      >>> c -= Counter('bccd')\n",
      " |      >>> c\n",
      " |      Counter({'b': 2, 'a': 1})\n",
      " |\n",
      " |  __le__(self, other)\n",
      " |      True if all counts in self are a subset of those in other.\n",
      " |\n",
      " |  __lt__(self, other)\n",
      " |      True if all counts in self are a proper subset of those in other.\n",
      " |\n",
      " |  __missing__(self, key)\n",
      " |      The count of elements not in the Counter is zero.\n",
      " |\n",
      " |  __ne__(self, other)\n",
      " |      True if any counts disagree. Missing counts are treated as zero.\n",
      " |\n",
      " |  __neg__(self)\n",
      " |      Subtracts from an empty counter.  Strips positive and zero counts,\n",
      " |      and flips the sign on negative counts.\n",
      " |\n",
      " |  __or__(self, other)\n",
      " |      Union is the maximum of value in either of the input counters.\n",
      " |\n",
      " |      >>> Counter('abbb') | Counter('bcc')\n",
      " |      Counter({'b': 3, 'c': 2, 'a': 1})\n",
      " |\n",
      " |  __pos__(self)\n",
      " |      Adds an empty counter, effectively stripping negative and zero counts\n",
      " |\n",
      " |  __reduce__(self)\n",
      " |      Helper for pickle.\n",
      " |\n",
      " |  __repr__(self)\n",
      " |      Return repr(self).\n",
      " |\n",
      " |  __sub__(self, other)\n",
      " |      Subtract count, but keep only results with positive counts.\n",
      " |\n",
      " |      >>> Counter('abbbc') - Counter('bccd')\n",
      " |      Counter({'b': 2, 'a': 1})\n",
      " |\n",
      " |  copy(self)\n",
      " |      Return a shallow copy.\n",
      " |\n",
      " |  elements(self)\n",
      " |      Iterator over elements repeating each as many times as its count.\n",
      " |\n",
      " |      >>> c = Counter('ABCABC')\n",
      " |      >>> sorted(c.elements())\n",
      " |      ['A', 'A', 'B', 'B', 'C', 'C']\n",
      " |\n",
      " |      Knuth's example for prime factors of 1836:  2**2 * 3**3 * 17**1\n",
      " |\n",
      " |      >>> import math\n",
      " |      >>> prime_factors = Counter({2: 2, 3: 3, 17: 1})\n",
      " |      >>> math.prod(prime_factors.elements())\n",
      " |      1836\n",
      " |\n",
      " |      Note, if an element's count has been set to zero or is a negative\n",
      " |      number, elements() will ignore it.\n",
      " |\n",
      " |  most_common(self, n=None)\n",
      " |      List the n most common elements and their counts from the most\n",
      " |      common to the least.  If n is None, then list all element counts.\n",
      " |\n",
      " |      >>> Counter('abracadabra').most_common(3)\n",
      " |      [('a', 5), ('b', 2), ('r', 2)]\n",
      " |\n",
      " |  subtract(self, iterable=None, /, **kwds)\n",
      " |      Like dict.update() but subtracts counts instead of replacing them.\n",
      " |      Counts can be reduced below zero.  Both the inputs and outputs are\n",
      " |      allowed to contain zero and negative counts.\n",
      " |\n",
      " |      Source can be an iterable, a dictionary, or another Counter instance.\n",
      " |\n",
      " |      >>> c = Counter('which')\n",
      " |      >>> c.subtract('witch')             # subtract elements from another iterable\n",
      " |      >>> c.subtract(Counter('watch'))    # subtract elements from another counter\n",
      " |      >>> c['h']                          # 2 in which, minus 1 in witch, minus 1 in watch\n",
      " |      0\n",
      " |      >>> c['w']                          # 1 in which, minus 1 in witch, minus 1 in watch\n",
      " |      -1\n",
      " |\n",
      " |  total(self)\n",
      " |      Sum of the counts\n",
      " |\n",
      " |  update(self, iterable=None, /, **kwds)\n",
      " |      Like dict.update() but add counts instead of replacing them.\n",
      " |\n",
      " |      Source can be an iterable, a dictionary, or another Counter instance.\n",
      " |\n",
      " |      >>> c = Counter('which')\n",
      " |      >>> c.update('witch')           # add elements from another iterable\n",
      " |      >>> d = Counter('watch')\n",
      " |      >>> c.update(d)                 # add elements from another counter\n",
      " |      >>> c['h']                      # four 'h' in which, witch, and watch\n",
      " |      4\n",
      " |\n",
      " |  ----------------------------------------------------------------------\n",
      " |  Class methods defined here:\n",
      " |\n",
      " |  fromkeys(iterable, v=None)\n",
      " |      Create a new dictionary with keys from iterable and values set to value.\n",
      " |\n",
      " |  ----------------------------------------------------------------------\n",
      " |  Data descriptors defined here:\n",
      " |\n",
      " |  __dict__\n",
      " |      dictionary for instance variables\n",
      " |\n",
      " |  __weakref__\n",
      " |      list of weak references to the object\n",
      " |\n",
      " |  ----------------------------------------------------------------------\n",
      " |  Data and other attributes defined here:\n",
      " |\n",
      " |  __hash__ = None\n",
      " |\n",
      " |  ----------------------------------------------------------------------\n",
      " |  Methods inherited from builtins.dict:\n",
      " |\n",
      " |  __contains__(self, key, /)\n",
      " |      True if the dictionary has the specified key, else False.\n",
      " |\n",
      " |  __getattribute__(self, name, /)\n",
      " |      Return getattr(self, name).\n",
      " |\n",
      " |  __getitem__(self, key, /)\n",
      " |      Return self[key].\n",
      " |\n",
      " |  __iter__(self, /)\n",
      " |      Implement iter(self).\n",
      " |\n",
      " |  __len__(self, /)\n",
      " |      Return len(self).\n",
      " |\n",
      " |  __reversed__(self, /)\n",
      " |      Return a reverse iterator over the dict keys.\n",
      " |\n",
      " |  __ror__(self, value, /)\n",
      " |      Return value|self.\n",
      " |\n",
      " |  __setitem__(self, key, value, /)\n",
      " |      Set self[key] to value.\n",
      " |\n",
      " |  __sizeof__(...)\n",
      " |      D.__sizeof__() -> size of D in memory, in bytes\n",
      " |\n",
      " |  clear(...)\n",
      " |      D.clear() -> None.  Remove all items from D.\n",
      " |\n",
      " |  get(self, key, default=None, /)\n",
      " |      Return the value for key if key is in the dictionary, else default.\n",
      " |\n",
      " |  items(...)\n",
      " |      D.items() -> a set-like object providing a view on D's items\n",
      " |\n",
      " |  keys(...)\n",
      " |      D.keys() -> a set-like object providing a view on D's keys\n",
      " |\n",
      " |  pop(...)\n",
      " |      D.pop(k[,d]) -> v, remove specified key and return the corresponding value.\n",
      " |\n",
      " |      If the key is not found, return the default if given; otherwise,\n",
      " |      raise a KeyError.\n",
      " |\n",
      " |  popitem(self, /)\n",
      " |      Remove and return a (key, value) pair as a 2-tuple.\n",
      " |\n",
      " |      Pairs are returned in LIFO (last-in, first-out) order.\n",
      " |      Raises KeyError if the dict is empty.\n",
      " |\n",
      " |  setdefault(self, key, default=None, /)\n",
      " |      Insert key with a value of default if key is not in the dictionary.\n",
      " |\n",
      " |      Return the value for key if key is in the dictionary, else default.\n",
      " |\n",
      " |  values(...)\n",
      " |      D.values() -> an object providing a view on D's values\n",
      " |\n",
      " |  ----------------------------------------------------------------------\n",
      " |  Class methods inherited from builtins.dict:\n",
      " |\n",
      " |  __class_getitem__(...)\n",
      " |      See PEP 585\n",
      " |\n",
      " |  ----------------------------------------------------------------------\n",
      " |  Static methods inherited from builtins.dict:\n",
      " |\n",
      " |  __new__(*args, **kwargs) class method of builtins.dict\n",
      " |      Create and return a new object.  See help(type) for accurate signature.\n",
      "\n"
     ]
    }
   ],
   "source": [
    "help(Counter)"
   ]
  },
  {
   "cell_type": "code",
   "execution_count": 305,
   "id": "da625e76-3adb-4f71-93a5-3b795d98238b",
   "metadata": {},
   "outputs": [
    {
     "name": "stdout",
     "output_type": "stream",
     "text": [
      "Counter({' ': 22, 't': 11, 'e': 11, 'i': 9, 'h': 8, 's': 8, 'a': 8, 'n': 6, 'r': 4, 'o': 3, 'g': 2, 'l': 2, 'P': 2, 'f': 1, 'c': 1, 'k': 1, 'w': 1, 'v': 1, '.': 1, 'M': 1, 'u': 1, 'y': 1, 'm': 1, ',': 1, 'R': 1, 'b': 1})\n"
     ]
    }
   ],
   "source": [
    "print(Counter(content))"
   ]
  },
  {
   "cell_type": "markdown",
   "id": "606fc86d-4565-411f-8177-26b3d82ac109",
   "metadata": {},
   "source": [
    "Anything that is iterable can be counted by Counter, and we get a dictionary of counts on what the iteration is. This includes any iterators we creatte.  \n",
    "Counter has a nuber of useful arguments tha tmake it more useful. this is available in the official documentation, this shows us stuff like\n",
    "- most_common()"
   ]
  },
  {
   "cell_type": "code",
   "execution_count": 307,
   "id": "dab70872-87e4-4526-9fb8-5f690cc82b65",
   "metadata": {},
   "outputs": [
    {
     "data": {
      "text/plain": [
       "[(' ', 22), ('t', 11), ('e', 11)]"
      ]
     },
     "execution_count": 307,
     "metadata": {},
     "output_type": "execute_result"
    }
   ],
   "source": [
    "Counter(content).most_common(3)"
   ]
  },
  {
   "cell_type": "code",
   "execution_count": 313,
   "id": "055157e6-284d-414d-bd3e-400a83d08111",
   "metadata": {},
   "outputs": [
    {
     "name": "stdout",
     "output_type": "stream",
     "text": [
      "['__add__', '__and__', '__class__', '__class_getitem__', '__contains__', '__delattr__', '__delitem__', '__dict__', '__dir__', '__doc__', '__eq__', '__format__', '__ge__', '__getattribute__', '__getitem__', '__getstate__', '__gt__', '__hash__', '__iadd__', '__iand__', '__init__', '__init_subclass__', '__ior__', '__isub__', '__iter__', '__le__', '__len__', '__lt__', '__missing__', '__module__', '__ne__', '__neg__', '__new__', '__or__', '__pos__', '__reduce__', '__reduce_ex__', '__repr__', '__reversed__', '__ror__', '__setattr__', '__setitem__', '__sizeof__', '__str__', '__sub__', '__subclasshook__', '__weakref__', '_keep_positive', 'clear', 'copy', 'elements', 'fromkeys', 'get', 'items', 'keys', 'most_common', 'pop', 'popitem', 'setdefault', 'subtract', 'total', 'update', 'values']\n"
     ]
    }
   ],
   "source": [
    "print(dir(Counter))\n"
   ]
  },
  {
   "cell_type": "markdown",
   "id": "3ad85788-8cbf-4653-a1bd-06bc4ab89820",
   "metadata": {},
   "source": [
    "### OrderedDict \n",
    "In older days we may have used them, we originally could not guarantee the storage order was maintained, the keys and values of course were paired. they originally made the underlying C ,more effective by retaining the insertion order and OrderedDict in of itself then becomes redundant."
   ]
  },
  {
   "cell_type": "markdown",
   "id": "ac253482-695b-40bb-96c0-ee7fb4f6f367",
   "metadata": {},
   "source": [
    "## tuple and named tuple \n",
    "A standard  declaration is: \n",
    "`data = 16,30,20`\n",
    "referenced in the standard way    \n",
    "`data[1]`   \n",
    "\n",
    "A better way if the tuple is large, is to use a namedTuple\n",
    "\n",
    "A point is made, why use this over dictionary, and the statement is made that this is about mutability, if there is a degree of protection, if we don't want to offer a threat to content because it is mutable (dictionary) then namedtuple offers the security.\n",
    "\n",
    "This is a secure coding principle."
   ]
  },
  {
   "cell_type": "code",
   "execution_count": 323,
   "id": "0b180156-11d6-4910-a7ad-efcded6385ca",
   "metadata": {},
   "outputs": [
    {
     "data": {
      "text/plain": [
       "True"
      ]
     },
     "execution_count": 323,
     "metadata": {},
     "output_type": "execute_result"
    }
   ],
   "source": [
    "from collections import namedtuple \n",
    "#define the fields in the tuple\n",
    "#default\n",
    "person = 'frank',10, True\n",
    "\n",
    "#declare fields\n",
    "fields = [\"name\", \"age\", \"is_chipped\"]\n",
    "\n",
    "#create a named tuple from the fields \n",
    "\n",
    "Cat = namedtuple(\"Cat\", fields)\n",
    "Cat1 = Cat(\"Frank\",20,True)\n",
    "\n",
    "# now referencing something \n",
    "Cat1.is_chipped\n"
   ]
  },
  {
   "cell_type": "markdown",
   "id": "5484c0e2-ba8e-4014-898b-cdca9aefb742",
   "metadata": {},
   "source": [
    "## Chainmap\n",
    "The basic concept is chainig dictionaries together, this is not merging. On a search the first found left or right as an option. A good use case is looking for an entity from several locations, a user database, a key word arguments, and then a default. \n",
    "\n",
    "Another reasonable pont to make is that chainmap can be considered as a wrapper. This is a logical link.\n",
    "\n",
    "***Note*** it is possible to chainmap chainmaps. \n",
    "\n"
   ]
  },
  {
   "cell_type": "code",
   "execution_count": 317,
   "id": "819297bd-a584-45af-bbb1-9d3477bd4df9",
   "metadata": {},
   "outputs": [
    {
     "name": "stdout",
     "output_type": "stream",
     "text": [
      "<class 'collections.ChainMap'>\n",
      "80\n",
      "40\n",
      "150\n",
      "300\n"
     ]
    }
   ],
   "source": [
    "from collections import ChainMap\n",
    "\n",
    "pc_components = {'motherboard': 150, 'ram': 120, 'cpu': 250, 'psu':55, 'case':70}\n",
    "pc_options = {'hd': 80, 'ssd': 200, 'basic_gpu':150, 'gaming-gpu':400}\n",
    "pc_accessories = {'keyboard': 30, 'mouse': 40, 'ram':40}\n",
    "pc_pricing = ChainMap(pc_accessories, pc_options, pc_components)\n",
    "\n",
    "#confirm the type\n",
    "print(type(pc_pricing))\n",
    "\n",
    "#lookup (simple)\n",
    "print(pc_pricing['hd'])\n",
    "\n",
    "#lookup (more complex - order of chaining is key; searches left->right)\n",
    "print(pc_pricing['ram'])\n",
    "\n",
    "#make another\n",
    "pc_nice_to_haves = {'vr': 300}\n",
    "\n",
    "#combine new dictionary and existing map\n",
    "pc_extra_pricing = ChainMap(pc_nice_to_haves, pc_pricing)\n",
    "\n",
    "print(pc_extra_pricing['basic_gpu'])\n",
    "print(pc_extra_pricing['vr'])\n"
   ]
  },
  {
   "cell_type": "markdown",
   "id": "155ec5d1-28de-4eab-9616-cbc7722cc15b",
   "metadata": {},
   "source": [
    "## Default Dictionary \n",
    "A default dictionary extends the facility to act accordingly, for example, give something a default value if something is asked for that is not there. \n",
    "If that thing thta is not there then it's possible to use a function to define what may go there. This could be done with a standard dictionary but this is built for this role.   \n",
    "This does extend an argument, which is best, and the answer would be that the right process for the right thing, it may be the case that the functionality for standard dictionary does contain default but the preference is callback in defaultdict.\n"
   ]
  },
  {
   "cell_type": "code",
   "execution_count": 334,
   "id": "deeac0ed-406e-4e46-a66a-54019aabcc19",
   "metadata": {},
   "outputs": [
    {
     "ename": "KeyError",
     "evalue": "'B'",
     "output_type": "error",
     "traceback": [
      "\u001b[1;31m---------------------------------------------------------------------------\u001b[0m",
      "\u001b[1;31mKeyError\u001b[0m                                  Traceback (most recent call last)",
      "Cell \u001b[1;32mIn[334], line 4\u001b[0m\n\u001b[0;32m      2\u001b[0m my_data \u001b[38;5;241m=\u001b[39m{\u001b[38;5;124m\"\u001b[39m\u001b[38;5;124mA\u001b[39m\u001b[38;5;124m\"\u001b[39m:\u001b[38;5;241m10\u001b[39m}\n\u001b[0;32m      3\u001b[0m \u001b[38;5;66;03m# accessing something that is not there by reference or positions \u001b[39;00m\n\u001b[1;32m----> 4\u001b[0m \u001b[38;5;28mprint\u001b[39m(my_data[\u001b[38;5;124m'\u001b[39m\u001b[38;5;124mB\u001b[39m\u001b[38;5;124m'\u001b[39m])\n",
      "\u001b[1;31mKeyError\u001b[0m: 'B'"
     ]
    }
   ],
   "source": [
    "# I know I want this dictionary to change \n",
    "my_data ={\"A\":10}\n",
    "# accessing something that is not there by reference or positions \n",
    "print(my_data['B'])\n",
    "\n"
   ]
  },
  {
   "cell_type": "code",
   "execution_count": 336,
   "id": "5dcc4b5e-d5c0-44a3-ba64-a125305528a6",
   "metadata": {},
   "outputs": [
    {
     "name": "stdout",
     "output_type": "stream",
     "text": [
      "dest_ip: 0.0.0.0\n"
     ]
    }
   ],
   "source": [
    "from collections import defaultdict\n",
    "\n",
    "def default_ip(): \n",
    "    return '0.0.0.0'\n",
    "    \n",
    "dd1 = defaultdict(default_ip,{'source_ip':'192.168.1.2', 'port':1066})\n",
    "\n",
    "print(\"dest_ip:\", dd1['dest_ip'])\n"
   ]
  },
  {
   "cell_type": "markdown",
   "id": "bccf5a56-4df7-4cb0-b6ba-3e5a5209c312",
   "metadata": {},
   "source": [
    "## deque\n",
    "under a normal list adding things at the end can be done with append or extend and insert(0,) for whatever we need, deque allows us to add things because there is functionality provided specifically for it. That is to say there is popleft appendleft extendleft"
   ]
  },
  {
   "cell_type": "code",
   "execution_count": 341,
   "id": "1d007ba7-5208-47b0-a8b0-9791cdc3b6c6",
   "metadata": {},
   "outputs": [
    {
     "name": "stdout",
     "output_type": "stream",
     "text": [
      "item: Finance dq: deque(['R&D', 'Sales', 'Manufacturing', 'HR'])\n"
     ]
    }
   ],
   "source": [
    "from collections import deque\n",
    "dq = deque(['R&D', 'Sales', 'Manufacturing', 'HR', 'Finance'])\n",
    "item = dq.pop()\n",
    "\n",
    "print('item:', item, 'dq:', dq)\n",
    "\n",
    "print('adding',\n"
   ]
  },
  {
   "cell_type": "markdown",
   "id": "37c66833-64ad-4535-bc50-980052090543",
   "metadata": {},
   "source": [
    "## Comprehensions\n",
    "Create a list using a list comprehension where we are only having cats with names longer than three characters\n",
    "Create a dictionary with the cat name as a key and its length as the value but for only the cats that have names longer than 3 chars"
   ]
  },
  {
   "cell_type": "code",
   "execution_count": 347,
   "id": "62aab912-0a30-44b4-b487-bbea2aa9cf2a",
   "metadata": {},
   "outputs": [],
   "source": [
    "cats = [\"Frank\", \"Phil\", \"Jess\",\"Ron\"]\n",
    "\n",
    "list_comp = [c for c in cats if len(c)>3]\n",
    "dic_comp = {c : len(c) for c in list_comp}\n"
   ]
  },
  {
   "cell_type": "code",
   "execution_count": 349,
   "id": "248905d1-8ea6-44f9-9e90-7d40c0eca2b5",
   "metadata": {},
   "outputs": [
    {
     "data": {
      "text/plain": [
       "['Frank', 'Phil', 'Jess']"
      ]
     },
     "execution_count": 349,
     "metadata": {},
     "output_type": "execute_result"
    }
   ],
   "source": [
    "list_comp"
   ]
  },
  {
   "cell_type": "code",
   "execution_count": 357,
   "id": "ae262712-21a6-4a12-b390-97d472491be6",
   "metadata": {},
   "outputs": [
    {
     "data": {
      "text/plain": [
       "{'Frank': 5, 'Phil': 4, 'Jess': 4}"
      ]
     },
     "execution_count": 357,
     "metadata": {},
     "output_type": "execute_result"
    }
   ],
   "source": [
    "dic_comp"
   ]
  },
  {
   "cell_type": "code",
   "execution_count": 359,
   "id": "1c7d086a-1cc2-457d-87c9-7693de7736b9",
   "metadata": {},
   "outputs": [],
   "source": [
    "longcats2 = {cat:len(cat) for cat in cats if len(cat)>3}"
   ]
  },
  {
   "cell_type": "code",
   "execution_count": 355,
   "id": "653c6b60-3e67-46ea-ad98-35c733644263",
   "metadata": {},
   "outputs": [
    {
     "data": {
      "text/plain": [
       "{'Frank': 5, 'Phil': 4, 'Jess': 4}"
      ]
     },
     "execution_count": 355,
     "metadata": {},
     "output_type": "execute_result"
    }
   ],
   "source": [
    "#doing the same with a walrus operator, used for heavy processing\n",
    "longcats = {cat:clen for cat in cats if (clen:=len(cat))>3}\n",
    "longcats"
   ]
  },
  {
   "cell_type": "code",
   "execution_count": 361,
   "id": "d7fe4e65-0e40-41a6-b16e-684bef8dcb2a",
   "metadata": {},
   "outputs": [
    {
     "data": {
      "text/plain": [
       "{'Frank': 5, 'Phil': 4, 'Jess': 4}"
      ]
     },
     "execution_count": 361,
     "metadata": {},
     "output_type": "execute_result"
    }
   ],
   "source": [
    "longcats2"
   ]
  },
  {
   "cell_type": "markdown",
   "id": "a12c527f-681c-407b-972f-00a8cfbd6aa0",
   "metadata": {},
   "source": [
    "***Note*** In python there is something that is worth noting with the walrus operator, that is that the variable is still available. "
   ]
  },
  {
   "cell_type": "code",
   "execution_count": 364,
   "id": "e549136c-7d80-4714-ad07-3754a0f49f3e",
   "metadata": {},
   "outputs": [
    {
     "data": {
      "text/plain": [
       "3"
      ]
     },
     "execution_count": 364,
     "metadata": {},
     "output_type": "execute_result"
    }
   ],
   "source": [
    "clen"
   ]
  },
  {
   "cell_type": "markdown",
   "id": "e8423b83-d867-4f63-92f8-0cf5ef69df35",
   "metadata": {},
   "source": [
    "## generators\n",
    "the analogy is Pez, only get what you want when you ask for the next one. the reason for this is do we need all this data in memory. If it is too much then probably not."
   ]
  },
  {
   "cell_type": "code",
   "execution_count": 18,
   "id": "c3ec2776-206f-4af1-98db-f908b80067b6",
   "metadata": {},
   "outputs": [],
   "source": [
    "def get_odd_num_v1(minimum, maximum):\n",
    "    my_data = []\n",
    "    for num in range(minimum, maximum+1):\n",
    "        if num%2 == 1:\n",
    "            my_data.append(num)\n",
    "    return my_data"
   ]
  },
  {
   "cell_type": "code",
   "execution_count": 22,
   "id": "77ff5a70-d4c9-4345-bed9-c278ea44d8ff",
   "metadata": {},
   "outputs": [],
   "source": [
    "def get_odd_num_v2(minimum, maximum): \n",
    "    mydata = [ n for n in range(minimum, maximum +1) if n%2==1]\n",
    "    return mydata\n",
    "    "
   ]
  },
  {
   "cell_type": "code",
   "execution_count": 24,
   "id": "33215004-e567-4769-b131-67debc972046",
   "metadata": {},
   "outputs": [],
   "source": [
    "#creating a generator\n",
    "def get_odd_num_v3(minimum, maximum): \n",
    "    for num in range(minimum, maximum+1):\n",
    "        if num%2==1:\n",
    "            yield num"
   ]
  },
  {
   "cell_type": "code",
   "execution_count": 28,
   "id": "52fbb2db-c073-424a-b151-3917893efb5e",
   "metadata": {},
   "outputs": [
    {
     "data": {
      "text/plain": [
       "[1, 3, 5, 7, 9]"
      ]
     },
     "execution_count": 28,
     "metadata": {},
     "output_type": "execute_result"
    }
   ],
   "source": [
    "get_odd_num(1,10)"
   ]
  },
  {
   "cell_type": "code",
   "execution_count": 32,
   "id": "e1f8e80e-187b-461f-93b2-862aa04a4e92",
   "metadata": {},
   "outputs": [
    {
     "name": "stdout",
     "output_type": "stream",
     "text": [
      "['__annotations__', '__builtins__', '__call__', '__class__', '__closure__', '__code__', '__defaults__', '__delattr__', '__dict__', '__dir__', '__doc__', '__eq__', '__format__', '__ge__', '__get__', '__getattribute__', '__getstate__', '__globals__', '__gt__', '__hash__', '__init__', '__init_subclass__', '__kwdefaults__', '__le__', '__lt__', '__module__', '__name__', '__ne__', '__new__', '__qualname__', '__reduce__', '__reduce_ex__', '__repr__', '__setattr__', '__sizeof__', '__str__', '__subclasshook__', '__type_params__']\n"
     ]
    }
   ],
   "source": [
    "print(dir(get_odd_num_v2))"
   ]
  },
  {
   "cell_type": "code",
   "execution_count": null,
   "id": "2bd8f9ae-9555-428e-9f8d-3d110ee93f0e",
   "metadata": {},
   "outputs": [],
   "source": []
  },
  {
   "cell_type": "code",
   "execution_count": 26,
   "id": "5474d356-64ab-4e74-84a9-1d3883a3511a",
   "metadata": {},
   "outputs": [
    {
     "name": "stdout",
     "output_type": "stream",
     "text": [
      "['__class__', '__del__', '__delattr__', '__dir__', '__doc__', '__eq__', '__format__', '__ge__', '__getattribute__', '__getstate__', '__gt__', '__hash__', '__init__', '__init_subclass__', '__iter__', '__le__', '__lt__', '__name__', '__ne__', '__new__', '__next__', '__qualname__', '__reduce__', '__reduce_ex__', '__repr__', '__setattr__', '__sizeof__', '__str__', '__subclasshook__', 'close', 'gi_code', 'gi_frame', 'gi_running', 'gi_suspended', 'gi_yieldfrom', 'send', 'throw']\n"
     ]
    }
   ],
   "source": [
    "results = get_odd_num_v3(1,10)\n",
    "print(dir(results))"
   ]
  },
  {
   "cell_type": "markdown",
   "id": "c48a2aff-9984-4825-848c-de60506d5971",
   "metadata": {},
   "source": [
    "***Note*** Notice that `__iter__` is now in the the last state, we have created a pez dispenser for data. we can supply a state for when the data has run out "
   ]
  },
  {
   "cell_type": "code",
   "execution_count": 35,
   "id": "979eb90a-d9d3-4a8f-a7eb-7276e95ca786",
   "metadata": {},
   "outputs": [
    {
     "name": "stdout",
     "output_type": "stream",
     "text": [
      "1\n",
      "3\n",
      "5\n",
      "7\n",
      "9\n",
      "No More\n",
      "No More\n"
     ]
    }
   ],
   "source": [
    "print(next(results, \"No More\"))\n",
    "print(next(results, \"No More\"))\n",
    "print(next(results, \"No More\"))\n",
    "print(next(results, \"No More\"))\n",
    "print(next(results, \"No More\"))\n",
    "print(next(results, \"No More\"))\n",
    "print(next(results, \"No More\"))"
   ]
  },
  {
   "cell_type": "code",
   "execution_count": 37,
   "id": "c60c55cf-cef6-4311-a9c0-8ce664655930",
   "metadata": {},
   "outputs": [
    {
     "name": "stdout",
     "output_type": "stream",
     "text": [
      "1\n",
      "3\n",
      "5\n",
      "7\n",
      "9\n"
     ]
    }
   ],
   "source": [
    "#iterate to complete \n",
    "for number in get_odd_num_v3(1,10):\n",
    "    print(number)"
   ]
  },
  {
   "cell_type": "code",
   "execution_count": 41,
   "id": "5fe60797-9c12-46e7-a880-ac12b3ee9dec",
   "metadata": {},
   "outputs": [],
   "source": [
    "# using comprehension to return the generator note this is done with using standard parenthases, this is because we cant hav a tuple comprehension so this is safe \n",
    "def get_odd_numbers_v4(minimum, maximum): \n",
    "    return(num for num in range(minimum, maximum+1))"
   ]
  },
  {
   "cell_type": "code",
   "execution_count": 43,
   "id": "2a782d9a-2000-4848-a700-959659c47a67",
   "metadata": {},
   "outputs": [
    {
     "name": "stdout",
     "output_type": "stream",
     "text": [
      "10\n",
      "11\n",
      "12\n",
      "13\n",
      "14\n",
      "15\n",
      "16\n"
     ]
    }
   ],
   "source": [
    "results = get_odd_numbers_v4(10, 30)\n",
    "print(next(results, \"No More\"))\n",
    "print(next(results, \"No More\"))\n",
    "print(next(results, \"No More\"))\n",
    "print(next(results, \"No More\"))\n",
    "print(next(results, \"No More\"))\n",
    "print(next(results, \"No More\"))\n",
    "print(next(results, \"No More\"))"
   ]
  },
  {
   "cell_type": "markdown",
   "id": "6326ab5d-33a2-4e24-9c17-0d64c24f2c08",
   "metadata": {},
   "source": [
    "Using the generator in different ways \n",
    "ANything tha expects an iterable can work with a generator. For example sum(), min() , max(), statistics.  et al\n"
   ]
  },
  {
   "cell_type": "code",
   "execution_count": 52,
   "id": "88bd82e5-06db-442e-a6e2-bdb991059537",
   "metadata": {},
   "outputs": [
    {
     "name": "stdout",
     "output_type": "stream",
     "text": [
      "1\n",
      "1000\n",
      "500.5\n"
     ]
    }
   ],
   "source": [
    "print(min(get_odd_numbers_v4(1,1000)))\n",
    "print(max(get_odd_numbers_v4(1,1000)))\n",
    "\n",
    "from statistics import mean \n",
    "print(mean(get_odd_numbers_v4(1, 1000)))\n"
   ]
  },
  {
   "cell_type": "markdown",
   "id": "392eafae-0983-40bb-8d5a-170e3a4aad63",
   "metadata": {},
   "source": [
    "# Error Handling\n",
    "This is from DG 06\n",
    "\n",
    "the question is who puts error handling into the scripts. The statement is that if you have a short script then it's unlikely, SE position is not to trust anything. A zero trust philosophy, this is common these days, even if there is data coming in.   \n",
    "The use case is expressed, Jupyter notebook export, under these conditions we need to consider the protection for each.   \n",
    "Consideration is given to \n",
    "- LBYL - Check something can be done before doing it.\n",
    "- AskForgiveness - et al\n",
    "\n",
    "- By default messages go to stdout (console) but we should route them to stderr because it informs the os\n",
    "- \n",
    "\n",
    "  Its difficult to catch all potential errors. By default there is a best attempt to do this an programs may have many points of failing. As the program matures in times then the issues are delt with. Python can get very messy very quickly you can get more trys than actual code. When moving from notebooks to code, starting to run scripts these ar econsiderations, how much risk is acceptable.\n",
    "\n",
    "\n",
    "  ***Note on finally*** Under normal circumstances if an error occurs in a function then python will return to caller, but if we put in a finally block then that gets executed regardless.\n",
    "\n"
   ]
  },
  {
   "cell_type": "code",
   "execution_count": 57,
   "id": "b14fc2d8-8e88-4a32-9430-2c7eab9e816c",
   "metadata": {},
   "outputs": [],
   "source": [
    "# The example is given of divide by zero and the information deconstruction. Focus being on the clear english description\n",
    "def divide(num1, num2):\n",
    "    return num1/num2\n",
    "\n"
   ]
  },
  {
   "cell_type": "code",
   "execution_count": 59,
   "id": "25af8865-ff38-47c5-920c-498eb6f516ae",
   "metadata": {},
   "outputs": [
    {
     "name": "stdout",
     "output_type": "stream",
     "text": [
      "5.0\n"
     ]
    }
   ],
   "source": [
    "print(divide(10,2))\n"
   ]
  },
  {
   "cell_type": "code",
   "execution_count": 61,
   "id": "34afac73-e77b-4ab2-8afe-70b631c06693",
   "metadata": {},
   "outputs": [
    {
     "ename": "ZeroDivisionError",
     "evalue": "division by zero",
     "output_type": "error",
     "traceback": [
      "\u001b[1;31m---------------------------------------------------------------------------\u001b[0m",
      "\u001b[1;31mZeroDivisionError\u001b[0m                         Traceback (most recent call last)",
      "Cell \u001b[1;32mIn[61], line 1\u001b[0m\n\u001b[1;32m----> 1\u001b[0m \u001b[38;5;28mprint\u001b[39m(divide(\u001b[38;5;241m2\u001b[39m,\u001b[38;5;241m0\u001b[39m))\n",
      "Cell \u001b[1;32mIn[57], line 3\u001b[0m, in \u001b[0;36mdivide\u001b[1;34m(num1, num2)\u001b[0m\n\u001b[0;32m      2\u001b[0m \u001b[38;5;28;01mdef\u001b[39;00m \u001b[38;5;21mdivide\u001b[39m(num1, num2):\n\u001b[1;32m----> 3\u001b[0m     \u001b[38;5;28;01mreturn\u001b[39;00m num1\u001b[38;5;241m/\u001b[39mnum2\n",
      "\u001b[1;31mZeroDivisionError\u001b[0m: division by zero"
     ]
    }
   ],
   "source": [
    "print(divide(2,0))"
   ]
  },
  {
   "cell_type": "markdown",
   "id": "64423ba5-2581-4bad-8446-ef234ad33c8f",
   "metadata": {},
   "source": [
    "Reworking that to add error detection"
   ]
  },
  {
   "cell_type": "code",
   "execution_count": 64,
   "id": "fab205be-053b-4ba4-b887-8f29fa038fbd",
   "metadata": {},
   "outputs": [],
   "source": [
    "import sys\n",
    "def divide(num1,num2):\n",
    "    try:\n",
    "        return num1/num2\n",
    "    except ZeroDivisionError as err:\n",
    "        print(\"Divide by zero error\", file=sys.stderr)\n"
   ]
  },
  {
   "cell_type": "code",
   "execution_count": 66,
   "id": "647b9c6c-6487-41ac-b60c-a90b8dde0c60",
   "metadata": {},
   "outputs": [
    {
     "name": "stderr",
     "output_type": "stream",
     "text": [
      "Divide by zero error\n"
     ]
    }
   ],
   "source": [
    "divide(3,0)"
   ]
  },
  {
   "cell_type": "markdown",
   "id": "53e34c4d-41d7-4c03-9c4d-1d57ba4d40bc",
   "metadata": {},
   "source": [
    "EAFP challenge\n",
    "Create a file called days.txt\n",
    "put some days in it    \n",
    "Write a script that lets the user enter a filename to open.   \n",
    "Protect the open with appropriate EAFP error handling, i.e output the data if the file exists, or ourput an error message if it doesnt. "
   ]
  },
  {
   "cell_type": "code",
   "execution_count": 77,
   "id": "1eba18c0-21f2-4a5d-8ff6-f499b0dafb27",
   "metadata": {},
   "outputs": [],
   "source": [
    "def open_file(filename):\n",
    "    try:\n",
    "        with open(filename) as f:\n",
    "            for line in f.readlines():\n",
    "                print(line)\n",
    "    except FileNotFoundError as err:\n",
    "        print(\"File not found \", err.filename, err.args[1], file=sys.stderr)"
   ]
  },
  {
   "cell_type": "code",
   "execution_count": 79,
   "id": "7c8d1a2f-5ae6-4d9e-b487-c3313323bd5c",
   "metadata": {},
   "outputs": [
    {
     "name": "stdout",
     "output_type": "stream",
     "text": [
      "mon\n",
      "\n",
      "tue\n",
      "\n",
      "wed\n",
      "\n",
      "cats\n",
      "\n",
      "fri\n",
      "\n",
      "sat\n",
      "\n",
      "bun\n"
     ]
    }
   ],
   "source": [
    "open_file('days.txt')"
   ]
  },
  {
   "cell_type": "code",
   "execution_count": 81,
   "id": "1363e9a4-47a4-4008-af52-f4c49e9ad7e9",
   "metadata": {},
   "outputs": [
    {
     "name": "stderr",
     "output_type": "stream",
     "text": [
      "File not found  wiffle.txt No such file or directory\n"
     ]
    }
   ],
   "source": [
    "open_file('wiffle.txt')"
   ]
  },
  {
   "cell_type": "markdown",
   "id": "29a93862-893b-4934-8342-3f5754139187",
   "metadata": {},
   "source": [
    "The look before you leap equivalent"
   ]
  },
  {
   "cell_type": "code",
   "execution_count": 88,
   "id": "7c31e6f6-fab0-4a7c-91b6-4027ad9c2d2f",
   "metadata": {},
   "outputs": [],
   "source": [
    "import os.path\n",
    "def open_file(filename):\n",
    "    if os.path.isfile(filename): # this is a guard and can be done another way, later\n",
    "        with open(filename) as f:\n",
    "            for line in f.readlines():\n",
    "                print(line)\n",
    "    else:\n",
    "        print(\"File does not exist\")"
   ]
  },
  {
   "cell_type": "code",
   "execution_count": 90,
   "id": "dfca9462-152b-4cb0-8920-a8a5d06d7673",
   "metadata": {},
   "outputs": [
    {
     "name": "stdout",
     "output_type": "stream",
     "text": [
      "mon\n",
      "\n",
      "tue\n",
      "\n",
      "wed\n",
      "\n",
      "cats\n",
      "\n",
      "fri\n",
      "\n",
      "sat\n",
      "\n",
      "bun\n"
     ]
    }
   ],
   "source": [
    "open_file('days.txt')\n"
   ]
  },
  {
   "cell_type": "code",
   "execution_count": 92,
   "id": "f89e9a0d-8d0d-4221-904a-51d39e6a28c3",
   "metadata": {},
   "outputs": [
    {
     "name": "stdout",
     "output_type": "stream",
     "text": [
      "File does not exist\n"
     ]
    }
   ],
   "source": [
    "open_file('wiffle.txt')"
   ]
  },
  {
   "cell_type": "markdown",
   "id": "6dddd2fa-e95a-4f3c-b711-08d0bf3b844f",
   "metadata": {},
   "source": [
    "### Raising our own exceptions \n",
    "Reviewing the Raising custom exceptions is covered, that they take variable parameters is noted. In the example the all keyword is noted. \n",
    "A run through the any and all logic is shown"
   ]
  },
  {
   "cell_type": "code",
   "execution_count": 96,
   "id": "922f3fa5-a122-4fae-bc91-5ca20a404851",
   "metadata": {},
   "outputs": [
    {
     "name": "stdout",
     "output_type": "stream",
     "text": [
      "Oops: False argument in myfunc\n"
     ]
    }
   ],
   "source": [
    "class MyError(Exception): \n",
    "    pass\n",
    "        \n",
    "def myfunc(*arguments):\n",
    "    if not all(arguments):\n",
    "        raise MyError('False argument in myfunc')    \n",
    "                \n",
    "try:\n",
    "    myfunc('Tom', '', 42)\n",
    "except MyError as err:\n",
    "    print('Oops:', err)\n"
   ]
  },
  {
   "cell_type": "code",
   "execution_count": 106,
   "id": "67e6bfbc-7667-409f-b179-34ef4a6b8ff8",
   "metadata": {},
   "outputs": [],
   "source": [
    "import os.path\n",
    "class MyError(Exception):\n",
    "    pass\n",
    "\n",
    "def open_file(filename):\n",
    "    if not os.path.isfile(filename): \n",
    "        raise MyError(\"File was not found\")\n",
    "    else:\n",
    "        with open(filename) as f:\n",
    "            for line in f.readlines():\n",
    "                print(line)"
   ]
  },
  {
   "cell_type": "code",
   "execution_count": 108,
   "id": "5946dfa6-bb63-4bb6-a1f5-d77e5d0ba3cb",
   "metadata": {},
   "outputs": [
    {
     "ename": "MyError",
     "evalue": "File was not found",
     "output_type": "error",
     "traceback": [
      "\u001b[1;31m---------------------------------------------------------------------------\u001b[0m",
      "\u001b[1;31mMyError\u001b[0m                                   Traceback (most recent call last)",
      "Cell \u001b[1;32mIn[108], line 1\u001b[0m\n\u001b[1;32m----> 1\u001b[0m open_file(\u001b[38;5;124m'\u001b[39m\u001b[38;5;124mwiffle.txt\u001b[39m\u001b[38;5;124m'\u001b[39m)\n",
      "Cell \u001b[1;32mIn[106], line 7\u001b[0m, in \u001b[0;36mopen_file\u001b[1;34m(filename)\u001b[0m\n\u001b[0;32m      5\u001b[0m \u001b[38;5;28;01mdef\u001b[39;00m \u001b[38;5;21mopen_file\u001b[39m(filename):\n\u001b[0;32m      6\u001b[0m     \u001b[38;5;28;01mif\u001b[39;00m \u001b[38;5;129;01mnot\u001b[39;00m os\u001b[38;5;241m.\u001b[39mpath\u001b[38;5;241m.\u001b[39misfile(filename): \n\u001b[1;32m----> 7\u001b[0m         \u001b[38;5;28;01mraise\u001b[39;00m MyError(\u001b[38;5;124m\"\u001b[39m\u001b[38;5;124mFile was not found\u001b[39m\u001b[38;5;124m\"\u001b[39m)\n\u001b[0;32m      8\u001b[0m     \u001b[38;5;28;01melse\u001b[39;00m:\n\u001b[0;32m      9\u001b[0m         \u001b[38;5;28;01mwith\u001b[39;00m \u001b[38;5;28mopen\u001b[39m(filename) \u001b[38;5;28;01mas\u001b[39;00m f:\n",
      "\u001b[1;31mMyError\u001b[0m: File was not found"
     ]
    }
   ],
   "source": [
    "open_file('wiffle.txt')"
   ]
  },
  {
   "cell_type": "code",
   "execution_count": 110,
   "id": "81607337-936c-4bce-80e6-2b2013ae10e7",
   "metadata": {},
   "outputs": [
    {
     "name": "stdin",
     "output_type": "stream",
     "text": [
      "Enter an integer between 1 and 10:  1\n"
     ]
    },
    {
     "name": "stdout",
     "output_type": "stream",
     "text": [
      "Data is within range\n"
     ]
    }
   ],
   "source": [
    "class MyRangeError(Exception):\n",
    "    def __init__(self, *args):\n",
    "        if args:\n",
    "            self.err_msg = args[0]\n",
    "        else:\n",
    "            self.err_msg = None\n",
    "\n",
    "    def __str__(self):\n",
    "         if self.err_msg:\n",
    "             return f\"{self.err_msg}\"\n",
    "         else:\n",
    "             return f\" A range error has occurred.\"\n",
    "\n",
    "my_value = int(input(\"Enter an integer between 1 and 10: \"))\n",
    "if not 1 <= my_value <= 10:\n",
    "    raise MyRangeError(f\"Value is not between 1 and 10\")\n",
    "else:\n",
    "    print(\"Data is within range\")\n"
   ]
  },
  {
   "cell_type": "markdown",
   "id": "2822019c-30d3-4a63-9961-9334cea864ce",
   "metadata": {},
   "source": [
    "### Lightweight testing \n",
    "Done in the language and not in an external structure \n",
    "\n",
    "Testing exercise based on the c_to_f function from earlier. \n",
    "1. test the return type -> shoud return a float\n",
    "2. test explicit c = 100 -> formal assertion, what I believe to be true\n",
    "3. TDD is expressed as a preference\n",
    "4. "
   ]
  },
  {
   "cell_type": "code",
   "execution_count": 132,
   "id": "7f60a0e8-a010-4732-ad82-956a31cf4921",
   "metadata": {},
   "outputs": [],
   "source": [
    "def c_to_f(cel : float) -> float:\n",
    "    \"\"\"Function to convert Celcius to Farenheight\n",
    "    Examples:\n",
    "    >>> c_to_f(100)\n",
    "    212.0\n",
    "    \"\"\"\n",
    "    fah = cel * 9/5 + 32\n",
    "    return fah"
   ]
  },
  {
   "cell_type": "markdown",
   "id": "d7e92ab2-b494-4f41-b693-225ba6cbc612",
   "metadata": {},
   "source": [
    "Notice in the doctring there is an example that looks like console. This is because doctest can run it as a lightweight test of the code "
   ]
  },
  {
   "cell_type": "code",
   "execution_count": 116,
   "id": "425fd29a-731f-4502-940f-da0b442f8b0e",
   "metadata": {},
   "outputs": [],
   "source": [
    "import doctest "
   ]
  },
  {
   "cell_type": "code",
   "execution_count": 118,
   "id": "0816135d-6739-43ab-b717-44584422f678",
   "metadata": {},
   "outputs": [
    {
     "name": "stdout",
     "output_type": "stream",
     "text": [
      "Help on module doctest:\n",
      "\n",
      "NAME\n",
      "    doctest - Module doctest -- a framework for running examples in docstrings.\n",
      "\n",
      "MODULE REFERENCE\n",
      "    https://docs.python.org/3.12/library/doctest.html\n",
      "\n",
      "    The following documentation is automatically generated from the Python\n",
      "    source files.  It may be incomplete, incorrect or include features that\n",
      "    are considered implementation detail and may vary between Python\n",
      "    implementations.  When in doubt, consult the module reference at the\n",
      "    location listed above.\n",
      "\n",
      "DESCRIPTION\n",
      "    In simplest use, end each module M to be tested with:\n",
      "\n",
      "    def _test():\n",
      "        import doctest\n",
      "        doctest.testmod()\n",
      "\n",
      "    if __name__ == \"__main__\":\n",
      "        _test()\n",
      "\n",
      "    Then running the module as a script will cause the examples in the\n",
      "    docstrings to get executed and verified:\n",
      "\n",
      "    python M.py\n",
      "\n",
      "    This won't display anything unless an example fails, in which case the\n",
      "    failing example(s) and the cause(s) of the failure(s) are printed to stdout\n",
      "    (why not stderr? because stderr is a lame hack <0.2 wink>), and the final\n",
      "    line of output is \"Test failed.\".\n",
      "\n",
      "    Run it with the -v switch instead:\n",
      "\n",
      "    python M.py -v\n",
      "\n",
      "    and a detailed report of all examples tried is printed to stdout, along\n",
      "    with assorted summaries at the end.\n",
      "\n",
      "    You can force verbose mode by passing \"verbose=True\" to testmod, or prohibit\n",
      "    it by passing \"verbose=False\".  In either of those cases, sys.argv is not\n",
      "    examined by testmod.\n",
      "\n",
      "    There are a variety of other ways to run doctests, including integration\n",
      "    with the unittest framework, and support for running non-Python text\n",
      "    files containing doctests.  There are also many ways to override parts\n",
      "    of doctest's default behaviors.  See the Library Reference Manual for\n",
      "    details.\n",
      "\n",
      "CLASSES\n",
      "    builtins.Exception(builtins.BaseException)\n",
      "        DocTestFailure\n",
      "        UnexpectedException\n",
      "    builtins.object\n",
      "        DocTest\n",
      "        DocTestFinder\n",
      "        DocTestParser\n",
      "        DocTestRunner\n",
      "            DebugRunner\n",
      "        Example\n",
      "        OutputChecker\n",
      "\n",
      "    class DebugRunner(DocTestRunner)\n",
      "     |  DebugRunner(checker=None, verbose=None, optionflags=0)\n",
      "     |\n",
      "     |  Run doc tests but raise an exception as soon as there is a failure.\n",
      "     |\n",
      "     |  If an unexpected exception occurs, an UnexpectedException is raised.\n",
      "     |  It contains the test, the example, and the original exception:\n",
      "     |\n",
      "     |    >>> runner = DebugRunner(verbose=False)\n",
      "     |    >>> test = DocTestParser().get_doctest('>>> raise KeyError\\n42',\n",
      "     |    ...                                    {}, 'foo', 'foo.py', 0)\n",
      "     |    >>> try:\n",
      "     |    ...     runner.run(test)\n",
      "     |    ... except UnexpectedException as f:\n",
      "     |    ...     failure = f\n",
      "     |\n",
      "     |    >>> failure.test is test\n",
      "     |    True\n",
      "     |\n",
      "     |    >>> failure.example.want\n",
      "     |    '42\\n'\n",
      "     |\n",
      "     |    >>> exc_info = failure.exc_info\n",
      "     |    >>> raise exc_info[1] # Already has the traceback\n",
      "     |    Traceback (most recent call last):\n",
      "     |    ...\n",
      "     |    KeyError\n",
      "     |\n",
      "     |  We wrap the original exception to give the calling application\n",
      "     |  access to the test and example information.\n",
      "     |\n",
      "     |  If the output doesn't match, then a DocTestFailure is raised:\n",
      "     |\n",
      "     |    >>> test = DocTestParser().get_doctest('''\n",
      "     |    ...      >>> x = 1\n",
      "     |    ...      >>> x\n",
      "     |    ...      2\n",
      "     |    ...      ''', {}, 'foo', 'foo.py', 0)\n",
      "     |\n",
      "     |    >>> try:\n",
      "     |    ...    runner.run(test)\n",
      "     |    ... except DocTestFailure as f:\n",
      "     |    ...    failure = f\n",
      "     |\n",
      "     |  DocTestFailure objects provide access to the test:\n",
      "     |\n",
      "     |    >>> failure.test is test\n",
      "     |    True\n",
      "     |\n",
      "     |  As well as to the example:\n",
      "     |\n",
      "     |    >>> failure.example.want\n",
      "     |    '2\\n'\n",
      "     |\n",
      "     |  and the actual output:\n",
      "     |\n",
      "     |    >>> failure.got\n",
      "     |    '1\\n'\n",
      "     |\n",
      "     |  If a failure or error occurs, the globals are left intact:\n",
      "     |\n",
      "     |    >>> del test.globs['__builtins__']\n",
      "     |    >>> test.globs\n",
      "     |    {'x': 1}\n",
      "     |\n",
      "     |    >>> test = DocTestParser().get_doctest('''\n",
      "     |    ...      >>> x = 2\n",
      "     |    ...      >>> raise KeyError\n",
      "     |    ...      ''', {}, 'foo', 'foo.py', 0)\n",
      "     |\n",
      "     |    >>> runner.run(test)\n",
      "     |    Traceback (most recent call last):\n",
      "     |    ...\n",
      "     |    doctest.UnexpectedException: <DocTest foo from foo.py:0 (2 examples)>\n",
      "     |\n",
      "     |    >>> del test.globs['__builtins__']\n",
      "     |    >>> test.globs\n",
      "     |    {'x': 2}\n",
      "     |\n",
      "     |  But the globals are cleared if there is no error:\n",
      "     |\n",
      "     |    >>> test = DocTestParser().get_doctest('''\n",
      "     |    ...      >>> x = 2\n",
      "     |    ...      ''', {}, 'foo', 'foo.py', 0)\n",
      "     |\n",
      "     |    >>> runner.run(test)\n",
      "     |    TestResults(failed=0, attempted=1)\n",
      "     |\n",
      "     |    >>> test.globs\n",
      "     |    {}\n",
      "     |\n",
      "     |  Method resolution order:\n",
      "     |      DebugRunner\n",
      "     |      DocTestRunner\n",
      "     |      builtins.object\n",
      "     |\n",
      "     |  Methods defined here:\n",
      "     |\n",
      "     |  report_failure(self, out, test, example, got)\n",
      "     |      Report that the given example failed.\n",
      "     |\n",
      "     |  report_unexpected_exception(self, out, test, example, exc_info)\n",
      "     |      Report that the given example raised an unexpected exception.\n",
      "     |\n",
      "     |  run(self, test, compileflags=None, out=None, clear_globs=True)\n",
      "     |      Run the examples in `test`, and display the results using the\n",
      "     |      writer function `out`.\n",
      "     |\n",
      "     |      The examples are run in the namespace `test.globs`.  If\n",
      "     |      `clear_globs` is true (the default), then this namespace will\n",
      "     |      be cleared after the test runs, to help with garbage\n",
      "     |      collection.  If you would like to examine the namespace after\n",
      "     |      the test completes, then use `clear_globs=False`.\n",
      "     |\n",
      "     |      `compileflags` gives the set of flags that should be used by\n",
      "     |      the Python compiler when running the examples.  If not\n",
      "     |      specified, then it will default to the set of future-import\n",
      "     |      flags that apply to `globs`.\n",
      "     |\n",
      "     |      The output of each example is checked using\n",
      "     |      `DocTestRunner.check_output`, and the results are formatted by\n",
      "     |      the `DocTestRunner.report_*` methods.\n",
      "     |\n",
      "     |  ----------------------------------------------------------------------\n",
      "     |  Methods inherited from DocTestRunner:\n",
      "     |\n",
      "     |  __init__(self, checker=None, verbose=None, optionflags=0)\n",
      "     |      Create a new test runner.\n",
      "     |\n",
      "     |      Optional keyword arg `checker` is the `OutputChecker` that\n",
      "     |      should be used to compare the expected outputs and actual\n",
      "     |      outputs of doctest examples.\n",
      "     |\n",
      "     |      Optional keyword arg 'verbose' prints lots of stuff if true,\n",
      "     |      only failures if false; by default, it's true iff '-v' is in\n",
      "     |      sys.argv.\n",
      "     |\n",
      "     |      Optional argument `optionflags` can be used to control how the\n",
      "     |      test runner compares expected output to actual output, and how\n",
      "     |      it displays failures.  See the documentation for `testmod` for\n",
      "     |      more information.\n",
      "     |\n",
      "     |  merge(self, other)\n",
      "     |      #/////////////////////////////////////////////////////////////////\n",
      "     |      # Backward compatibility cruft to maintain doctest.master.\n",
      "     |      #/////////////////////////////////////////////////////////////////\n",
      "     |\n",
      "     |  report_start(self, out, test, example)\n",
      "     |      Report that the test runner is about to process the given\n",
      "     |      example.  (Only displays a message if verbose=True)\n",
      "     |\n",
      "     |  report_success(self, out, test, example, got)\n",
      "     |      Report that the given example ran successfully.  (Only\n",
      "     |      displays a message if verbose=True)\n",
      "     |\n",
      "     |  summarize(self, verbose=None)\n",
      "     |      Print a summary of all the test cases that have been run by\n",
      "     |      this DocTestRunner, and return a tuple `(f, t)`, where `f` is\n",
      "     |      the total number of failed examples, and `t` is the total\n",
      "     |      number of tried examples.\n",
      "     |\n",
      "     |      The optional `verbose` argument controls how detailed the\n",
      "     |      summary is.  If the verbosity is not specified, then the\n",
      "     |      DocTestRunner's verbosity is used.\n",
      "     |\n",
      "     |  ----------------------------------------------------------------------\n",
      "     |  Data descriptors inherited from DocTestRunner:\n",
      "     |\n",
      "     |  __dict__\n",
      "     |      dictionary for instance variables\n",
      "     |\n",
      "     |  __weakref__\n",
      "     |      list of weak references to the object\n",
      "     |\n",
      "     |  ----------------------------------------------------------------------\n",
      "     |  Data and other attributes inherited from DocTestRunner:\n",
      "     |\n",
      "     |  DIVIDER = '***********************************************************...\n",
      "\n",
      "    class DocTest(builtins.object)\n",
      "     |  DocTest(examples, globs, name, filename, lineno, docstring)\n",
      "     |\n",
      "     |  A collection of doctest examples that should be run in a single\n",
      "     |  namespace.  Each `DocTest` defines the following attributes:\n",
      "     |\n",
      "     |    - examples: the list of examples.\n",
      "     |\n",
      "     |    - globs: The namespace (aka globals) that the examples should\n",
      "     |      be run in.\n",
      "     |\n",
      "     |    - name: A name identifying the DocTest (typically, the name of\n",
      "     |      the object whose docstring this DocTest was extracted from).\n",
      "     |\n",
      "     |    - filename: The name of the file that this DocTest was extracted\n",
      "     |      from, or `None` if the filename is unknown.\n",
      "     |\n",
      "     |    - lineno: The line number within filename where this DocTest\n",
      "     |      begins, or `None` if the line number is unavailable.  This\n",
      "     |      line number is zero-based, with respect to the beginning of\n",
      "     |      the file.\n",
      "     |\n",
      "     |    - docstring: The string that the examples were extracted from,\n",
      "     |      or `None` if the string is unavailable.\n",
      "     |\n",
      "     |  Methods defined here:\n",
      "     |\n",
      "     |  __eq__(self, other)\n",
      "     |      Return self==value.\n",
      "     |\n",
      "     |  __hash__(self)\n",
      "     |      Return hash(self).\n",
      "     |\n",
      "     |  __init__(self, examples, globs, name, filename, lineno, docstring)\n",
      "     |      Create a new DocTest containing the given examples.  The\n",
      "     |      DocTest's globals are initialized with a copy of `globs`.\n",
      "     |\n",
      "     |  __lt__(self, other)\n",
      "     |      Return self<value.\n",
      "     |\n",
      "     |  __repr__(self)\n",
      "     |      Return repr(self).\n",
      "     |\n",
      "     |  ----------------------------------------------------------------------\n",
      "     |  Data descriptors defined here:\n",
      "     |\n",
      "     |  __dict__\n",
      "     |      dictionary for instance variables\n",
      "     |\n",
      "     |  __weakref__\n",
      "     |      list of weak references to the object\n",
      "\n",
      "    class DocTestFailure(builtins.Exception)\n",
      "     |  DocTestFailure(test, example, got)\n",
      "     |\n",
      "     |  A DocTest example has failed in debugging mode.\n",
      "     |\n",
      "     |  The exception instance has variables:\n",
      "     |\n",
      "     |  - test: the DocTest object being run\n",
      "     |\n",
      "     |  - example: the Example object that failed\n",
      "     |\n",
      "     |  - got: the actual output\n",
      "     |\n",
      "     |  Method resolution order:\n",
      "     |      DocTestFailure\n",
      "     |      builtins.Exception\n",
      "     |      builtins.BaseException\n",
      "     |      builtins.object\n",
      "     |\n",
      "     |  Methods defined here:\n",
      "     |\n",
      "     |  __init__(self, test, example, got)\n",
      "     |      Initialize self.  See help(type(self)) for accurate signature.\n",
      "     |\n",
      "     |  __str__(self)\n",
      "     |      Return str(self).\n",
      "     |\n",
      "     |  ----------------------------------------------------------------------\n",
      "     |  Data descriptors defined here:\n",
      "     |\n",
      "     |  __weakref__\n",
      "     |      list of weak references to the object\n",
      "     |\n",
      "     |  ----------------------------------------------------------------------\n",
      "     |  Static methods inherited from builtins.Exception:\n",
      "     |\n",
      "     |  __new__(*args, **kwargs) class method of builtins.Exception\n",
      "     |      Create and return a new object.  See help(type) for accurate signature.\n",
      "     |\n",
      "     |  ----------------------------------------------------------------------\n",
      "     |  Methods inherited from builtins.BaseException:\n",
      "     |\n",
      "     |  __delattr__(self, name, /)\n",
      "     |      Implement delattr(self, name).\n",
      "     |\n",
      "     |  __getattribute__(self, name, /)\n",
      "     |      Return getattr(self, name).\n",
      "     |\n",
      "     |  __reduce__(...)\n",
      "     |      Helper for pickle.\n",
      "     |\n",
      "     |  __repr__(self, /)\n",
      "     |      Return repr(self).\n",
      "     |\n",
      "     |  __setattr__(self, name, value, /)\n",
      "     |      Implement setattr(self, name, value).\n",
      "     |\n",
      "     |  __setstate__(...)\n",
      "     |\n",
      "     |  add_note(...)\n",
      "     |      Exception.add_note(note) --\n",
      "     |      add a note to the exception\n",
      "     |\n",
      "     |  with_traceback(...)\n",
      "     |      Exception.with_traceback(tb) --\n",
      "     |      set self.__traceback__ to tb and return self.\n",
      "     |\n",
      "     |  ----------------------------------------------------------------------\n",
      "     |  Data descriptors inherited from builtins.BaseException:\n",
      "     |\n",
      "     |  __cause__\n",
      "     |      exception cause\n",
      "     |\n",
      "     |  __context__\n",
      "     |      exception context\n",
      "     |\n",
      "     |  __dict__\n",
      "     |\n",
      "     |  __suppress_context__\n",
      "     |\n",
      "     |  __traceback__\n",
      "     |\n",
      "     |  args\n",
      "\n",
      "    class DocTestFinder(builtins.object)\n",
      "     |  DocTestFinder(verbose=False, parser=<doctest.DocTestParser object at 0x000001F7275EBA10>, recurse=True, exclude_empty=True)\n",
      "     |\n",
      "     |  A class used to extract the DocTests that are relevant to a given\n",
      "     |  object, from its docstring and the docstrings of its contained\n",
      "     |  objects.  Doctests can currently be extracted from the following\n",
      "     |  object types: modules, functions, classes, methods, staticmethods,\n",
      "     |  classmethods, and properties.\n",
      "     |\n",
      "     |  Methods defined here:\n",
      "     |\n",
      "     |  __init__(self, verbose=False, parser=<doctest.DocTestParser object at 0x000001F7275EBA10>, recurse=True, exclude_empty=True)\n",
      "     |      Create a new doctest finder.\n",
      "     |\n",
      "     |      The optional argument `parser` specifies a class or\n",
      "     |      function that should be used to create new DocTest objects (or\n",
      "     |      objects that implement the same interface as DocTest).  The\n",
      "     |      signature for this factory function should match the signature\n",
      "     |      of the DocTest constructor.\n",
      "     |\n",
      "     |      If the optional argument `recurse` is false, then `find` will\n",
      "     |      only examine the given object, and not any contained objects.\n",
      "     |\n",
      "     |      If the optional argument `exclude_empty` is false, then `find`\n",
      "     |      will include tests for objects with empty docstrings.\n",
      "     |\n",
      "     |  find(self, obj, name=None, module=None, globs=None, extraglobs=None)\n",
      "     |      Return a list of the DocTests that are defined by the given\n",
      "     |      object's docstring, or by any of its contained objects'\n",
      "     |      docstrings.\n",
      "     |\n",
      "     |      The optional parameter `module` is the module that contains\n",
      "     |      the given object.  If the module is not specified or is None, then\n",
      "     |      the test finder will attempt to automatically determine the\n",
      "     |      correct module.  The object's module is used:\n",
      "     |\n",
      "     |          - As a default namespace, if `globs` is not specified.\n",
      "     |          - To prevent the DocTestFinder from extracting DocTests\n",
      "     |            from objects that are imported from other modules.\n",
      "     |          - To find the name of the file containing the object.\n",
      "     |          - To help find the line number of the object within its\n",
      "     |            file.\n",
      "     |\n",
      "     |      Contained objects whose module does not match `module` are ignored.\n",
      "     |\n",
      "     |      If `module` is False, no attempt to find the module will be made.\n",
      "     |      This is obscure, of use mostly in tests:  if `module` is False, or\n",
      "     |      is None but cannot be found automatically, then all objects are\n",
      "     |      considered to belong to the (non-existent) module, so all contained\n",
      "     |      objects will (recursively) be searched for doctests.\n",
      "     |\n",
      "     |      The globals for each DocTest is formed by combining `globs`\n",
      "     |      and `extraglobs` (bindings in `extraglobs` override bindings\n",
      "     |      in `globs`).  A new copy of the globals dictionary is created\n",
      "     |      for each DocTest.  If `globs` is not specified, then it\n",
      "     |      defaults to the module's `__dict__`, if specified, or {}\n",
      "     |      otherwise.  If `extraglobs` is not specified, then it defaults\n",
      "     |      to {}.\n",
      "     |\n",
      "     |  ----------------------------------------------------------------------\n",
      "     |  Data descriptors defined here:\n",
      "     |\n",
      "     |  __dict__\n",
      "     |      dictionary for instance variables\n",
      "     |\n",
      "     |  __weakref__\n",
      "     |      list of weak references to the object\n",
      "\n",
      "    class DocTestParser(builtins.object)\n",
      "     |  A class used to parse strings containing doctest examples.\n",
      "     |\n",
      "     |  Methods defined here:\n",
      "     |\n",
      "     |  get_doctest(self, string, globs, name, filename, lineno)\n",
      "     |      Extract all doctest examples from the given string, and\n",
      "     |      collect them into a `DocTest` object.\n",
      "     |\n",
      "     |      `globs`, `name`, `filename`, and `lineno` are attributes for\n",
      "     |      the new `DocTest` object.  See the documentation for `DocTest`\n",
      "     |      for more information.\n",
      "     |\n",
      "     |  get_examples(self, string, name='<string>')\n",
      "     |      Extract all doctest examples from the given string, and return\n",
      "     |      them as a list of `Example` objects.  Line numbers are\n",
      "     |      0-based, because it's most common in doctests that nothing\n",
      "     |      interesting appears on the same line as opening triple-quote,\n",
      "     |      and so the first interesting line is called \"line 1\" then.\n",
      "     |\n",
      "     |      The optional argument `name` is a name identifying this\n",
      "     |      string, and is only used for error messages.\n",
      "     |\n",
      "     |  parse(self, string, name='<string>')\n",
      "     |      Divide the given string into examples and intervening text,\n",
      "     |      and return them as a list of alternating Examples and strings.\n",
      "     |      Line numbers for the Examples are 0-based.  The optional\n",
      "     |      argument `name` is a name identifying this string, and is only\n",
      "     |      used for error messages.\n",
      "     |\n",
      "     |  ----------------------------------------------------------------------\n",
      "     |  Data descriptors defined here:\n",
      "     |\n",
      "     |  __dict__\n",
      "     |      dictionary for instance variables\n",
      "     |\n",
      "     |  __weakref__\n",
      "     |      list of weak references to the object\n",
      "\n",
      "    class DocTestRunner(builtins.object)\n",
      "     |  DocTestRunner(checker=None, verbose=None, optionflags=0)\n",
      "     |\n",
      "     |  A class used to run DocTest test cases, and accumulate statistics.\n",
      "     |  The `run` method is used to process a single DocTest case.  It\n",
      "     |  returns a tuple `(f, t)`, where `t` is the number of test cases\n",
      "     |  tried, and `f` is the number of test cases that failed.\n",
      "     |\n",
      "     |      >>> tests = DocTestFinder().find(_TestClass)\n",
      "     |      >>> runner = DocTestRunner(verbose=False)\n",
      "     |      >>> tests.sort(key = lambda test: test.name)\n",
      "     |      >>> for test in tests:\n",
      "     |      ...     print(test.name, '->', runner.run(test))\n",
      "     |      _TestClass -> TestResults(failed=0, attempted=2)\n",
      "     |      _TestClass.__init__ -> TestResults(failed=0, attempted=2)\n",
      "     |      _TestClass.get -> TestResults(failed=0, attempted=2)\n",
      "     |      _TestClass.square -> TestResults(failed=0, attempted=1)\n",
      "     |\n",
      "     |  The `summarize` method prints a summary of all the test cases that\n",
      "     |  have been run by the runner, and returns an aggregated `(f, t)`\n",
      "     |  tuple:\n",
      "     |\n",
      "     |      >>> runner.summarize(verbose=1)\n",
      "     |      4 items passed all tests:\n",
      "     |         2 tests in _TestClass\n",
      "     |         2 tests in _TestClass.__init__\n",
      "     |         2 tests in _TestClass.get\n",
      "     |         1 tests in _TestClass.square\n",
      "     |      7 tests in 4 items.\n",
      "     |      7 passed and 0 failed.\n",
      "     |      Test passed.\n",
      "     |      TestResults(failed=0, attempted=7)\n",
      "     |\n",
      "     |  The aggregated number of tried examples and failed examples is\n",
      "     |  also available via the `tries` and `failures` attributes:\n",
      "     |\n",
      "     |      >>> runner.tries\n",
      "     |      7\n",
      "     |      >>> runner.failures\n",
      "     |      0\n",
      "     |\n",
      "     |  The comparison between expected outputs and actual outputs is done\n",
      "     |  by an `OutputChecker`.  This comparison may be customized with a\n",
      "     |  number of option flags; see the documentation for `testmod` for\n",
      "     |  more information.  If the option flags are insufficient, then the\n",
      "     |  comparison may also be customized by passing a subclass of\n",
      "     |  `OutputChecker` to the constructor.\n",
      "     |\n",
      "     |  The test runner's display output can be controlled in two ways.\n",
      "     |  First, an output function (`out) can be passed to\n",
      "     |  `TestRunner.run`; this function will be called with strings that\n",
      "     |  should be displayed.  It defaults to `sys.stdout.write`.  If\n",
      "     |  capturing the output is not sufficient, then the display output\n",
      "     |  can be also customized by subclassing DocTestRunner, and\n",
      "     |  overriding the methods `report_start`, `report_success`,\n",
      "     |  `report_unexpected_exception`, and `report_failure`.\n",
      "     |\n",
      "     |  Methods defined here:\n",
      "     |\n",
      "     |  __init__(self, checker=None, verbose=None, optionflags=0)\n",
      "     |      Create a new test runner.\n",
      "     |\n",
      "     |      Optional keyword arg `checker` is the `OutputChecker` that\n",
      "     |      should be used to compare the expected outputs and actual\n",
      "     |      outputs of doctest examples.\n",
      "     |\n",
      "     |      Optional keyword arg 'verbose' prints lots of stuff if true,\n",
      "     |      only failures if false; by default, it's true iff '-v' is in\n",
      "     |      sys.argv.\n",
      "     |\n",
      "     |      Optional argument `optionflags` can be used to control how the\n",
      "     |      test runner compares expected output to actual output, and how\n",
      "     |      it displays failures.  See the documentation for `testmod` for\n",
      "     |      more information.\n",
      "     |\n",
      "     |  merge(self, other)\n",
      "     |      #/////////////////////////////////////////////////////////////////\n",
      "     |      # Backward compatibility cruft to maintain doctest.master.\n",
      "     |      #/////////////////////////////////////////////////////////////////\n",
      "     |\n",
      "     |  report_failure(self, out, test, example, got)\n",
      "     |      Report that the given example failed.\n",
      "     |\n",
      "     |  report_start(self, out, test, example)\n",
      "     |      Report that the test runner is about to process the given\n",
      "     |      example.  (Only displays a message if verbose=True)\n",
      "     |\n",
      "     |  report_success(self, out, test, example, got)\n",
      "     |      Report that the given example ran successfully.  (Only\n",
      "     |      displays a message if verbose=True)\n",
      "     |\n",
      "     |  report_unexpected_exception(self, out, test, example, exc_info)\n",
      "     |      Report that the given example raised an unexpected exception.\n",
      "     |\n",
      "     |  run(self, test, compileflags=None, out=None, clear_globs=True)\n",
      "     |      Run the examples in `test`, and display the results using the\n",
      "     |      writer function `out`.\n",
      "     |\n",
      "     |      The examples are run in the namespace `test.globs`.  If\n",
      "     |      `clear_globs` is true (the default), then this namespace will\n",
      "     |      be cleared after the test runs, to help with garbage\n",
      "     |      collection.  If you would like to examine the namespace after\n",
      "     |      the test completes, then use `clear_globs=False`.\n",
      "     |\n",
      "     |      `compileflags` gives the set of flags that should be used by\n",
      "     |      the Python compiler when running the examples.  If not\n",
      "     |      specified, then it will default to the set of future-import\n",
      "     |      flags that apply to `globs`.\n",
      "     |\n",
      "     |      The output of each example is checked using\n",
      "     |      `DocTestRunner.check_output`, and the results are formatted by\n",
      "     |      the `DocTestRunner.report_*` methods.\n",
      "     |\n",
      "     |  summarize(self, verbose=None)\n",
      "     |      Print a summary of all the test cases that have been run by\n",
      "     |      this DocTestRunner, and return a tuple `(f, t)`, where `f` is\n",
      "     |      the total number of failed examples, and `t` is the total\n",
      "     |      number of tried examples.\n",
      "     |\n",
      "     |      The optional `verbose` argument controls how detailed the\n",
      "     |      summary is.  If the verbosity is not specified, then the\n",
      "     |      DocTestRunner's verbosity is used.\n",
      "     |\n",
      "     |  ----------------------------------------------------------------------\n",
      "     |  Data descriptors defined here:\n",
      "     |\n",
      "     |  __dict__\n",
      "     |      dictionary for instance variables\n",
      "     |\n",
      "     |  __weakref__\n",
      "     |      list of weak references to the object\n",
      "     |\n",
      "     |  ----------------------------------------------------------------------\n",
      "     |  Data and other attributes defined here:\n",
      "     |\n",
      "     |  DIVIDER = '***********************************************************...\n",
      "\n",
      "    class Example(builtins.object)\n",
      "     |  Example(source, want, exc_msg=None, lineno=0, indent=0, options=None)\n",
      "     |\n",
      "     |  A single doctest example, consisting of source code and expected\n",
      "     |  output.  `Example` defines the following attributes:\n",
      "     |\n",
      "     |    - source: A single Python statement, always ending with a newline.\n",
      "     |      The constructor adds a newline if needed.\n",
      "     |\n",
      "     |    - want: The expected output from running the source code (either\n",
      "     |      from stdout, or a traceback in case of exception).  `want` ends\n",
      "     |      with a newline unless it's empty, in which case it's an empty\n",
      "     |      string.  The constructor adds a newline if needed.\n",
      "     |\n",
      "     |    - exc_msg: The exception message generated by the example, if\n",
      "     |      the example is expected to generate an exception; or `None` if\n",
      "     |      it is not expected to generate an exception.  This exception\n",
      "     |      message is compared against the return value of\n",
      "     |      `traceback.format_exception_only()`.  `exc_msg` ends with a\n",
      "     |      newline unless it's `None`.  The constructor adds a newline\n",
      "     |      if needed.\n",
      "     |\n",
      "     |    - lineno: The line number within the DocTest string containing\n",
      "     |      this Example where the Example begins.  This line number is\n",
      "     |      zero-based, with respect to the beginning of the DocTest.\n",
      "     |\n",
      "     |    - indent: The example's indentation in the DocTest string.\n",
      "     |      I.e., the number of space characters that precede the\n",
      "     |      example's first prompt.\n",
      "     |\n",
      "     |    - options: A dictionary mapping from option flags to True or\n",
      "     |      False, which is used to override default options for this\n",
      "     |      example.  Any option flags not contained in this dictionary\n",
      "     |      are left at their default value (as specified by the\n",
      "     |      DocTestRunner's optionflags).  By default, no options are set.\n",
      "     |\n",
      "     |  Methods defined here:\n",
      "     |\n",
      "     |  __eq__(self, other)\n",
      "     |      Return self==value.\n",
      "     |\n",
      "     |  __hash__(self)\n",
      "     |      Return hash(self).\n",
      "     |\n",
      "     |  __init__(self, source, want, exc_msg=None, lineno=0, indent=0, options=None)\n",
      "     |      Initialize self.  See help(type(self)) for accurate signature.\n",
      "     |\n",
      "     |  ----------------------------------------------------------------------\n",
      "     |  Data descriptors defined here:\n",
      "     |\n",
      "     |  __dict__\n",
      "     |      dictionary for instance variables\n",
      "     |\n",
      "     |  __weakref__\n",
      "     |      list of weak references to the object\n",
      "\n",
      "    class OutputChecker(builtins.object)\n",
      "     |  A class used to check the whether the actual output from a doctest\n",
      "     |  example matches the expected output.  `OutputChecker` defines two\n",
      "     |  methods: `check_output`, which compares a given pair of outputs,\n",
      "     |  and returns true if they match; and `output_difference`, which\n",
      "     |  returns a string describing the differences between two outputs.\n",
      "     |\n",
      "     |  Methods defined here:\n",
      "     |\n",
      "     |  check_output(self, want, got, optionflags)\n",
      "     |      Return True iff the actual output from an example (`got`)\n",
      "     |      matches the expected output (`want`).  These strings are\n",
      "     |      always considered to match if they are identical; but\n",
      "     |      depending on what option flags the test runner is using,\n",
      "     |      several non-exact match types are also possible.  See the\n",
      "     |      documentation for `TestRunner` for more information about\n",
      "     |      option flags.\n",
      "     |\n",
      "     |  output_difference(self, example, got, optionflags)\n",
      "     |      Return a string describing the differences between the\n",
      "     |      expected output for a given example (`example`) and the actual\n",
      "     |      output (`got`).  `optionflags` is the set of option flags used\n",
      "     |      to compare `want` and `got`.\n",
      "     |\n",
      "     |  ----------------------------------------------------------------------\n",
      "     |  Data descriptors defined here:\n",
      "     |\n",
      "     |  __dict__\n",
      "     |      dictionary for instance variables\n",
      "     |\n",
      "     |  __weakref__\n",
      "     |      list of weak references to the object\n",
      "\n",
      "    class UnexpectedException(builtins.Exception)\n",
      "     |  UnexpectedException(test, example, exc_info)\n",
      "     |\n",
      "     |  A DocTest example has encountered an unexpected exception\n",
      "     |\n",
      "     |  The exception instance has variables:\n",
      "     |\n",
      "     |  - test: the DocTest object being run\n",
      "     |\n",
      "     |  - example: the Example object that failed\n",
      "     |\n",
      "     |  - exc_info: the exception info\n",
      "     |\n",
      "     |  Method resolution order:\n",
      "     |      UnexpectedException\n",
      "     |      builtins.Exception\n",
      "     |      builtins.BaseException\n",
      "     |      builtins.object\n",
      "     |\n",
      "     |  Methods defined here:\n",
      "     |\n",
      "     |  __init__(self, test, example, exc_info)\n",
      "     |      Initialize self.  See help(type(self)) for accurate signature.\n",
      "     |\n",
      "     |  __str__(self)\n",
      "     |      Return str(self).\n",
      "     |\n",
      "     |  ----------------------------------------------------------------------\n",
      "     |  Data descriptors defined here:\n",
      "     |\n",
      "     |  __weakref__\n",
      "     |      list of weak references to the object\n",
      "     |\n",
      "     |  ----------------------------------------------------------------------\n",
      "     |  Static methods inherited from builtins.Exception:\n",
      "     |\n",
      "     |  __new__(*args, **kwargs) class method of builtins.Exception\n",
      "     |      Create and return a new object.  See help(type) for accurate signature.\n",
      "     |\n",
      "     |  ----------------------------------------------------------------------\n",
      "     |  Methods inherited from builtins.BaseException:\n",
      "     |\n",
      "     |  __delattr__(self, name, /)\n",
      "     |      Implement delattr(self, name).\n",
      "     |\n",
      "     |  __getattribute__(self, name, /)\n",
      "     |      Return getattr(self, name).\n",
      "     |\n",
      "     |  __reduce__(...)\n",
      "     |      Helper for pickle.\n",
      "     |\n",
      "     |  __repr__(self, /)\n",
      "     |      Return repr(self).\n",
      "     |\n",
      "     |  __setattr__(self, name, value, /)\n",
      "     |      Implement setattr(self, name, value).\n",
      "     |\n",
      "     |  __setstate__(...)\n",
      "     |\n",
      "     |  add_note(...)\n",
      "     |      Exception.add_note(note) --\n",
      "     |      add a note to the exception\n",
      "     |\n",
      "     |  with_traceback(...)\n",
      "     |      Exception.with_traceback(tb) --\n",
      "     |      set self.__traceback__ to tb and return self.\n",
      "     |\n",
      "     |  ----------------------------------------------------------------------\n",
      "     |  Data descriptors inherited from builtins.BaseException:\n",
      "     |\n",
      "     |  __cause__\n",
      "     |      exception cause\n",
      "     |\n",
      "     |  __context__\n",
      "     |      exception context\n",
      "     |\n",
      "     |  __dict__\n",
      "     |\n",
      "     |  __suppress_context__\n",
      "     |\n",
      "     |  __traceback__\n",
      "     |\n",
      "     |  args\n",
      "\n",
      "FUNCTIONS\n",
      "    DocFileSuite(*paths, **kw)\n",
      "        A unittest suite for one or more doctest files.\n",
      "\n",
      "        The path to each doctest file is given as a string; the\n",
      "        interpretation of that string depends on the keyword argument\n",
      "        \"module_relative\".\n",
      "\n",
      "        A number of options may be provided as keyword arguments:\n",
      "\n",
      "        module_relative\n",
      "          If \"module_relative\" is True, then the given file paths are\n",
      "          interpreted as os-independent module-relative paths.  By\n",
      "          default, these paths are relative to the calling module's\n",
      "          directory; but if the \"package\" argument is specified, then\n",
      "          they are relative to that package.  To ensure os-independence,\n",
      "          \"filename\" should use \"/\" characters to separate path\n",
      "          segments, and may not be an absolute path (i.e., it may not\n",
      "          begin with \"/\").\n",
      "\n",
      "          If \"module_relative\" is False, then the given file paths are\n",
      "          interpreted as os-specific paths.  These paths may be absolute\n",
      "          or relative (to the current working directory).\n",
      "\n",
      "        package\n",
      "          A Python package or the name of a Python package whose directory\n",
      "          should be used as the base directory for module relative paths.\n",
      "          If \"package\" is not specified, then the calling module's\n",
      "          directory is used as the base directory for module relative\n",
      "          filenames.  It is an error to specify \"package\" if\n",
      "          \"module_relative\" is False.\n",
      "\n",
      "        setUp\n",
      "          A set-up function.  This is called before running the\n",
      "          tests in each file. The setUp function will be passed a DocTest\n",
      "          object.  The setUp function can access the test globals as the\n",
      "          globs attribute of the test passed.\n",
      "\n",
      "        tearDown\n",
      "          A tear-down function.  This is called after running the\n",
      "          tests in each file.  The tearDown function will be passed a DocTest\n",
      "          object.  The tearDown function can access the test globals as the\n",
      "          globs attribute of the test passed.\n",
      "\n",
      "        globs\n",
      "          A dictionary containing initial global variables for the tests.\n",
      "\n",
      "        optionflags\n",
      "          A set of doctest option flags expressed as an integer.\n",
      "\n",
      "        parser\n",
      "          A DocTestParser (or subclass) that should be used to extract\n",
      "          tests from the files.\n",
      "\n",
      "        encoding\n",
      "          An encoding that will be used to convert the files to unicode.\n",
      "\n",
      "    DocTestSuite(module=None, globs=None, extraglobs=None, test_finder=None, **options)\n",
      "        Convert doctest tests for a module to a unittest test suite.\n",
      "\n",
      "        This converts each documentation string in a module that\n",
      "        contains doctest tests to a unittest test case.  If any of the\n",
      "        tests in a doc string fail, then the test case fails.  An exception\n",
      "        is raised showing the name of the file containing the test and a\n",
      "        (sometimes approximate) line number.\n",
      "\n",
      "        The `module` argument provides the module to be tested.  The argument\n",
      "        can be either a module or a module name.\n",
      "\n",
      "        If no argument is given, the calling module is used.\n",
      "\n",
      "        A number of options may be provided as keyword arguments:\n",
      "\n",
      "        setUp\n",
      "          A set-up function.  This is called before running the\n",
      "          tests in each file. The setUp function will be passed a DocTest\n",
      "          object.  The setUp function can access the test globals as the\n",
      "          globs attribute of the test passed.\n",
      "\n",
      "        tearDown\n",
      "          A tear-down function.  This is called after running the\n",
      "          tests in each file.  The tearDown function will be passed a DocTest\n",
      "          object.  The tearDown function can access the test globals as the\n",
      "          globs attribute of the test passed.\n",
      "\n",
      "        globs\n",
      "          A dictionary containing initial global variables for the tests.\n",
      "\n",
      "        optionflags\n",
      "           A set of doctest option flags expressed as an integer.\n",
      "\n",
      "    debug(module, name, pm=False)\n",
      "        Debug a single doctest docstring.\n",
      "\n",
      "        Provide the module (or dotted name of the module) containing the\n",
      "        test to be debugged and the name (within the module) of the object\n",
      "        with the docstring with tests to be debugged.\n",
      "\n",
      "    debug_src(src, pm=False, globs=None)\n",
      "        Debug a single doctest docstring, in argument `src`'\n",
      "\n",
      "    register_optionflag(name)\n",
      "\n",
      "    run_docstring_examples(f, globs, verbose=False, name='NoName', compileflags=None, optionflags=0)\n",
      "        Test examples in the given object's docstring (`f`), using `globs`\n",
      "        as globals.  Optional argument `name` is used in failure messages.\n",
      "        If the optional argument `verbose` is true, then generate output\n",
      "        even if there are no failures.\n",
      "\n",
      "        `compileflags` gives the set of flags that should be used by the\n",
      "        Python compiler when running the examples.  If not specified, then\n",
      "        it will default to the set of future-import flags that apply to\n",
      "        `globs`.\n",
      "\n",
      "        Optional keyword arg `optionflags` specifies options for the\n",
      "        testing and output.  See the documentation for `testmod` for more\n",
      "        information.\n",
      "\n",
      "    script_from_examples(s)\n",
      "        Extract script from text with examples.\n",
      "\n",
      "        Converts text with examples to a Python script.  Example input is\n",
      "        converted to regular code.  Example output and all other words\n",
      "        are converted to comments:\n",
      "\n",
      "        >>> text = '''\n",
      "        ...       Here are examples of simple math.\n",
      "        ...\n",
      "        ...           Python has super accurate integer addition\n",
      "        ...\n",
      "        ...           >>> 2 + 2\n",
      "        ...           5\n",
      "        ...\n",
      "        ...           And very friendly error messages:\n",
      "        ...\n",
      "        ...           >>> 1/0\n",
      "        ...           To Infinity\n",
      "        ...           And\n",
      "        ...           Beyond\n",
      "        ...\n",
      "        ...           You can use logic if you want:\n",
      "        ...\n",
      "        ...           >>> if 0:\n",
      "        ...           ...    blah\n",
      "        ...           ...    blah\n",
      "        ...           ...\n",
      "        ...\n",
      "        ...           Ho hum\n",
      "        ...           '''\n",
      "\n",
      "        >>> print(script_from_examples(text))\n",
      "        # Here are examples of simple math.\n",
      "        #\n",
      "        #     Python has super accurate integer addition\n",
      "        #\n",
      "        2 + 2\n",
      "        # Expected:\n",
      "        ## 5\n",
      "        #\n",
      "        #     And very friendly error messages:\n",
      "        #\n",
      "        1/0\n",
      "        # Expected:\n",
      "        ## To Infinity\n",
      "        ## And\n",
      "        ## Beyond\n",
      "        #\n",
      "        #     You can use logic if you want:\n",
      "        #\n",
      "        if 0:\n",
      "           blah\n",
      "           blah\n",
      "        #\n",
      "        #     Ho hum\n",
      "        <BLANKLINE>\n",
      "\n",
      "    set_unittest_reportflags(flags)\n",
      "        Sets the unittest option flags.\n",
      "\n",
      "        The old flag is returned so that a runner could restore the old\n",
      "        value if it wished to:\n",
      "\n",
      "          >>> import doctest\n",
      "          >>> old = doctest._unittest_reportflags\n",
      "          >>> doctest.set_unittest_reportflags(REPORT_NDIFF |\n",
      "          ...                          REPORT_ONLY_FIRST_FAILURE) == old\n",
      "          True\n",
      "\n",
      "          >>> doctest._unittest_reportflags == (REPORT_NDIFF |\n",
      "          ...                                   REPORT_ONLY_FIRST_FAILURE)\n",
      "          True\n",
      "\n",
      "        Only reporting flags can be set:\n",
      "\n",
      "          >>> doctest.set_unittest_reportflags(ELLIPSIS)\n",
      "          Traceback (most recent call last):\n",
      "          ...\n",
      "          ValueError: ('Only reporting flags allowed', 8)\n",
      "\n",
      "          >>> doctest.set_unittest_reportflags(old) == (REPORT_NDIFF |\n",
      "          ...                                   REPORT_ONLY_FIRST_FAILURE)\n",
      "          True\n",
      "\n",
      "    testfile(filename, module_relative=True, name=None, package=None, globs=None, verbose=None, report=True, optionflags=0, extraglobs=None, raise_on_error=False, parser=<doctest.DocTestParser object at 0x000001F7259BD9A0>, encoding=None)\n",
      "        Test examples in the given file.  Return (#failures, #tests).\n",
      "\n",
      "        Optional keyword arg \"module_relative\" specifies how filenames\n",
      "        should be interpreted:\n",
      "\n",
      "          - If \"module_relative\" is True (the default), then \"filename\"\n",
      "             specifies a module-relative path.  By default, this path is\n",
      "             relative to the calling module's directory; but if the\n",
      "             \"package\" argument is specified, then it is relative to that\n",
      "             package.  To ensure os-independence, \"filename\" should use\n",
      "             \"/\" characters to separate path segments, and should not\n",
      "             be an absolute path (i.e., it may not begin with \"/\").\n",
      "\n",
      "          - If \"module_relative\" is False, then \"filename\" specifies an\n",
      "            os-specific path.  The path may be absolute or relative (to\n",
      "            the current working directory).\n",
      "\n",
      "        Optional keyword arg \"name\" gives the name of the test; by default\n",
      "        use the file's basename.\n",
      "\n",
      "        Optional keyword argument \"package\" is a Python package or the\n",
      "        name of a Python package whose directory should be used as the\n",
      "        base directory for a module relative filename.  If no package is\n",
      "        specified, then the calling module's directory is used as the base\n",
      "        directory for module relative filenames.  It is an error to\n",
      "        specify \"package\" if \"module_relative\" is False.\n",
      "\n",
      "        Optional keyword arg \"globs\" gives a dict to be used as the globals\n",
      "        when executing examples; by default, use {}.  A copy of this dict\n",
      "        is actually used for each docstring, so that each docstring's\n",
      "        examples start with a clean slate.\n",
      "\n",
      "        Optional keyword arg \"extraglobs\" gives a dictionary that should be\n",
      "        merged into the globals that are used to execute examples.  By\n",
      "        default, no extra globals are used.\n",
      "\n",
      "        Optional keyword arg \"verbose\" prints lots of stuff if true, prints\n",
      "        only failures if false; by default, it's true iff \"-v\" is in sys.argv.\n",
      "\n",
      "        Optional keyword arg \"report\" prints a summary at the end when true,\n",
      "        else prints nothing at the end.  In verbose mode, the summary is\n",
      "        detailed, else very brief (in fact, empty if all tests passed).\n",
      "\n",
      "        Optional keyword arg \"optionflags\" or's together module constants,\n",
      "        and defaults to 0.  Possible values (see the docs for details):\n",
      "\n",
      "            DONT_ACCEPT_TRUE_FOR_1\n",
      "            DONT_ACCEPT_BLANKLINE\n",
      "            NORMALIZE_WHITESPACE\n",
      "            ELLIPSIS\n",
      "            SKIP\n",
      "            IGNORE_EXCEPTION_DETAIL\n",
      "            REPORT_UDIFF\n",
      "            REPORT_CDIFF\n",
      "            REPORT_NDIFF\n",
      "            REPORT_ONLY_FIRST_FAILURE\n",
      "\n",
      "        Optional keyword arg \"raise_on_error\" raises an exception on the\n",
      "        first unexpected exception or failure. This allows failures to be\n",
      "        post-mortem debugged.\n",
      "\n",
      "        Optional keyword arg \"parser\" specifies a DocTestParser (or\n",
      "        subclass) that should be used to extract tests from the files.\n",
      "\n",
      "        Optional keyword arg \"encoding\" specifies an encoding that should\n",
      "        be used to convert the file to unicode.\n",
      "\n",
      "        Advanced tomfoolery:  testmod runs methods of a local instance of\n",
      "        class doctest.Tester, then merges the results into (or creates)\n",
      "        global Tester instance doctest.master.  Methods of doctest.master\n",
      "        can be called directly too, if you want to do something unusual.\n",
      "        Passing report=0 to testmod is especially useful then, to delay\n",
      "        displaying a summary.  Invoke doctest.master.summarize(verbose)\n",
      "        when you're done fiddling.\n",
      "\n",
      "    testmod(m=None, name=None, globs=None, verbose=None, report=True, optionflags=0, extraglobs=None, raise_on_error=False, exclude_empty=False)\n",
      "        m=None, name=None, globs=None, verbose=None, report=True,\n",
      "           optionflags=0, extraglobs=None, raise_on_error=False,\n",
      "           exclude_empty=False\n",
      "\n",
      "        Test examples in docstrings in functions and classes reachable\n",
      "        from module m (or the current module if m is not supplied), starting\n",
      "        with m.__doc__.\n",
      "\n",
      "        Also test examples reachable from dict m.__test__ if it exists and is\n",
      "        not None.  m.__test__ maps names to functions, classes and strings;\n",
      "        function and class docstrings are tested even if the name is private;\n",
      "        strings are tested directly, as if they were docstrings.\n",
      "\n",
      "        Return (#failures, #tests).\n",
      "\n",
      "        See help(doctest) for an overview.\n",
      "\n",
      "        Optional keyword arg \"name\" gives the name of the module; by default\n",
      "        use m.__name__.\n",
      "\n",
      "        Optional keyword arg \"globs\" gives a dict to be used as the globals\n",
      "        when executing examples; by default, use m.__dict__.  A copy of this\n",
      "        dict is actually used for each docstring, so that each docstring's\n",
      "        examples start with a clean slate.\n",
      "\n",
      "        Optional keyword arg \"extraglobs\" gives a dictionary that should be\n",
      "        merged into the globals that are used to execute examples.  By\n",
      "        default, no extra globals are used.  This is new in 2.4.\n",
      "\n",
      "        Optional keyword arg \"verbose\" prints lots of stuff if true, prints\n",
      "        only failures if false; by default, it's true iff \"-v\" is in sys.argv.\n",
      "\n",
      "        Optional keyword arg \"report\" prints a summary at the end when true,\n",
      "        else prints nothing at the end.  In verbose mode, the summary is\n",
      "        detailed, else very brief (in fact, empty if all tests passed).\n",
      "\n",
      "        Optional keyword arg \"optionflags\" or's together module constants,\n",
      "        and defaults to 0.  This is new in 2.3.  Possible values (see the\n",
      "        docs for details):\n",
      "\n",
      "            DONT_ACCEPT_TRUE_FOR_1\n",
      "            DONT_ACCEPT_BLANKLINE\n",
      "            NORMALIZE_WHITESPACE\n",
      "            ELLIPSIS\n",
      "            SKIP\n",
      "            IGNORE_EXCEPTION_DETAIL\n",
      "            REPORT_UDIFF\n",
      "            REPORT_CDIFF\n",
      "            REPORT_NDIFF\n",
      "            REPORT_ONLY_FIRST_FAILURE\n",
      "\n",
      "        Optional keyword arg \"raise_on_error\" raises an exception on the\n",
      "        first unexpected exception or failure. This allows failures to be\n",
      "        post-mortem debugged.\n",
      "\n",
      "        Advanced tomfoolery:  testmod runs methods of a local instance of\n",
      "        class doctest.Tester, then merges the results into (or creates)\n",
      "        global Tester instance doctest.master.  Methods of doctest.master\n",
      "        can be called directly too, if you want to do something unusual.\n",
      "        Passing report=0 to testmod is especially useful then, to delay\n",
      "        displaying a summary.  Invoke doctest.master.summarize(verbose)\n",
      "        when you're done fiddling.\n",
      "\n",
      "    testsource(module, name)\n",
      "        Extract the test sources from a doctest docstring as a script.\n",
      "\n",
      "        Provide the module (or dotted name of the module) containing the\n",
      "        test to be debugged and the name (within the module) of the object\n",
      "        with the doc string with tests to be debugged.\n",
      "\n",
      "DATA\n",
      "    COMPARISON_FLAGS = 63\n",
      "    DONT_ACCEPT_BLANKLINE = 2\n",
      "    DONT_ACCEPT_TRUE_FOR_1 = 1\n",
      "    ELLIPSIS = 8\n",
      "    FAIL_FAST = 1024\n",
      "    IGNORE_EXCEPTION_DETAIL = 32\n",
      "    NORMALIZE_WHITESPACE = 4\n",
      "    REPORTING_FLAGS = 1984\n",
      "    REPORT_CDIFF = 128\n",
      "    REPORT_NDIFF = 256\n",
      "    REPORT_ONLY_FIRST_FAILURE = 512\n",
      "    REPORT_UDIFF = 64\n",
      "    SKIP = 16\n",
      "    __all__ = ['register_optionflag', 'DONT_ACCEPT_TRUE_FOR_1', 'DONT_ACCE...\n",
      "    __docformat__ = 'reStructuredText en'\n",
      "    __test__ = {'_TestClass': <class 'doctest._TestClass'>, 'blank lines':...\n",
      "\n",
      "FILE\n",
      "    c:\\users\\admin\\anaconda3\\lib\\doctest.py\n",
      "\n",
      "\n"
     ]
    }
   ],
   "source": [
    "help(doctest)\n"
   ]
  },
  {
   "cell_type": "code",
   "execution_count": 150,
   "id": "9f47f801-d17a-4e37-a80d-bd57e184515e",
   "metadata": {},
   "outputs": [
    {
     "data": {
      "text/plain": [
       "TestResults(failed=0, attempted=2)"
      ]
     },
     "execution_count": 150,
     "metadata": {},
     "output_type": "execute_result"
    }
   ],
   "source": [
    "doctest.testmod()"
   ]
  },
  {
   "cell_type": "markdown",
   "id": "095e9dc3-c0eb-4e74-8246-7599c2d32fc0",
   "metadata": {},
   "source": [
    "### Other testing \n",
    "unitest \n",
    "pytest \n"
   ]
  },
  {
   "cell_type": "code",
   "execution_count": 148,
   "id": "1183733f-390a-41b7-80be-80cc5dd751ef",
   "metadata": {},
   "outputs": [],
   "source": [
    "# test the process \n",
    "def f_to_c(far): \n",
    "    \"\"\" Function to convert celcius to farenheight\n",
    "    >>> f_to_c(212)\n",
    "    100.0\n",
    "    \"\"\"\n",
    "    return (5/9)*(far-32)"
   ]
  },
  {
   "cell_type": "markdown",
   "id": "a0e1e22d-bb85-4d56-bb27-b14976d8054c",
   "metadata": {},
   "source": [
    "# Lab 8 Json and API \n",
    "Lab 8 – Web-based API and JSON   \r\n",
    "Objectiv   e\r\n",
    "To try out interaction with web-based APIs via well-crafted requests in order to consume their response dat   a.\r\n",
    "Questi   ons\r\n",
    "Explore the following web-based API: https://postcode   \n",
    "\n",
    "\n",
    "1.\tIdentify the correct endpoint necessary to lookup a single postcode.   \r\n",
    "2.\tWrite a Python script to create a request using the correct HTTP(S) method and test it with a valid and invalid postcode   .3.\tCode handlers for successful and unsuccessful responses, using appropriate HTTP status codes.  \r\n",
    "4.\tPrint the received data in a suitable format.\r\n",
    "\n",
    "s.io\r\n"
   ]
  },
  {
   "cell_type": "code",
   "execution_count": 195,
   "id": "51e21761-0eee-4081-92ba-1f1eb0278d17",
   "metadata": {
    "scrolled": true
   },
   "outputs": [
    {
     "name": "stdout",
     "output_type": "stream",
     "text": [
      "{   'result': {   'admin_county': None,\n",
      "                  'admin_district': 'Wolverhampton',\n",
      "                  'admin_ward': 'St Peters',\n",
      "                  'ccg': 'NHS Black Country',\n",
      "                  'ced': None,\n",
      "                  'codes': {   'admin_county': 'E99999999',\n",
      "                               'admin_district': 'E08000031',\n",
      "                               'admin_ward': 'E05014853',\n",
      "                               'ccg': 'E38000259',\n",
      "                               'ccg_id': 'D2P2L',\n",
      "                               'ced': 'E99999999',\n",
      "                               'lau2': 'E08000031',\n",
      "                               'lsoa': 'E01010521',\n",
      "                               'msoa': 'E02002168',\n",
      "                               'nuts': 'TLG39',\n",
      "                               'parish': 'E43000185',\n",
      "                               'parliamentary_constituency': 'E14001051',\n",
      "                               'parliamentary_constituency_2024': 'E14001596',\n",
      "                               'pfa': 'E23000014'},\n",
      "                  'country': 'England',\n",
      "                  'date_of_introduction': '198001',\n",
      "                  'eastings': 391207,\n",
      "                  'european_electoral_region': 'West Midlands',\n",
      "                  'incode': '4QR',\n",
      "                  'latitude': 52.590195,\n",
      "                  'longitude': -2.131226,\n",
      "                  'lsoa': 'Wolverhampton 020F',\n",
      "                  'msoa': 'Wolverhampton 020',\n",
      "                  'nhs_ha': 'West Midlands',\n",
      "                  'northings': 299163,\n",
      "                  'nuts': 'Wolverhampton',\n",
      "                  'outcode': 'WV1',\n",
      "                  'parish': 'Wolverhampton, unparished area',\n",
      "                  'parliamentary_constituency': 'Wolverhampton South West',\n",
      "                  'parliamentary_constituency_2024': 'Wolverhampton West',\n",
      "                  'pfa': 'West Midlands',\n",
      "                  'postcode': 'WV1 4QR',\n",
      "                  'primary_care_trust': 'Wolverhampton City',\n",
      "                  'quality': 1,\n",
      "                  'region': 'West Midlands'},\n",
      "    'status': 200}\n"
     ]
    }
   ],
   "source": [
    "import requests\n",
    "import pprint\n",
    "from typing import Dict, Union\n",
    "\n",
    "def get_postcode_data(postcode: str) -> Union[Dict, None]:\n",
    "    \"\"\"\n",
    "    Gets data for the given postcode from the Postcodes.io web-based API.\n",
    "\n",
    "    Args:\n",
    "        postcode (str): The postcode to query.\n",
    "\n",
    "    Returns:\n",
    "        Dict: Response data from the API if the status code is 200\n",
    "        Dict: An error message if status code is 404\n",
    "        None: Where an unexpected status code raises an HTTPError    \n",
    "    \n",
    "    Raises:\n",
    "        HTTPError: If the response contains an HTTP error status code.\n",
    "    \"\"\"\n",
    "    \n",
    "    # construct correct endpoint\n",
    "    url = f\"http://api.postcodes.io/postcodes/{postcode}\"\n",
    "    \n",
    "    # use appropriate HTTP(S) method (GET)\n",
    "    response = requests.get(url)\n",
    "    \n",
    "    if response.status_code == requests.codes.ok:           # 200\n",
    "        return response.json()\n",
    "    elif response.status_code == requests.codes.not_found:  # 404\n",
    "        return {\"error\": \"Postcode not found\"}\n",
    "    else:\n",
    "        response.raise_for_status()                         # raise error\n",
    "\n",
    "\n",
    "if __name__ == \"__main__\":\n",
    "    # set up postcode for request\n",
    "    postcode = \"WV14QR\"\n",
    "\n",
    "    try: \n",
    "        # make request and get data\n",
    "        data = get_postcode_data(postcode)\n",
    "    except requests.exceptions.HTTPError as err:\n",
    "        # whoops!\n",
    "        print(f\"A HTTP error has occurred: {err}\")\n",
    "    else:\n",
    "       # print it neatly\n",
    "       pp = pprint.PrettyPrinter(indent=4)\n",
    "       pp.pprint(data)\n",
    "\n"
   ]
  },
  {
   "cell_type": "code",
   "execution_count": 197,
   "id": "4e722a0f-245b-41cd-abb0-76eee081cf6c",
   "metadata": {},
   "outputs": [
    {
     "data": {
      "text/plain": [
       "{'status': 200,\n",
       " 'result': {'postcode': 'SN25 2DL',\n",
       "  'quality': 1,\n",
       "  'eastings': 412271,\n",
       "  'northings': 189215,\n",
       "  'country': 'England',\n",
       "  'nhs_ha': 'South West',\n",
       "  'longitude': -1.824223,\n",
       "  'latitude': 51.601644,\n",
       "  'european_electoral_region': 'South West',\n",
       "  'primary_care_trust': 'Swindon',\n",
       "  'region': 'South West',\n",
       "  'lsoa': 'Swindon 026F',\n",
       "  'msoa': 'Swindon 026',\n",
       "  'incode': '2DL',\n",
       "  'outcode': 'SN25',\n",
       "  'parliamentary_constituency': 'North Swindon',\n",
       "  'parliamentary_constituency_2024': 'Swindon North',\n",
       "  'admin_district': 'Swindon',\n",
       "  'parish': 'St Andrews',\n",
       "  'admin_county': None,\n",
       "  'date_of_introduction': '200212',\n",
       "  'admin_ward': 'St Andrews',\n",
       "  'ced': None,\n",
       "  'ccg': 'NHS Bath and North East Somerset, Swindon and Wiltshire',\n",
       "  'nuts': 'Swindon',\n",
       "  'pfa': 'Wiltshire',\n",
       "  'codes': {'admin_district': 'E06000030',\n",
       "   'admin_county': 'E99999999',\n",
       "   'admin_ward': 'E05008968',\n",
       "   'parish': 'E04012670',\n",
       "   'parliamentary_constituency': 'E14000851',\n",
       "   'parliamentary_constituency_2024': 'E14001536',\n",
       "   'ccg': 'E38000231',\n",
       "   'ccg_id': '92G',\n",
       "   'ced': 'E99999999',\n",
       "   'nuts': 'TLK14',\n",
       "   'lsoa': 'E01032713',\n",
       "   'msoa': 'E02006847',\n",
       "   'lau2': 'E06000030',\n",
       "   'pfa': 'E23000038'}}}"
      ]
     },
     "execution_count": 197,
     "metadata": {},
     "output_type": "execute_result"
    }
   ],
   "source": [
    "get_postcode_data('SN252DL')"
   ]
  },
  {
   "cell_type": "markdown",
   "id": "204309b7-b229-48ec-a4ea-1db385f2d459",
   "metadata": {},
   "source": [
    "***Note*** requests has changed over the years and sometimes it can cause a problem with other libraries."
   ]
  },
  {
   "cell_type": "code",
   "execution_count": null,
   "id": "51e109b5-e9da-4c48-b0d6-e21371d3d486",
   "metadata": {},
   "outputs": [],
   "source": []
  }
 ],
 "metadata": {
  "kernelspec": {
   "display_name": "Python 3 (ipykernel)",
   "language": "python",
   "name": "python3"
  },
  "language_info": {
   "codemirror_mode": {
    "name": "ipython",
    "version": 3
   },
   "file_extension": ".py",
   "mimetype": "text/x-python",
   "name": "python",
   "nbconvert_exporter": "python",
   "pygments_lexer": "ipython3",
   "version": "3.12.4"
  }
 },
 "nbformat": 4,
 "nbformat_minor": 5
}
