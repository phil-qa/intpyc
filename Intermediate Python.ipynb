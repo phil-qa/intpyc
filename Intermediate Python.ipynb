{
 "cells": [
  {
   "cell_type": "markdown",
   "id": "32e442fd-adff-4e67-b33c-a5b8eb5764ca",
   "metadata": {},
   "source": [
    "# Inermediate Python\r\n",
    "## introduction \r\n",
    "These course notes map to the delivery from Mark   \r\n",
    "- Functions \r\n",
    "- Jupyter Notebook to Standalone Script\r\n",
    "- Advanced Collections\r\n",
    "- Functional Programming for Data Analysis\r\n",
    "- Modules and Packages\r\n",
    "- Error Handling and Exceptions\r\n",
    "- Lightweight Testing\r\n",
    "- Web-based API and JSON\r\n",
    "\r\n",
    "## Course purpose \r\n",
    "To elevate students from a range of python capabilities from rusty to experienced to a common understanding of the language.\r\n",
    "\r\n",
    "- Create well organized and efficient code using functions and modules\r\n",
    "- Create well organized and efficient code from Jupyter Lab notebooks\r\n",
    "- Use advanced collections to support data processing in a more Pythonic manner.\r\n",
    "- Use functional programming to phrase data transformations clearly\r\n",
    "- Create well organised and efficient code using functions and modules\r\n",
    "- Build robust applications with error trapping and reporting\r\n",
    "- Identify opportunities to apply lightweight testing in reusable Python modules\r\n",
    "- Recognize different data structure and serialization formats\r\n",
    "- Use Python to create well—formed HTTP(S) requests to web-based APIs and successfully decode their responses\r\n"
   ]
  },
  {
   "cell_type": "markdown",
   "id": "60b9b638-fb1d-4972-b4a7-7682ae9b06c8",
   "metadata": {},
   "source": [
    "## Part 1 - setting expectations\n"
   ]
  },
  {
   "cell_type": "markdown",
   "id": "1c0cd14f-9f5f-47b5-aa9a-92e31d822ea8",
   "metadata": {},
   "source": [
    "## Part 2 Functions"
   ]
  },
  {
   "cell_type": "code",
   "execution_count": 11,
   "id": "ecc69c3d-2ee4-40fb-9ede-1b14f5ae429f",
   "metadata": {},
   "outputs": [],
   "source": [
    "#examples \n",
    "def make_stars():\n",
    "    print('*' * 8)\n",
    "    "
   ]
  },
  {
   "cell_type": "code",
   "execution_count": 13,
   "id": "9537cf35-5ea1-4f83-9daa-2843e56b8116",
   "metadata": {},
   "outputs": [
    {
     "data": {
      "text/plain": [
       "<function __main__.make_stars()>"
      ]
     },
     "execution_count": 13,
     "metadata": {},
     "output_type": "execute_result"
    }
   ],
   "source": [
    "make_stars"
   ]
  },
  {
   "cell_type": "code",
   "execution_count": 15,
   "id": "ecd201f6-a562-47b4-a835-22e72fe6ae91",
   "metadata": {},
   "outputs": [
    {
     "data": {
      "text/plain": [
       "function"
      ]
     },
     "execution_count": 15,
     "metadata": {},
     "output_type": "execute_result"
    }
   ],
   "source": [
    "type(make_stars)"
   ]
  },
  {
   "cell_type": "code",
   "execution_count": 17,
   "id": "8f9a68d6-62b8-4703-84aa-8ae952178841",
   "metadata": {},
   "outputs": [
    {
     "name": "stdout",
     "output_type": "stream",
     "text": [
      "********\n"
     ]
    },
    {
     "data": {
      "text/plain": [
       "NoneType"
      ]
     },
     "execution_count": 17,
     "metadata": {},
     "output_type": "execute_result"
    }
   ],
   "source": [
    "type(make_stars())"
   ]
  },
  {
   "cell_type": "code",
   "execution_count": 75,
   "id": "b3cff112-470c-4a9f-ab13-0e084d756769",
   "metadata": {},
   "outputs": [
    {
     "name": "stdout",
     "output_type": "stream",
     "text": [
      "['__annotations__', '__builtins__', '__call__', '__class__', '__closure__', '__code__', '__defaults__', '__delattr__', '__dict__', '__dir__', '__doc__', '__eq__', '__format__', '__ge__', '__get__', '__getattribute__', '__getstate__', '__globals__', '__gt__', '__hash__', '__init__', '__init_subclass__', '__kwdefaults__', '__le__', '__lt__', '__module__', '__name__', '__ne__', '__new__', '__qualname__', '__reduce__', '__reduce_ex__', '__repr__', '__setattr__', '__sizeof__', '__str__', '__subclasshook__', '__type_params__']\n"
     ]
    }
   ],
   "source": [
    "print(dir(make_stars))"
   ]
  },
  {
   "cell_type": "markdown",
   "id": "4d8844b2-44cb-4cb3-a643-58172f36402e",
   "metadata": {},
   "source": [
    "The point is made tat even though some of the dunders are listed, it may not be the case that they are fully implemented"
   ]
  },
  {
   "cell_type": "code",
   "execution_count": 24,
   "id": "fbb4137b-8acf-405b-89ae-461bf431c99b",
   "metadata": {},
   "outputs": [],
   "source": [
    "def c_to_f(cel):\n",
    "    fah = cel * 9/5 + 32\n",
    "    return fah\n",
    "    "
   ]
  },
  {
   "cell_type": "code",
   "execution_count": 30,
   "id": "65a14383-2d47-4056-ac05-73e71513dd1c",
   "metadata": {},
   "outputs": [
    {
     "name": "stdout",
     "output_type": "stream",
     "text": [
      "212.0\n",
      "188.6\n"
     ]
    }
   ],
   "source": [
    "print(c_to_f(100))\n",
    "print(c_to_f(0x57))\n"
   ]
  },
  {
   "cell_type": "markdown",
   "id": "60bc3403-6fe9-4ac3-9857-50fa01a4b782",
   "metadata": {},
   "source": [
    "***note*** there is nothing that stops passing invalid values into the function. that is to say there is nothing programatically in there to do that, this needs to be considerd as Python is dynamically typed  To assit us in Python, we can add hints typehints, this is optionsl, and is considered to be documentation: "
   ]
  },
  {
   "cell_type": "code",
   "execution_count": 35,
   "id": "32c07812-de8e-4c6f-b5c9-a200c1c6d98d",
   "metadata": {},
   "outputs": [],
   "source": [
    "def c_to_f(cel : float) -> float:\n",
    "    fah = cel * 9/5 + 32\n",
    "    return fah"
   ]
  },
  {
   "cell_type": "markdown",
   "id": "125064b2-cbf8-4884-b63b-ff08733a1414",
   "metadata": {},
   "source": [
    "This can also be supported by thetyping module in later Python versions. However this is good practice. Note that help wil;l respond to this by showing the type signature. doing dir on this will show annotations in the dunder list "
   ]
  },
  {
   "cell_type": "code",
   "execution_count": 38,
   "id": "da617f4c-0fc7-4060-b908-bde422bf2153",
   "metadata": {},
   "outputs": [
    {
     "name": "stdout",
     "output_type": "stream",
     "text": [
      "Help on function c_to_f in module __main__:\n",
      "\n",
      "c_to_f(cel: float) -> float\n",
      "\n",
      "None\n",
      "['__annotations__', '__builtins__', '__call__', '__class__', '__closure__', '__code__', '__defaults__', '__delattr__', '__dict__', '__dir__', '__doc__', '__eq__', '__format__', '__ge__', '__get__', '__getattribute__', '__getstate__', '__globals__', '__gt__', '__hash__', '__init__', '__init_subclass__', '__kwdefaults__', '__le__', '__lt__', '__module__', '__name__', '__ne__', '__new__', '__qualname__', '__reduce__', '__reduce_ex__', '__repr__', '__setattr__', '__sizeof__', '__str__', '__subclasshook__', '__type_params__']\n",
      "{'cel': <class 'float'>, 'return': <class 'float'>}\n"
     ]
    }
   ],
   "source": [
    "print (help(c_to_f))\n",
    "\n",
    "print(dir(c_to_f))\n",
    "\n",
    "print(c_to_f.__annotations__)\n"
   ]
  },
  {
   "cell_type": "markdown",
   "id": "1d7505e1-1107-4d44-ada4-fe5155540293",
   "metadata": {},
   "source": [
    "***Note*** This does not stop us passing incorrect or malformed data int the function, but it does help a collaborative environment with telling people what is expected.   \n",
    "***Note*** The data in `__annotations__' is in a dictionary format so we could address each key if needed.   \n",
    "\n",
    "### docstring \n",
    "we can also use docstring to give more detailed information that can be of assistance to other developers. \n"
   ]
  },
  {
   "cell_type": "code",
   "execution_count": 43,
   "id": "e5e3fd65-7608-4d58-88ec-00e07e479e56",
   "metadata": {},
   "outputs": [],
   "source": [
    "def c_to_f(cel : float) -> float:\n",
    "    \"\"\" \n",
    "    Function to convert Celcius to Farenheight\n",
    "    >>>c_to_f(100)\n",
    "    212.0\n",
    "    \"\"\"\n",
    "    fah = cel * 9/5 + 32\n",
    "    return fah"
   ]
  },
  {
   "cell_type": "markdown",
   "id": "620a2355-549c-4714-8333-e88395c8f34d",
   "metadata": {},
   "source": [
    "***Note*** in the example we also include a string for inline testing. \n",
    "Worth looking at the dir on this now "
   ]
  },
  {
   "cell_type": "code",
   "execution_count": 46,
   "id": "88495074-a57d-4698-88f0-4041f6704f48",
   "metadata": {},
   "outputs": [
    {
     "name": "stdout",
     "output_type": "stream",
     "text": [
      "['__annotations__', '__builtins__', '__call__', '__class__', '__closure__', '__code__', '__defaults__', '__delattr__', '__dict__', '__dir__', '__doc__', '__eq__', '__format__', '__ge__', '__get__', '__getattribute__', '__getstate__', '__globals__', '__gt__', '__hash__', '__init__', '__init_subclass__', '__kwdefaults__', '__le__', '__lt__', '__module__', '__name__', '__ne__', '__new__', '__qualname__', '__reduce__', '__reduce_ex__', '__repr__', '__setattr__', '__sizeof__', '__str__', '__subclasshook__', '__type_params__']\n"
     ]
    }
   ],
   "source": [
    "print(dir(c_to_f))\n"
   ]
  },
  {
   "cell_type": "code",
   "execution_count": 48,
   "id": "0b9331f2-4159-4a16-a36d-c20dfa2d4346",
   "metadata": {},
   "outputs": [
    {
     "data": {
      "text/plain": [
       "' \\n    Function to convert Celcius to Farenheight\\n    >>>c_to_f(100)\\n    212.0\\n    '"
      ]
     },
     "execution_count": 48,
     "metadata": {},
     "output_type": "execute_result"
    }
   ],
   "source": [
    "c_to_f.__doc__"
   ]
  },
  {
   "cell_type": "code",
   "execution_count": 50,
   "id": "4b32236b-c2f8-4096-9c42-ee91c6602fd6",
   "metadata": {},
   "outputs": [
    {
     "name": "stdout",
     "output_type": "stream",
     "text": [
      "Help on function c_to_f in module __main__:\n",
      "\n",
      "c_to_f(cel: float) -> float\n",
      "    Function to convert Celcius to Farenheight\n",
      "    >>>c_to_f(100)\n",
      "    212.0\n",
      "\n"
     ]
    }
   ],
   "source": [
    "help(c_to_f) # this gets its values from __doc__"
   ]
  },
  {
   "cell_type": "markdown",
   "id": "4ef24ad9-b6ce-4a7d-add1-be744f5cf693",
   "metadata": {},
   "source": [
    "An example when things are not right \n"
   ]
  },
  {
   "cell_type": "code",
   "execution_count": 61,
   "id": "4817e764-88a0-4fe7-aaaf-2de993bfb15f",
   "metadata": {},
   "outputs": [],
   "source": [
    "def calc_sale_price(price, disc):\n",
    "    discount = price * disc/100\n",
    "    saleprice = price - discount\n",
    "    return saleprice\n",
    "    "
   ]
  },
  {
   "cell_type": "markdown",
   "id": "626c732c-a3ce-44a2-9af1-1df06d254bc7",
   "metadata": {},
   "source": [
    "Without documentation there is a posibility that these are in the wrong order we don't know because there is no positional data here. the example is if we get them the wrong way roud then the item reduction is a very different thing.    \n",
    "this can be done in documentation but it is better to do named arguments. \n",
    "\n"
   ]
  },
  {
   "cell_type": "code",
   "execution_count": 66,
   "id": "5ca6db09-b5eb-44e7-b32d-6fe7fc462a65",
   "metadata": {},
   "outputs": [
    {
     "name": "stdout",
     "output_type": "stream",
     "text": [
      "good call 90.0\n",
      "bad call 0.0\n",
      "with good call 90.0\n"
     ]
    }
   ],
   "source": [
    "print ('good call ' + str(calc_sale_price(100, 10)))\n",
    "print ('bad call ' + str(calc_sale_price(10,100)))\n",
    "\n",
    "print ('with good call ' + str(calc_sale_price(price=100, disc=10)))\n",
    "\n"
   ]
  },
  {
   "cell_type": "code",
   "execution_count": 68,
   "id": "4086c03a-afe2-4cc2-a583-d399b895746b",
   "metadata": {},
   "outputs": [],
   "source": [
    "#tightening the operation by using enforced name parameter \n",
    "def calc_sale_price(*, price, disc):\n",
    "    discount = price * disc/100\n",
    "    saleprice = price - discount\n",
    "    return saleprice"
   ]
  },
  {
   "cell_type": "code",
   "execution_count": 70,
   "id": "184b1e07-4663-424c-8b1f-2b1d2a7c7e93",
   "metadata": {},
   "outputs": [
    {
     "ename": "TypeError",
     "evalue": "calc_sale_price() takes 0 positional arguments but 2 were given",
     "output_type": "error",
     "traceback": [
      "\u001b[1;31m---------------------------------------------------------------------------\u001b[0m",
      "\u001b[1;31mTypeError\u001b[0m                                 Traceback (most recent call last)",
      "Cell \u001b[1;32mIn[70], line 1\u001b[0m\n\u001b[1;32m----> 1\u001b[0m calc_sale_price(\u001b[38;5;241m100\u001b[39m,\u001b[38;5;241m10\u001b[39m)\n",
      "\u001b[1;31mTypeError\u001b[0m: calc_sale_price() takes 0 positional arguments but 2 were given"
     ]
    }
   ],
   "source": [
    "calc_sale_price(100,10)"
   ]
  },
  {
   "cell_type": "code",
   "execution_count": 72,
   "id": "d114f5c7-14ad-4656-83fe-9d2b938af8b6",
   "metadata": {},
   "outputs": [
    {
     "data": {
      "text/plain": [
       "90.0"
      ]
     },
     "execution_count": 72,
     "metadata": {},
     "output_type": "execute_result"
    }
   ],
   "source": [
    "calc_sale_price(price=100, disc=10)"
   ]
  },
  {
   "cell_type": "markdown",
   "id": "f5f00e6c-9cad-4a4b-b861-5de1e5d37a46",
   "metadata": {},
   "source": [
    "***Note*** we can also use the / to enforce positional \n",
    "\n",
    "An example of both is sorted"
   ]
  },
  {
   "cell_type": "code",
   "execution_count": 78,
   "id": "80c8a145-f059-4586-88fe-f015edc43112",
   "metadata": {},
   "outputs": [
    {
     "name": "stdout",
     "output_type": "stream",
     "text": [
      "Help on built-in function sorted in module builtins:\n",
      "\n",
      "sorted(iterable, /, *, key=None, reverse=False)\n",
      "    Return a new list containing all items from the iterable in ascending order.\n",
      "\n",
      "    A custom key function can be supplied to customize the sort order, and the\n",
      "    reverse flag can be set to request the result in descending order.\n",
      "\n"
     ]
    }
   ],
   "source": [
    "help(sorted)"
   ]
  },
  {
   "cell_type": "code",
   "execution_count": 80,
   "id": "bde18c7e-9fee-4ce9-bacd-e79b4fb39fe2",
   "metadata": {},
   "outputs": [
    {
     "name": "stdout",
     "output_type": "stream",
     "text": [
      "[66, 44, 22, 10, 3]\n"
     ]
    }
   ],
   "source": [
    "data = [10,22,3,44,66]\n",
    "print (sorted(data, reverse=True))\n"
   ]
  },
  {
   "cell_type": "code",
   "execution_count": 82,
   "id": "9981de90-63d7-47d8-b9d7-91e2d1b054ed",
   "metadata": {},
   "outputs": [
    {
     "data": {
      "text/plain": [
       "['10', '12', '100']"
      ]
     },
     "execution_count": 82,
     "metadata": {},
     "output_type": "execute_result"
    }
   ],
   "source": [
    "data = [\"10\", \"100\", \"12\"]\n",
    "sorted (data, key=int, reverse=False)"
   ]
  },
  {
   "cell_type": "markdown",
   "id": "8b1798bf-5ad1-4923-afba-3ad9f66475ab",
   "metadata": {},
   "source": [
    "***Note*** the key of course can be anything but in this case we are simply passing a builtin, that in this case is the builtin int tha twill operate on each of the elements before sorted executes the sorting function."
   ]
  },
  {
   "cell_type": "markdown",
   "id": "5cfe8095-a807-42de-8dc2-2eff79ac2e50",
   "metadata": {},
   "source": [
    "### Identifying iterable   \n",
    "We can see the iteration by looking at the object for `__iter__`"
   ]
  },
  {
   "cell_type": "code",
   "execution_count": null,
   "id": "281f5c36-04e3-49cd-ae4e-e487f35bcf37",
   "metadata": {},
   "outputs": [],
   "source": []
  }
 ],
 "metadata": {
  "kernelspec": {
   "display_name": "Python 3 (ipykernel)",
   "language": "python",
   "name": "python3"
  },
  "language_info": {
   "codemirror_mode": {
    "name": "ipython",
    "version": 3
   },
   "file_extension": ".py",
   "mimetype": "text/x-python",
   "name": "python",
   "nbconvert_exporter": "python",
   "pygments_lexer": "ipython3",
   "version": "3.12.4"
  }
 },
 "nbformat": 4,
 "nbformat_minor": 5
}
