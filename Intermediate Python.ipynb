{
 "cells": [
  {
   "cell_type": "markdown",
   "id": "32e442fd-adff-4e67-b33c-a5b8eb5764ca",
   "metadata": {},
   "source": [
    "# Inermediate Python\r\n",
    "## introduction \r\n",
    "These course notes map to the delivery from Mark   \r\n",
    "- Functions \r\n",
    "- Jupyter Notebook to Standalone Script\r\n",
    "- Advanced Collections\r\n",
    "- Functional Programming for Data Analysis\r\n",
    "- Modules and Packages\r\n",
    "- Error Handling and Exceptions\r\n",
    "- Lightweight Testing\r\n",
    "- Web-based API and JSON\r\n",
    "\r\n",
    "## Course purpose \r\n",
    "To elevate students from a range of python capabilities from rusty to experienced to a common understanding of the language.\r\n",
    "\r\n",
    "- Create well organized and efficient code using functions and modules\r\n",
    "- Create well organized and efficient code from Jupyter Lab notebooks\r\n",
    "- Use advanced collections to support data processing in a more Pythonic manner.\r\n",
    "- Use functional programming to phrase data transformations clearly\r\n",
    "- Create well organised and efficient code using functions and modules\r\n",
    "- Build robust applications with error trapping and reporting\r\n",
    "- Identify opportunities to apply lightweight testing in reusable Python modules\r\n",
    "- Recognize different data structure and serialization formats\r\n",
    "- Use Python to create well—formed HTTP(S) requests to web-based APIs and successfully decode their responses\r\n"
   ]
  },
  {
   "cell_type": "markdown",
   "id": "60b9b638-fb1d-4972-b4a7-7682ae9b06c8",
   "metadata": {},
   "source": [
    "## Part 1 - setting expectations\n"
   ]
  },
  {
   "cell_type": "markdown",
   "id": "1c0cd14f-9f5f-47b5-aa9a-92e31d822ea8",
   "metadata": {},
   "source": [
    "## Part 2 Functions"
   ]
  },
  {
   "cell_type": "code",
   "execution_count": 11,
   "id": "ecc69c3d-2ee4-40fb-9ede-1b14f5ae429f",
   "metadata": {},
   "outputs": [],
   "source": [
    "#examples \n",
    "def make_stars():\n",
    "    print('*' * 8)\n",
    "    "
   ]
  },
  {
   "cell_type": "code",
   "execution_count": 13,
   "id": "9537cf35-5ea1-4f83-9daa-2843e56b8116",
   "metadata": {},
   "outputs": [
    {
     "data": {
      "text/plain": [
       "<function __main__.make_stars()>"
      ]
     },
     "execution_count": 13,
     "metadata": {},
     "output_type": "execute_result"
    }
   ],
   "source": [
    "make_stars"
   ]
  },
  {
   "cell_type": "code",
   "execution_count": 15,
   "id": "ecd201f6-a562-47b4-a835-22e72fe6ae91",
   "metadata": {},
   "outputs": [
    {
     "data": {
      "text/plain": [
       "function"
      ]
     },
     "execution_count": 15,
     "metadata": {},
     "output_type": "execute_result"
    }
   ],
   "source": [
    "type(make_stars)"
   ]
  },
  {
   "cell_type": "code",
   "execution_count": 17,
   "id": "8f9a68d6-62b8-4703-84aa-8ae952178841",
   "metadata": {},
   "outputs": [
    {
     "name": "stdout",
     "output_type": "stream",
     "text": [
      "********\n"
     ]
    },
    {
     "data": {
      "text/plain": [
       "NoneType"
      ]
     },
     "execution_count": 17,
     "metadata": {},
     "output_type": "execute_result"
    }
   ],
   "source": [
    "type(make_stars())"
   ]
  },
  {
   "cell_type": "code",
   "execution_count": 75,
   "id": "b3cff112-470c-4a9f-ab13-0e084d756769",
   "metadata": {},
   "outputs": [
    {
     "name": "stdout",
     "output_type": "stream",
     "text": [
      "['__annotations__', '__builtins__', '__call__', '__class__', '__closure__', '__code__', '__defaults__', '__delattr__', '__dict__', '__dir__', '__doc__', '__eq__', '__format__', '__ge__', '__get__', '__getattribute__', '__getstate__', '__globals__', '__gt__', '__hash__', '__init__', '__init_subclass__', '__kwdefaults__', '__le__', '__lt__', '__module__', '__name__', '__ne__', '__new__', '__qualname__', '__reduce__', '__reduce_ex__', '__repr__', '__setattr__', '__sizeof__', '__str__', '__subclasshook__', '__type_params__']\n"
     ]
    }
   ],
   "source": [
    "print(dir(make_stars))"
   ]
  },
  {
   "cell_type": "markdown",
   "id": "4d8844b2-44cb-4cb3-a643-58172f36402e",
   "metadata": {},
   "source": [
    "The point is made tat even though some of the dunders are listed, it may not be the case that they are fully implemented"
   ]
  },
  {
   "cell_type": "code",
   "execution_count": 24,
   "id": "fbb4137b-8acf-405b-89ae-461bf431c99b",
   "metadata": {},
   "outputs": [],
   "source": [
    "def c_to_f(cel):\n",
    "    fah = cel * 9/5 + 32\n",
    "    return fah\n",
    "    "
   ]
  },
  {
   "cell_type": "code",
   "execution_count": 30,
   "id": "65a14383-2d47-4056-ac05-73e71513dd1c",
   "metadata": {},
   "outputs": [
    {
     "name": "stdout",
     "output_type": "stream",
     "text": [
      "212.0\n",
      "188.6\n"
     ]
    }
   ],
   "source": [
    "print(c_to_f(100))\n",
    "print(c_to_f(0x57))\n"
   ]
  },
  {
   "cell_type": "markdown",
   "id": "60bc3403-6fe9-4ac3-9857-50fa01a4b782",
   "metadata": {},
   "source": [
    "***note*** there is nothing that stops passing invalid values into the function. that is to say there is nothing programatically in there to do that, this needs to be considerd as Python is dynamically typed  To assit us in Python, we can add hints typehints, this is optionsl, and is considered to be documentation: "
   ]
  },
  {
   "cell_type": "code",
   "execution_count": 35,
   "id": "32c07812-de8e-4c6f-b5c9-a200c1c6d98d",
   "metadata": {},
   "outputs": [],
   "source": [
    "def c_to_f(cel : float) -> float:\n",
    "    fah = cel * 9/5 + 32\n",
    "    return fah"
   ]
  },
  {
   "cell_type": "markdown",
   "id": "125064b2-cbf8-4884-b63b-ff08733a1414",
   "metadata": {},
   "source": [
    "This can also be supported by thetyping module in later Python versions. However this is good practice. Note that help wil;l respond to this by showing the type signature. doing dir on this will show annotations in the dunder list "
   ]
  },
  {
   "cell_type": "code",
   "execution_count": 38,
   "id": "da617f4c-0fc7-4060-b908-bde422bf2153",
   "metadata": {},
   "outputs": [
    {
     "name": "stdout",
     "output_type": "stream",
     "text": [
      "Help on function c_to_f in module __main__:\n",
      "\n",
      "c_to_f(cel: float) -> float\n",
      "\n",
      "None\n",
      "['__annotations__', '__builtins__', '__call__', '__class__', '__closure__', '__code__', '__defaults__', '__delattr__', '__dict__', '__dir__', '__doc__', '__eq__', '__format__', '__ge__', '__get__', '__getattribute__', '__getstate__', '__globals__', '__gt__', '__hash__', '__init__', '__init_subclass__', '__kwdefaults__', '__le__', '__lt__', '__module__', '__name__', '__ne__', '__new__', '__qualname__', '__reduce__', '__reduce_ex__', '__repr__', '__setattr__', '__sizeof__', '__str__', '__subclasshook__', '__type_params__']\n",
      "{'cel': <class 'float'>, 'return': <class 'float'>}\n"
     ]
    }
   ],
   "source": [
    "print (help(c_to_f))\n",
    "\n",
    "print(dir(c_to_f))\n",
    "\n",
    "print(c_to_f.__annotations__)\n"
   ]
  },
  {
   "cell_type": "markdown",
   "id": "1d7505e1-1107-4d44-ada4-fe5155540293",
   "metadata": {},
   "source": [
    "***Note*** This does not stop us passing incorrect or malformed data int the function, but it does help a collaborative environment with telling people what is expected.   \n",
    "***Note*** The data in `__annotations__' is in a dictionary format so we could address each key if needed.   \n",
    "\n",
    "### docstring \n",
    "we can also use docstring to give more detailed information that can be of assistance to other developers. \n"
   ]
  },
  {
   "cell_type": "code",
   "execution_count": 43,
   "id": "e5e3fd65-7608-4d58-88ec-00e07e479e56",
   "metadata": {},
   "outputs": [],
   "source": [
    "def c_to_f(cel : float) -> float:\n",
    "    \"\"\" \n",
    "    Function to convert Celcius to Farenheight\n",
    "    >>>c_to_f(100)\n",
    "    212.0\n",
    "    \"\"\"\n",
    "    fah = cel * 9/5 + 32\n",
    "    return fah"
   ]
  },
  {
   "cell_type": "markdown",
   "id": "620a2355-549c-4714-8333-e88395c8f34d",
   "metadata": {},
   "source": [
    "***Note*** in the example we also include a string for inline testing. \n",
    "Worth looking at the dir on this now "
   ]
  },
  {
   "cell_type": "code",
   "execution_count": 46,
   "id": "88495074-a57d-4698-88f0-4041f6704f48",
   "metadata": {},
   "outputs": [
    {
     "name": "stdout",
     "output_type": "stream",
     "text": [
      "['__annotations__', '__builtins__', '__call__', '__class__', '__closure__', '__code__', '__defaults__', '__delattr__', '__dict__', '__dir__', '__doc__', '__eq__', '__format__', '__ge__', '__get__', '__getattribute__', '__getstate__', '__globals__', '__gt__', '__hash__', '__init__', '__init_subclass__', '__kwdefaults__', '__le__', '__lt__', '__module__', '__name__', '__ne__', '__new__', '__qualname__', '__reduce__', '__reduce_ex__', '__repr__', '__setattr__', '__sizeof__', '__str__', '__subclasshook__', '__type_params__']\n"
     ]
    }
   ],
   "source": [
    "print(dir(c_to_f))\n"
   ]
  },
  {
   "cell_type": "code",
   "execution_count": 48,
   "id": "0b9331f2-4159-4a16-a36d-c20dfa2d4346",
   "metadata": {},
   "outputs": [
    {
     "data": {
      "text/plain": [
       "' \\n    Function to convert Celcius to Farenheight\\n    >>>c_to_f(100)\\n    212.0\\n    '"
      ]
     },
     "execution_count": 48,
     "metadata": {},
     "output_type": "execute_result"
    }
   ],
   "source": [
    "c_to_f.__doc__"
   ]
  },
  {
   "cell_type": "code",
   "execution_count": 50,
   "id": "4b32236b-c2f8-4096-9c42-ee91c6602fd6",
   "metadata": {},
   "outputs": [
    {
     "name": "stdout",
     "output_type": "stream",
     "text": [
      "Help on function c_to_f in module __main__:\n",
      "\n",
      "c_to_f(cel: float) -> float\n",
      "    Function to convert Celcius to Farenheight\n",
      "    >>>c_to_f(100)\n",
      "    212.0\n",
      "\n"
     ]
    }
   ],
   "source": [
    "help(c_to_f) # this gets its values from __doc__"
   ]
  },
  {
   "cell_type": "markdown",
   "id": "4ef24ad9-b6ce-4a7d-add1-be744f5cf693",
   "metadata": {},
   "source": [
    "An example when things are not right \n"
   ]
  },
  {
   "cell_type": "code",
   "execution_count": 61,
   "id": "4817e764-88a0-4fe7-aaaf-2de993bfb15f",
   "metadata": {},
   "outputs": [],
   "source": [
    "def calc_sale_price(price, disc):\n",
    "    discount = price * disc/100\n",
    "    saleprice = price - discount\n",
    "    return saleprice\n",
    "    "
   ]
  },
  {
   "cell_type": "markdown",
   "id": "626c732c-a3ce-44a2-9af1-1df06d254bc7",
   "metadata": {},
   "source": [
    "Without documentation there is a posibility that these are in the wrong order we don't know because there is no positional data here. the example is if we get them the wrong way roud then the item reduction is a very different thing.    \n",
    "this can be done in documentation but it is better to do named arguments. \n",
    "\n"
   ]
  },
  {
   "cell_type": "code",
   "execution_count": 66,
   "id": "5ca6db09-b5eb-44e7-b32d-6fe7fc462a65",
   "metadata": {},
   "outputs": [
    {
     "name": "stdout",
     "output_type": "stream",
     "text": [
      "good call 90.0\n",
      "bad call 0.0\n",
      "with good call 90.0\n"
     ]
    }
   ],
   "source": [
    "print ('good call ' + str(calc_sale_price(100, 10)))\n",
    "print ('bad call ' + str(calc_sale_price(10,100)))\n",
    "\n",
    "print ('with good call ' + str(calc_sale_price(price=100, disc=10)))\n",
    "\n"
   ]
  },
  {
   "cell_type": "code",
   "execution_count": 68,
   "id": "4086c03a-afe2-4cc2-a583-d399b895746b",
   "metadata": {},
   "outputs": [],
   "source": [
    "#tightening the operation by using enforced name parameter \n",
    "def calc_sale_price(*, price, disc):\n",
    "    discount = price * disc/100\n",
    "    saleprice = price - discount\n",
    "    return saleprice"
   ]
  },
  {
   "cell_type": "code",
   "execution_count": 70,
   "id": "184b1e07-4663-424c-8b1f-2b1d2a7c7e93",
   "metadata": {},
   "outputs": [
    {
     "ename": "TypeError",
     "evalue": "calc_sale_price() takes 0 positional arguments but 2 were given",
     "output_type": "error",
     "traceback": [
      "\u001b[1;31m---------------------------------------------------------------------------\u001b[0m",
      "\u001b[1;31mTypeError\u001b[0m                                 Traceback (most recent call last)",
      "Cell \u001b[1;32mIn[70], line 1\u001b[0m\n\u001b[1;32m----> 1\u001b[0m calc_sale_price(\u001b[38;5;241m100\u001b[39m,\u001b[38;5;241m10\u001b[39m)\n",
      "\u001b[1;31mTypeError\u001b[0m: calc_sale_price() takes 0 positional arguments but 2 were given"
     ]
    }
   ],
   "source": [
    "calc_sale_price(100,10)"
   ]
  },
  {
   "cell_type": "code",
   "execution_count": 72,
   "id": "d114f5c7-14ad-4656-83fe-9d2b938af8b6",
   "metadata": {},
   "outputs": [
    {
     "data": {
      "text/plain": [
       "90.0"
      ]
     },
     "execution_count": 72,
     "metadata": {},
     "output_type": "execute_result"
    }
   ],
   "source": [
    "calc_sale_price(price=100, disc=10)"
   ]
  },
  {
   "cell_type": "markdown",
   "id": "f5f00e6c-9cad-4a4b-b861-5de1e5d37a46",
   "metadata": {},
   "source": [
    "***Note*** we can also use the / to enforce positional \n",
    "\n",
    "An example of both is sorted"
   ]
  },
  {
   "cell_type": "code",
   "execution_count": 78,
   "id": "80c8a145-f059-4586-88fe-f015edc43112",
   "metadata": {},
   "outputs": [
    {
     "name": "stdout",
     "output_type": "stream",
     "text": [
      "Help on built-in function sorted in module builtins:\n",
      "\n",
      "sorted(iterable, /, *, key=None, reverse=False)\n",
      "    Return a new list containing all items from the iterable in ascending order.\n",
      "\n",
      "    A custom key function can be supplied to customize the sort order, and the\n",
      "    reverse flag can be set to request the result in descending order.\n",
      "\n"
     ]
    }
   ],
   "source": [
    "help(sorted)"
   ]
  },
  {
   "cell_type": "code",
   "execution_count": 80,
   "id": "bde18c7e-9fee-4ce9-bacd-e79b4fb39fe2",
   "metadata": {},
   "outputs": [
    {
     "name": "stdout",
     "output_type": "stream",
     "text": [
      "[66, 44, 22, 10, 3]\n"
     ]
    }
   ],
   "source": [
    "data = [10,22,3,44,66]\n",
    "print (sorted(data, reverse=True))\n"
   ]
  },
  {
   "cell_type": "code",
   "execution_count": 82,
   "id": "9981de90-63d7-47d8-b9d7-91e2d1b054ed",
   "metadata": {},
   "outputs": [
    {
     "data": {
      "text/plain": [
       "['10', '12', '100']"
      ]
     },
     "execution_count": 82,
     "metadata": {},
     "output_type": "execute_result"
    }
   ],
   "source": [
    "data = [\"10\", \"100\", \"12\"]\n",
    "sorted (data, key=int, reverse=False)"
   ]
  },
  {
   "cell_type": "markdown",
   "id": "8b1798bf-5ad1-4923-afba-3ad9f66475ab",
   "metadata": {},
   "source": [
    "***Note*** the key of course can be anything but in this case we are simply passing a builtin, that in this case is the builtin int tha twill operate on each of the elements before sorted executes the sorting function."
   ]
  },
  {
   "cell_type": "markdown",
   "id": "5cfe8095-a807-42de-8dc2-2eff79ac2e50",
   "metadata": {},
   "source": [
    "### Identifying iterable   \n",
    "We can see the iteration by looking at the object for `__iter__`"
   ]
  },
  {
   "cell_type": "markdown",
   "id": "ae6ee19d-48f4-49d4-b849-c4334e89f9e2",
   "metadata": {},
   "source": [
    "## Variadic functions\n",
    "\n",
    "When we declare a variadic funtion then the variable parameters are put to a tuple \n"
   ]
  },
  {
   "cell_type": "code",
   "execution_count": 87,
   "id": "b101173a-d1ea-47e5-9fe0-e26f8b2e72b5",
   "metadata": {},
   "outputs": [],
   "source": [
    "def a_variable_function(thing, *many_things): \n",
    "    print(thing)\n",
    "    for a_thing in many_things: \n",
    "        print(a_thing)\n",
    "    "
   ]
  },
  {
   "cell_type": "code",
   "execution_count": 89,
   "id": "c1a8adb1-1ced-4328-a5df-9803fcba7293",
   "metadata": {},
   "outputs": [
    {
     "name": "stdout",
     "output_type": "stream",
     "text": [
      "first\n",
      "[1, '10', 'phil']\n"
     ]
    }
   ],
   "source": [
    "some_stuff = [1,\"10\", \"phil\"]\n",
    "a_variable_function('first', some_stuff)\n"
   ]
  },
  {
   "cell_type": "markdown",
   "id": "ae490457-997d-4ae4-80d6-6ed36559f6af",
   "metadata": {},
   "source": [
    "### Keyword arguments\n",
    "\n"
   ]
  },
  {
   "cell_type": "markdown",
   "id": "aa576084-a95d-4c02-abff-14bf3595cac2",
   "metadata": {},
   "source": [
    "## Returning objects from a function \n",
    "Discusses the understanding that an object is an object so we can pass objects into a fuction and get objects out of a function, in the earlier example we passed a function, which is an object into the `sorted()` function.   \n",
    "Similarly we can get a function out as a return value."
   ]
  },
  {
   "cell_type": "markdown",
   "id": "4b13667d-8868-4b05-bb1a-a2da6a308077",
   "metadata": {},
   "source": [
    "### Function annotations \n",
    "It may be the case that we see the annotations could be expressed as string values, this is hte old and loose way of doing things.   \n",
    "\n",
    "However this is not the best because other tooling can use the methods we looked at earlier where we did not add the annotations as qstrings, but as the types they are.   \n",
    "\n",
    "Tools that use this are static analysis tools like mypy  \n",
    "\n",
    "These things can only work with the new way of doing things. \n"
   ]
  },
  {
   "cell_type": "markdown",
   "id": "f2a0c80d-29c6-4603-8387-f0857a1a83c0",
   "metadata": {},
   "source": [
    "### Scope \n",
    "A discussion on scope and accessibility, where something can be seen and used. Functions geenerally keeps things wthin itself, although there is the case explained earler for the default parameter trap.   \n",
    "\n",
    "One example shows this "
   ]
  },
  {
   "cell_type": "code",
   "execution_count": 115,
   "id": "6cb7a027-d8be-4551-91a6-99274ee9eb73",
   "metadata": {},
   "outputs": [
    {
     "name": "stdout",
     "output_type": "stream",
     "text": [
      "before the function num is 10\n",
      "Internal num is 20\n",
      "after the function num is 10\n"
     ]
    }
   ],
   "source": [
    "num = 10\n",
    "\n",
    "def a_function():\n",
    "    num = 20\n",
    "    print(f\"Internal num is {num}\")\n",
    "\n",
    "\n",
    "print (f\"before the function num is {num}\")\n",
    "a_function()\n",
    "\n",
    "print(f\"after the function num is {num}\") \n"
   ]
  },
  {
   "cell_type": "code",
   "execution_count": 117,
   "id": "67ff4e55-fd17-44d2-8fd1-bf37602d61ff",
   "metadata": {},
   "outputs": [
    {
     "name": "stdout",
     "output_type": "stream",
     "text": [
      "before the function num is 10\n",
      "Internal num is 10\n",
      "after the function num is 10\n"
     ]
    }
   ],
   "source": [
    "# the following shows that we can acces the variable as read only \n",
    "num = 10\n",
    "\n",
    "def a_function():\n",
    "    print(f\"Internal num is {num}\")\n",
    "\n",
    "\n",
    "print (f\"before the function num is {num}\")\n",
    "a_function()\n",
    "\n",
    "print(f\"after the function num is {num}\") "
   ]
  },
  {
   "cell_type": "code",
   "execution_count": 113,
   "id": "ea7854ff-fdbe-4e98-b8fe-db8678605baf",
   "metadata": {},
   "outputs": [
    {
     "name": "stdout",
     "output_type": "stream",
     "text": [
      "before the function num is 10\n",
      "Internal num is 20\n",
      "after the function num is 20\n"
     ]
    }
   ],
   "source": [
    "#using global\n",
    "num = 10\n",
    "\n",
    "def a_function():\n",
    "    global num\n",
    "    num = 20\n",
    "    print(f\"Internal num is {num}\")\n",
    "\n",
    "\n",
    "print (f\"before the function num is {num}\")\n",
    "a_function()\n",
    "\n",
    "print(f\"after the function num is {num}\") "
   ]
  },
  {
   "cell_type": "markdown",
   "id": "ca4da481-be15-4cc7-b416-051c5c38940d",
   "metadata": {},
   "source": [
    "### Lambda and map\n",
    "covers the process of lambda and map  \n",
    "#### lambda\n",
    "Temperary function used where a function needs antother to work properly \n",
    "\n"
   ]
  },
  {
   "cell_type": "code",
   "execution_count": 122,
   "id": "6f074ddb-71ca-4545-85f0-b2a62b19ba2b",
   "metadata": {},
   "outputs": [
    {
     "name": "stdout",
     "output_type": "stream",
     "text": [
      "<map object at 0x0000019989461A20>\n",
      "['__class__', '__delattr__', '__dir__', '__doc__', '__eq__', '__format__', '__ge__', '__getattribute__', '__getstate__', '__gt__', '__hash__', '__init__', '__init_subclass__', '__iter__', '__le__', '__lt__', '__ne__', '__new__', '__next__', '__reduce__', '__reduce_ex__', '__repr__', '__setattr__', '__sizeof__', '__str__', '__subclasshook__']\n"
     ]
    }
   ],
   "source": [
    "data = [1,2,3,4,5]\n",
    "\n",
    "squared = map(lambda x: x**2, data)\n",
    "print(squared)\n",
    "print(dir(squared))"
   ]
  },
  {
   "cell_type": "code",
   "execution_count": 124,
   "id": "7713289e-f3b7-4cde-b36e-df348e0efb88",
   "metadata": {},
   "outputs": [
    {
     "data": {
      "text/plain": [
       "[1, 4, 9, 16, 25]"
      ]
     },
     "execution_count": 124,
     "metadata": {},
     "output_type": "execute_result"
    }
   ],
   "source": [
    "list(squared)\n"
   ]
  },
  {
   "cell_type": "markdown",
   "id": "33758c7d-72da-447d-8d5b-8a726dcdffb7",
   "metadata": {},
   "source": [
    "### Filter\n",
    "appling filter to a data structure, note that the difference for map and filter is tjat map will return a result on all operands provided, filter will return filter true conditions"
   ]
  },
  {
   "cell_type": "code",
   "execution_count": 132,
   "id": "31d8758c-ab7e-42f1-bd7f-6165f2910ce7",
   "metadata": {},
   "outputs": [
    {
     "data": {
      "text/plain": [
       "[3, 19, 8]"
      ]
     },
     "execution_count": 132,
     "metadata": {},
     "output_type": "execute_result"
    }
   ],
   "source": [
    "data = [-1,3,-9,19,8,-3]\n",
    "cleaned = list (filter(lambda x: x>0, data))\n",
    "cleaned"
   ]
  },
  {
   "cell_type": "markdown",
   "id": "b83ad8d5-3b55-4203-b9ff-f34e02546b73",
   "metadata": {},
   "source": [
    "Example of using next in an iterable \n"
   ]
  },
  {
   "cell_type": "code",
   "execution_count": 135,
   "id": "aa36eb7f-1bb8-417c-9965-bab0585bb130",
   "metadata": {},
   "outputs": [
    {
     "name": "stdout",
     "output_type": "stream",
     "text": [
      "1\n",
      "4\n"
     ]
    }
   ],
   "source": [
    "data = [1,2,3,4,5]\n",
    "\n",
    "squared = map(lambda x: x**2, data)\n",
    "print(next(squared))\n",
    "print(next(squared))"
   ]
  },
  {
   "cell_type": "markdown",
   "id": "857e74f6-4689-42ce-a914-bfc391f2ca2a",
   "metadata": {
    "jp-MarkdownHeadingCollapsed": true
   },
   "source": [
    "## EG01\n",
    "\n",
    "1.\tCreate a function which takes two arguments: a value and a list. The list should have a default of an empty list, for example:   \r\n",
    "`\r\n",
    "def my_func(value, alist=[]`   \n",
    "\n",
    "\n",
    "):\r\n"
   ]
  },
  {
   "cell_type": "markdown",
   "id": "0fd70c0f-f231-49c8-87fb-b4d260ad5def",
   "metadata": {},
   "source": [
    "## EG01 \n",
    "\n",
    "1.\tCreate a function which takes two arguments: a value and a list. The list should have a default of an empty list, for example:   \r\n",
    "`\r\n",
    "def my_func(value, alist=[] `   ):\r\n",
    "\r\n",
    "\r\n",
    "The function should append the value to the list, then print the contents of the supplied list.  \r\n",
    "Call this function several times with various values, defaulting the list each time. Can you explain the output?\r\n",
    "Can you suggest a solution to the problem?   "
   ]
  },
  {
   "cell_type": "code",
   "execution_count": 139,
   "id": "c6e004a3-d3f5-40fb-b3d7-333f57a2236a",
   "metadata": {},
   "outputs": [
    {
     "data": {
      "text/plain": [
       "[10, 10, 10, 9, 10]"
      ]
     },
     "execution_count": 139,
     "metadata": {},
     "output_type": "execute_result"
    }
   ],
   "source": [
    "def my_func(value, alist=[]):\n",
    "    alist.append(value)\n",
    "    return alist\n",
    "\n",
    "my_func(10,[10,10,10,9])"
   ]
  },
  {
   "cell_type": "code",
   "execution_count": 141,
   "id": "90e738bd-b9f7-427a-9945-e383e801cd86",
   "metadata": {},
   "outputs": [
    {
     "data": {
      "text/plain": [
       "[3]"
      ]
     },
     "execution_count": 141,
     "metadata": {},
     "output_type": "execute_result"
    }
   ],
   "source": [
    "my_func(3)"
   ]
  },
  {
   "cell_type": "code",
   "execution_count": 147,
   "id": "7deb8a7e-3f3d-455a-9569-762d246ea579",
   "metadata": {},
   "outputs": [
    {
     "data": {
      "text/plain": [
       "[3, 'hi', 'there', 3]"
      ]
     },
     "execution_count": 147,
     "metadata": {},
     "output_type": "execute_result"
    }
   ],
   "source": [
    "my_func(3,[3,\"hi\",\"there\"])"
   ]
  },
  {
   "cell_type": "markdown",
   "id": "4ce315be-9ce3-4a5f-8a17-7ee8a83e8775",
   "metadata": {},
   "source": [
    "### EG01.2\n",
    "2.\tA function is required called is_palindrome().   \r\n",
    "Its single responsibility is to examine a string which is passed to it and determine whether (or not) the string is a palindrome, i.e. reads the same forwards and backwards.  The function must (as the name suggests with its “is_” prefix) return a Boolean   .  \r\n",
    "\r\n",
    "Three different levels of complexity are envisag   ed:\r\n",
    "Easy: A simple one-word string, 100% alphabetic in the same case, e.g. RAC   ECAR\r\n",
    "Medium: A string in sentence case which will not have punctuation but may have mixed case and embedded spaces, e.g. A nut for a jar of    tuna\r\n",
    "Hard: A string which may contain any characters, e.g. A man, a plan, a canal, P   anama!"
   ]
  },
  {
   "cell_type": "code",
   "execution_count": 267,
   "id": "ec7d5e2b-1c3e-4d9e-aa31-7d56113adbc0",
   "metadata": {},
   "outputs": [],
   "source": [
    "import math\n",
    "import string\n",
    "\n",
    "def palindromer(content):\n",
    "    #preformat\n",
    "    content = content.lower()\n",
    "    content = content.replace(' ','')\n",
    "    content = ''.join([x for x in content if x not in string.punctuation])\n",
    "    split_content = []\n",
    "    if (len(content)/2)%2 == 0:\n",
    "        split_content = [content[0:len(content/2)], content[len(content/2):]]\n",
    "    else: \n",
    "        split_content = [content[0:math.ceil(len(content)/2)], content[math.floor(len(content)/2):]]\n",
    "    print(split_content[0], ' ', split_content[1])\n",
    "    return split_content[0] == split_content[1][::-1]\n",
    "\n"
   ]
  },
  {
   "cell_type": "code",
   "execution_count": 269,
   "id": "e9886020-f9e5-4fc2-a90b-cda7612666a4",
   "metadata": {},
   "outputs": [
    {
     "name": "stdout",
     "output_type": "stream",
     "text": [
      "race   ecar\n",
      "True\n",
      "kib   ble\n",
      "True\n",
      "anutforaj   jaroftuna\n",
      "True\n",
      "amanaplanac   canalpanama\n",
      "True\n"
     ]
    }
   ],
   "source": [
    "print(palindromer('racecar') == True)\n",
    "print(palindromer('kibble') == False)\n",
    "print(palindromer('A nut for a jar of tuna') == True)\n",
    "print(palindromer('A man, a plan, a canal, Panama!') == True)"
   ]
  },
  {
   "cell_type": "markdown",
   "id": "aaa1201e-251c-4e51-83b2-6e6bb144d9cc",
   "metadata": {},
   "source": [
    "3.\tA lambda function is needed which can be used as a comparator to order the following list of web accesses chronologically:\r\n",
    "data = [[\"192.168.1.123\",\"www.site.com\", \"10/09/20 09:00\"],\r\n",
    "[\"192.168.1.88\",\"www.site2.com\", \"12/08/20 10:03\"],\r\n",
    "[\"192.168.1.88\",\"www.site2.com\", \"12/08/20 10:02\"],\r\n",
    "[\"192.168.1.87\",\"www.site3.com\", \"10/09/20 09:01\"]]"
   ]
  },
  {
   "cell_type": "markdown",
   "id": "41c6c1d4-4341-4d92-8719-29cc05776c36",
   "metadata": {},
   "source": [
    "## Closures\n",
    "The returning of a reference to a function. In Python we can have a nested function and the nested function can be called. In essence hiding the function within the function.   \n",
    "One of tricks we can do with this is a decorator, a more modern way is py syntax.    \n",
    "the following example returns the function raise it, \n"
   ]
  },
  {
   "cell_type": "code",
   "execution_count": 275,
   "id": "6fe41464-5112-4a82-93bb-62c32892a4ac",
   "metadata": {},
   "outputs": [
    {
     "name": "stdout",
     "output_type": "stream",
     "text": [
      "125\n",
      "25\n"
     ]
    }
   ],
   "source": [
    "def raise_power_by(power):\n",
    "    def raise_it(number):\n",
    "        return number ** power\n",
    "    return raise_it\n",
    "\n",
    "#cubing function\n",
    "cube_it = raise_power_by(3)\n",
    "\n",
    "#squaring function\n",
    "square_it = raise_power_by(2)\n",
    "\n",
    "print(cube_it(5))\n",
    "\n",
    "print(square_it(5))\n"
   ]
  },
  {
   "cell_type": "markdown",
   "id": "937d2c16-82c9-4c1d-9464-896876d2e346",
   "metadata": {},
   "source": []
  },
  {
   "cell_type": "markdown",
   "id": "c761a41c-8632-4a60-9693-07fc7891d675",
   "metadata": {},
   "source": [
    "In the example where cube_it is asked for then the returned function will be called when it is used, 3 is bound in to the operation. \n",
    "\n",
    "when we call cube_it then the value that is being passed will go to the inner function and gets an answer back.  \n",
    "\n",
    "In this way we can create a partial version of a function and then call it with the rest. \n",
    "\n",
    "Example calculate discount, looking at that and we see that we could create a generic function, with a hard coded value into the process, eg christmas_promo, summer_promo\n"
   ]
  },
  {
   "cell_type": "markdown",
   "id": "040d307d-efeb-4f0a-be65-d8c4234a07c8",
   "metadata": {},
   "source": [
    "### Decorators\n",
    "In the following example, we can see a decorator being used. Notice that there is a calc_cubes() function that on it's own will calculate cubes in a supplied range. However there is a decorator above it and that will do something. \n",
    "in the my_timer which takes a function (in this case the cube_it). It will execute the function but as can be seen, because it is decorated then the execution of that function its inside the timer_wrapper_function   \n",
    "\n"
   ]
  },
  {
   "cell_type": "code",
   "execution_count": 280,
   "id": "9492d072-c487-4664-91be-8b2594c9f0a7",
   "metadata": {},
   "outputs": [
    {
     "name": "stdout",
     "output_type": "stream",
     "text": [
      "calc_cubes execution time 0.00012 s\n",
      "250500250000\n"
     ]
    }
   ],
   "source": [
    "import time\n",
    "\n",
    "def my_timer(fn):\n",
    "    \"\"\"Display execution time of decorated function\"\"\"\n",
    "    def timer_wrapper_func(*args, **kwargs):\n",
    "        #start the timer\n",
    "        start_t = time.perf_counter()\n",
    "        #call the function\n",
    "        result = fn(*args, **kwargs)\n",
    "        #end timer and work out elapsed time\n",
    "        end_t = time.perf_counter()        \n",
    "        duration = end_t - start_t  \n",
    "        print(f\"{fn.__name__} execution time {duration:.5f} s\")\n",
    "        return result\n",
    "    return timer_wrapper_func\n",
    "\n",
    "@my_timer\n",
    "def calc_cubes(qty):\n",
    "    \"\"\"Return sum of cubes from 1 to n inclusive\"\"\"\n",
    "    value = sum([num**3 for num in range(1,qty+1)])\n",
    "    return value    \n",
    "\n",
    "#calling with decoration is transparent\n",
    "print(calc_cubes(1000))\n"
   ]
  },
  {
   "cell_type": "markdown",
   "id": "8b15e037-5821-4fe1-9391-62d5bbd279cb",
   "metadata": {},
   "source": [
    "***Note*** I did not have to alter the function that was being tested. I can simple remove the decoration and the stand-alone function will operate as successfully in isolation. \n",
    "\n",
    "An example, if I have 20 functions and I need logging around them, am I going to fit that to each function, no I am simply going to decorate it. this is particularly useful in data science. "
   ]
  },
  {
   "cell_type": "markdown",
   "id": "3aebf0cc-c3b9-47a7-adb9-072f1ff8cb7e",
   "metadata": {},
   "source": [
    "# Jupyter notebook\n",
    "(late pm) \n",
    "\n",
    "Jupyter notebooks are indeed a great way of developing experimentally, but there comes a time that we would want to turn it into production and there are a couple of ways in which this couls be done. \n",
    "\n",
    "Create well organized and efficient code from Jupyter Lab notebooks\r\n",
    "`jupyter nbconvert --to python yourfile.ipynb`   \n",
    "\n",
    "***Note*** that nbconvert can be used in automation or as part of a script \n"
   ]
  },
  {
   "cell_type": "code",
   "execution_count": 284,
   "id": "f6d8f5fe-4c3c-440f-9169-093b3027afe7",
   "metadata": {},
   "outputs": [
    {
     "ename": "FileNotFoundError",
     "evalue": "[Errno 2] No such file or directory: 'flight_heatmap.ipynb'",
     "output_type": "error",
     "traceback": [
      "\u001b[1;31m---------------------------------------------------------------------------\u001b[0m",
      "\u001b[1;31mFileNotFoundError\u001b[0m                         Traceback (most recent call last)",
      "Cell \u001b[1;32mIn[284], line 6\u001b[0m\n\u001b[0;32m      3\u001b[0m \u001b[38;5;28;01mfrom\u001b[39;00m \u001b[38;5;21;01mnbconvert\u001b[39;00m \u001b[38;5;28;01mimport\u001b[39;00m HTMLExporter\n\u001b[0;32m      5\u001b[0m \u001b[38;5;66;03m# Load the required notebook file\u001b[39;00m\n\u001b[1;32m----> 6\u001b[0m \u001b[38;5;28;01mwith\u001b[39;00m \u001b[38;5;28mopen\u001b[39m(\u001b[38;5;124m'\u001b[39m\u001b[38;5;124mflight_heatmap.ipynb\u001b[39m\u001b[38;5;124m'\u001b[39m) \u001b[38;5;28;01mas\u001b[39;00m f:\n\u001b[0;32m      7\u001b[0m     notebook_content \u001b[38;5;241m=\u001b[39m nbformat\u001b[38;5;241m.\u001b[39mread(f, as_version\u001b[38;5;241m=\u001b[39m\u001b[38;5;241m4\u001b[39m)\n\u001b[0;32m      9\u001b[0m \u001b[38;5;66;03m# Initialize the HTMLExporter class\u001b[39;00m\n",
      "File \u001b[1;32m~\\anaconda3\\Lib\\site-packages\\IPython\\core\\interactiveshell.py:324\u001b[0m, in \u001b[0;36m_modified_open\u001b[1;34m(file, *args, **kwargs)\u001b[0m\n\u001b[0;32m    317\u001b[0m \u001b[38;5;28;01mif\u001b[39;00m file \u001b[38;5;129;01min\u001b[39;00m {\u001b[38;5;241m0\u001b[39m, \u001b[38;5;241m1\u001b[39m, \u001b[38;5;241m2\u001b[39m}:\n\u001b[0;32m    318\u001b[0m     \u001b[38;5;28;01mraise\u001b[39;00m \u001b[38;5;167;01mValueError\u001b[39;00m(\n\u001b[0;32m    319\u001b[0m         \u001b[38;5;124mf\u001b[39m\u001b[38;5;124m\"\u001b[39m\u001b[38;5;124mIPython won\u001b[39m\u001b[38;5;124m'\u001b[39m\u001b[38;5;124mt let you open fd=\u001b[39m\u001b[38;5;132;01m{\u001b[39;00mfile\u001b[38;5;132;01m}\u001b[39;00m\u001b[38;5;124m by default \u001b[39m\u001b[38;5;124m\"\u001b[39m\n\u001b[0;32m    320\u001b[0m         \u001b[38;5;124m\"\u001b[39m\u001b[38;5;124mas it is likely to crash IPython. If you know what you are doing, \u001b[39m\u001b[38;5;124m\"\u001b[39m\n\u001b[0;32m    321\u001b[0m         \u001b[38;5;124m\"\u001b[39m\u001b[38;5;124myou can use builtins\u001b[39m\u001b[38;5;124m'\u001b[39m\u001b[38;5;124m open.\u001b[39m\u001b[38;5;124m\"\u001b[39m\n\u001b[0;32m    322\u001b[0m     )\n\u001b[1;32m--> 324\u001b[0m \u001b[38;5;28;01mreturn\u001b[39;00m io_open(file, \u001b[38;5;241m*\u001b[39margs, \u001b[38;5;241m*\u001b[39m\u001b[38;5;241m*\u001b[39mkwargs)\n",
      "\u001b[1;31mFileNotFoundError\u001b[0m: [Errno 2] No such file or directory: 'flight_heatmap.ipynb'"
     ]
    }
   ],
   "source": [
    "# Perform necessary imports\n",
    "import nbformat\n",
    "from nbconvert import HTMLExporter\n",
    "\n",
    "# Load the required notebook file\n",
    "with open('flight_heatmap.ipynb') as f:\n",
    "    notebook_content = nbformat.read(f, as_version=4)\n",
    "\n",
    "# Initialize the HTMLExporter class\n",
    "html_exporter = HTMLExporter()\n",
    "\n",
    "# Convert the notebook to HTML\n",
    "body, resources = html_exporter.from_notebook_node(notebook_content)\n",
    "\n",
    "# Write the HTML output to the same folder\n",
    "with open('flight_heatmap.html', 'w') as f:\n",
    "    f.write(body)\n"
   ]
  },
  {
   "cell_type": "markdown",
   "id": "bc3bd0ae-272d-41d7-8097-2fd1813bd313",
   "metadata": {},
   "source": [
    "### EG02 \n",
    "You have been asked to:    \r\n",
    "\r\n",
    "1.\tUse a suitable technique to export this code to a standalone Python scrip   t.\r\n",
    "\r\n",
    "2.\tRefactor this so that it is written using a sequence of functions.  Hint: there may also be redundancies in the code you don’t n   eed.\r\n",
    "\r\n",
    "3.\tExecute and test the script, confirming its external behaviour is unaffected by the refactoring you have perf   ormed.\r\n",
    "\r\n",
    "Once completed, please discuss your refactored solution with your    trainer."
   ]
  },
  {
   "attachments": {},
   "cell_type": "markdown",
   "id": "a072880c-8d82-4e5d-8cc1-c8515008c3c7",
   "metadata": {},
   "source": [
    "### Once the file is exported the following checklist needs to be done \r\n",
    "- Remove any unnecessary comments converted from original markdown\r\n",
    "- Delete any Jupyter cell markers, e.g. # In[1]\r\n",
    "- These are automatically added when the notebook is converted   \r\n",
    "- Refactor monolithic and reusable code into functions using SRP\r\n",
    "- Add an if __name__ == \"__main__\": guard block\r\n",
    "- This ensures your code is only executed when directly executed, not imported.\r\n",
    "- Remove any interactive visualisation aspects, e.g. display(), show() etc.\r\n",
    "- Export them as permanent images instead (less transient and interactive), e.g. using save() etc.\r\n",
    "- Add docstrings to functions and classes\r\n",
    "- Include example doctests to illustrate usage, prep for testing etc.\r\n",
    "- Add comments to explain real-world logic, processes etc.\r\n",
    "- Handle dependencies with requirements.txt\r\n",
    "- This can assist later distribution\r\n",
    "- Follow PEP8 guidelines re: layout and naming conventions\r\n",
    "- Add error handling using try…except…else…finally blocks\r\n",
    "- Add logging to capture run-time errors and information\r\n",
    "- Critical for debugging and monitoring\r\n",
    "- Test thoroughly (functional doctests are a minimum requirement)\r\n",
    "- Commit and push to repository using version control, e.g. Git"
   ]
  },
  {
   "cell_type": "code",
   "execution_count": null,
   "id": "c50d786b-31ce-42d6-bebf-33ae2f3dc0e4",
   "metadata": {},
   "outputs": [],
   "source": []
  }
 ],
 "metadata": {
  "kernelspec": {
   "display_name": "Python 3 (ipykernel)",
   "language": "python",
   "name": "python3"
  },
  "language_info": {
   "codemirror_mode": {
    "name": "ipython",
    "version": 3
   },
   "file_extension": ".py",
   "mimetype": "text/x-python",
   "name": "python",
   "nbconvert_exporter": "python",
   "pygments_lexer": "ipython3",
   "version": "3.12.4"
  }
 },
 "nbformat": 4,
 "nbformat_minor": 5
}
