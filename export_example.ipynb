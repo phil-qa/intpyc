{
 "cells": [
  {
   "cell_type": "markdown",
   "id": "0ee1f575-21b7-487c-8179-22f24008002a",
   "metadata": {},
   "source": [
    "Import appropriate libraries"
   ]
  },
  {
   "cell_type": "code",
   "execution_count": 2,
   "id": "64c60697-5163-4801-a1e5-0ddeac987309",
   "metadata": {},
   "outputs": [],
   "source": [
    "import pandas as pd\n",
    "from collections import Counter\n",
    "from typing import List"
   ]
  },
  {
   "cell_type": "markdown",
   "id": "31b3e660-9a98-4d5d-896d-4d117278a1fd",
   "metadata": {},
   "source": [
    "Set the oppropriate filenames for input and output"
   ]
  },
  {
   "cell_type": "code",
   "execution_count": 42,
   "id": "2b0dcefa-4b2d-4749-a995-b4fb66291b14",
   "metadata": {},
   "outputs": [],
   "source": [
    "input_file = r\".\\emails.csv\"\n",
    "output_file =r\".\\common_domains.csv\"\n"
   ]
  },
  {
   "cell_type": "markdown",
   "id": "8f165174-139b-463b-bc5a-0889a2c0c842",
   "metadata": {},
   "source": [
    "read the data into a pandas dataframe"
   ]
  },
  {
   "cell_type": "code",
   "execution_count": 12,
   "id": "4c62c587-dc9b-42ea-80a5-043e4bed8489",
   "metadata": {},
   "outputs": [],
   "source": [
    "df = pd.read_csv(input_file)"
   ]
  },
  {
   "cell_type": "markdown",
   "id": "e27b81e0-a32d-4b30-bd3f-c350cacc3ffe",
   "metadata": {},
   "source": [
    "Select the column required as a pandas data series"
   ]
  },
  {
   "cell_type": "code",
   "execution_count": 22,
   "id": "0bcbc3ce-be3b-4d82-ad76-0118545b2286",
   "metadata": {},
   "outputs": [],
   "source": [
    "emails = df[\"Email\"]"
   ]
  },
  {
   "cell_type": "code",
   "execution_count": 26,
   "id": "6208daf6-b6cf-4ffb-b66f-12da55e44400",
   "metadata": {},
   "outputs": [],
   "source": [
    "domains= [email.split('@')[1] for email in emails]"
   ]
  },
  {
   "cell_type": "markdown",
   "id": "e8bf5069-2717-430a-8e4a-c012b45145bb",
   "metadata": {},
   "source": [
    "How many occurrences of each domain"
   ]
  },
  {
   "cell_type": "code",
   "execution_count": 31,
   "id": "0f3f880e-d8d5-47ff-9830-482e8b249b0a",
   "metadata": {},
   "outputs": [],
   "source": [
    "counter = Counter(domains)"
   ]
  },
  {
   "cell_type": "markdown",
   "id": "aa005280-e245-4e22-b2ea-c6725d312aaa",
   "metadata": {},
   "source": [
    "Create a new pandas dataframe with the domain and counts tallied, in ascending order"
   ]
  },
  {
   "cell_type": "code",
   "execution_count": 34,
   "id": "bcdb86a8-21dc-42bc-891f-f58a9a55d853",
   "metadata": {},
   "outputs": [],
   "source": [
    "ordered_domains = pd.DataFrame(counter.items(), columns=['Domain', 'Count']).sort_values(by='Count', ascending=False)"
   ]
  },
  {
   "cell_type": "markdown",
   "id": "e667eff1-a65e-40de-a3ee-04df5afd17a3",
   "metadata": {},
   "source": [
    "Grab the top 3 entries"
   ]
  },
  {
   "cell_type": "code",
   "execution_count": 37,
   "id": "896fd74f-4b10-4e51-81ce-0d21b561d8b3",
   "metadata": {},
   "outputs": [],
   "source": [
    "data = ordered_domains.head(3)"
   ]
  },
  {
   "cell_type": "code",
   "execution_count": 39,
   "id": "7191114d-9431-4298-8cc2-a8b8bf0821a4",
   "metadata": {},
   "outputs": [
    {
     "name": "stdout",
     "output_type": "stream",
     "text": [
      "        Domain  Count\n",
      "2     demo.com     10\n",
      "0  example.com      9\n",
      "3   sample.com      9\n"
     ]
    }
   ],
   "source": [
    "print(data)"
   ]
  },
  {
   "cell_type": "markdown",
   "id": "01678a32-c8f1-4a25-90a5-cbf66b178cb4",
   "metadata": {},
   "source": [
    "write to a new CSV file"
   ]
  },
  {
   "cell_type": "code",
   "execution_count": 46,
   "id": "1e29765a-514c-426a-bf91-2914587f973d",
   "metadata": {},
   "outputs": [],
   "source": [
    "data.to_csv(output_file, index=False)"
   ]
  }
 ],
 "metadata": {
  "kernelspec": {
   "display_name": "Python 3 (ipykernel)",
   "language": "python",
   "name": "python3"
  },
  "language_info": {
   "codemirror_mode": {
    "name": "ipython",
    "version": 3
   },
   "file_extension": ".py",
   "mimetype": "text/x-python",
   "name": "python",
   "nbconvert_exporter": "python",
   "pygments_lexer": "ipython3",
   "version": "3.12.4"
  }
 },
 "nbformat": 4,
 "nbformat_minor": 5
}
